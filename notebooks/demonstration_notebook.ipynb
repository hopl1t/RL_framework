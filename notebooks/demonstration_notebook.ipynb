{
  "nbformat": 4,
  "nbformat_minor": 0,
  "metadata": {
    "accelerator": "GPU",
    "colab": {
      "name": "lunar_lander_vizualization.ipynb",
      "provenance": [],
      "collapsed_sections": []
    },
    "kernelspec": {
      "display_name": "Python 3",
      "name": "python3"
    },
    "language_info": {
      "name": "python"
    }
  },
  "cells": [
    {
      "cell_type": "markdown",
      "metadata": {
        "id": "ruzZi85ThHzY"
      },
      "source": [
        "# Reinforcement learning - Final project demo notebook\n",
        "## Nir Weingarten - ID 302528435"
      ]
    },
    {
      "cell_type": "code",
      "metadata": {
        "colab": {
          "base_uri": "https://localhost:8080/"
        },
        "id": "qp4BprpNzSg0",
        "outputId": "3a67201b-68c3-4f82-db0f-e493bc72e2ca"
      },
      "source": [
        "!git clone https://github.com/hopl1t/sokoban_rl.git"
      ],
      "execution_count": 1,
      "outputs": [
        {
          "output_type": "stream",
          "text": [
            "Cloning into 'sokoban_rl'...\n",
            "remote: Enumerating objects: 329, done.\u001b[K\n",
            "remote: Counting objects: 100% (329/329), done.\u001b[K\n",
            "remote: Compressing objects: 100% (199/199), done.\u001b[K\n",
            "remote: Total 329 (delta 225), reused 229 (delta 125), pack-reused 0\u001b[K\n",
            "Receiving objects: 100% (329/329), 1.20 MiB | 670.00 KiB/s, done.\n",
            "Resolving deltas: 100% (225/225), done.\n"
          ],
          "name": "stdout"
        }
      ]
    },
    {
      "cell_type": "code",
      "metadata": {
        "colab": {
          "base_uri": "https://localhost:8080/"
        },
        "id": "57W1WvNbilia",
        "outputId": "ece2ddd9-34cb-4ea5-ac39-2ec3b9beb48f"
      },
      "source": [
        "!cd sokoban_rl && git pull"
      ],
      "execution_count": null,
      "outputs": [
        {
          "name": "stdout",
          "output_type": "stream",
          "text": [
            "Already up to date.\n"
          ]
        }
      ]
    },
    {
      "cell_type": "code",
      "metadata": {
        "id": "pdulmcZ_zeoW",
        "colab": {
          "base_uri": "https://localhost:8080/"
        },
        "outputId": "f6021f1d-4bff-4846-f665-dfeb9df90a8b"
      },
      "source": [
        "!pip install gym\n",
        "!apt-get install python-opengl -y\n",
        "!apt install xvfb -y\n",
        "!pip install pyvirtualdisplay\n",
        "!pip install piglet\n",
        "!apt-get install -y xvfb x11-utils\n",
        "!pip install gym[box2d]==0.17.* pyvirtualdisplay==0.2.* PyOpenGL==3.1.* PyOpenGL-accelerate==3.1.*\n",
        "from pyvirtualdisplay import Display\n",
        "display = Display(visible=0, size=(1400, 900))\n",
        "display.start()\n",
        "import gym\n",
        "from gym import logger as gymlogger\n",
        "from gym.wrappers import Monitor\n",
        "gymlogger.set_level(40) # error only\n",
        "import tensorflow as tf\n",
        "import numpy as np\n",
        "import random\n",
        "import matplotlib\n",
        "import matplotlib.pyplot as plt\n",
        "%matplotlib inline\n",
        "import math\n",
        "import glob\n",
        "import io\n",
        "import base64\n",
        "from IPython.display import HTML\n",
        "from IPython import display as ipythondisplay\n",
        "!pip install gym[box2d]\n",
        "!pip install gym_sokoban\n",
        "import os\n",
        "os.chdir('sokoban_rl')\n",
        "import time\n",
        "import pandas as pd\n",
        "from a2c_agent import *\n",
        "from dqn_agent import *\n",
        "import pickle\n",
        "from models import *\n",
        "import utils"
      ],
      "execution_count": 2,
      "outputs": [
        {
          "output_type": "stream",
          "text": [
            "Requirement already satisfied: gym in /usr/local/lib/python3.7/dist-packages (0.17.3)\n",
            "Requirement already satisfied: numpy>=1.10.4 in /usr/local/lib/python3.7/dist-packages (from gym) (1.19.5)\n",
            "Requirement already satisfied: pyglet<=1.5.0,>=1.4.0 in /usr/local/lib/python3.7/dist-packages (from gym) (1.5.0)\n",
            "Requirement already satisfied: cloudpickle<1.7.0,>=1.2.0 in /usr/local/lib/python3.7/dist-packages (from gym) (1.3.0)\n",
            "Requirement already satisfied: scipy in /usr/local/lib/python3.7/dist-packages (from gym) (1.4.1)\n",
            "Requirement already satisfied: future in /usr/local/lib/python3.7/dist-packages (from pyglet<=1.5.0,>=1.4.0->gym) (0.16.0)\n",
            "Reading package lists... Done\n",
            "Building dependency tree       \n",
            "Reading state information... Done\n",
            "The following package was automatically installed and is no longer required:\n",
            "  libnvidia-common-460\n",
            "Use 'apt autoremove' to remove it.\n",
            "Suggested packages:\n",
            "  libgle3\n",
            "The following NEW packages will be installed:\n",
            "  python-opengl\n",
            "0 upgraded, 1 newly installed, 0 to remove and 40 not upgraded.\n",
            "Need to get 496 kB of archives.\n",
            "After this operation, 5,416 kB of additional disk space will be used.\n",
            "Get:1 http://archive.ubuntu.com/ubuntu bionic/universe amd64 python-opengl all 3.1.0+dfsg-1 [496 kB]\n",
            "Fetched 496 kB in 0s (2,923 kB/s)\n",
            "Selecting previously unselected package python-opengl.\n",
            "(Reading database ... 148486 files and directories currently installed.)\n",
            "Preparing to unpack .../python-opengl_3.1.0+dfsg-1_all.deb ...\n",
            "Unpacking python-opengl (3.1.0+dfsg-1) ...\n",
            "Setting up python-opengl (3.1.0+dfsg-1) ...\n",
            "Reading package lists... Done\n",
            "Building dependency tree       \n",
            "Reading state information... Done\n",
            "The following package was automatically installed and is no longer required:\n",
            "  libnvidia-common-460\n",
            "Use 'apt autoremove' to remove it.\n",
            "The following NEW packages will be installed:\n",
            "  xvfb\n",
            "0 upgraded, 1 newly installed, 0 to remove and 40 not upgraded.\n",
            "Need to get 784 kB of archives.\n",
            "After this operation, 2,270 kB of additional disk space will be used.\n",
            "Get:1 http://archive.ubuntu.com/ubuntu bionic-updates/universe amd64 xvfb amd64 2:1.19.6-1ubuntu4.9 [784 kB]\n",
            "Fetched 784 kB in 0s (7,667 kB/s)\n",
            "Selecting previously unselected package xvfb.\n",
            "(Reading database ... 150841 files and directories currently installed.)\n",
            "Preparing to unpack .../xvfb_2%3a1.19.6-1ubuntu4.9_amd64.deb ...\n",
            "Unpacking xvfb (2:1.19.6-1ubuntu4.9) ...\n",
            "Setting up xvfb (2:1.19.6-1ubuntu4.9) ...\n",
            "Processing triggers for man-db (2.8.3-2ubuntu0.1) ...\n",
            "Collecting pyvirtualdisplay\n",
            "  Downloading PyVirtualDisplay-2.2-py3-none-any.whl (15 kB)\n",
            "Collecting EasyProcess\n",
            "  Downloading EasyProcess-0.3-py2.py3-none-any.whl (7.9 kB)\n",
            "Installing collected packages: EasyProcess, pyvirtualdisplay\n",
            "Successfully installed EasyProcess-0.3 pyvirtualdisplay-2.2\n",
            "Collecting piglet\n",
            "  Downloading piglet-1.0.0-py2.py3-none-any.whl (2.2 kB)\n",
            "Collecting piglet-templates\n",
            "  Downloading piglet_templates-1.2.0-py3-none-any.whl (67 kB)\n",
            "\u001b[K     |████████████████████████████████| 67 kB 5.2 MB/s \n",
            "\u001b[?25hRequirement already satisfied: astunparse in /usr/local/lib/python3.7/dist-packages (from piglet-templates->piglet) (1.6.3)\n",
            "Requirement already satisfied: pyparsing in /usr/local/lib/python3.7/dist-packages (from piglet-templates->piglet) (2.4.7)\n",
            "Requirement already satisfied: markupsafe in /usr/local/lib/python3.7/dist-packages (from piglet-templates->piglet) (2.0.1)\n",
            "Requirement already satisfied: attrs in /usr/local/lib/python3.7/dist-packages (from piglet-templates->piglet) (21.2.0)\n",
            "Requirement already satisfied: wheel<1.0,>=0.23.0 in /usr/local/lib/python3.7/dist-packages (from astunparse->piglet-templates->piglet) (0.37.0)\n",
            "Requirement already satisfied: six<2.0,>=1.6.1 in /usr/local/lib/python3.7/dist-packages (from astunparse->piglet-templates->piglet) (1.15.0)\n",
            "Installing collected packages: piglet-templates, piglet\n",
            "Successfully installed piglet-1.0.0 piglet-templates-1.2.0\n",
            "Reading package lists... Done\n",
            "Building dependency tree       \n",
            "Reading state information... Done\n",
            "xvfb is already the newest version (2:1.19.6-1ubuntu4.9).\n",
            "The following package was automatically installed and is no longer required:\n",
            "  libnvidia-common-460\n",
            "Use 'apt autoremove' to remove it.\n",
            "Suggested packages:\n",
            "  mesa-utils\n",
            "The following NEW packages will be installed:\n",
            "  libxxf86dga1 x11-utils\n",
            "0 upgraded, 2 newly installed, 0 to remove and 40 not upgraded.\n",
            "Need to get 209 kB of archives.\n",
            "After this operation, 711 kB of additional disk space will be used.\n",
            "Get:1 http://archive.ubuntu.com/ubuntu bionic/main amd64 libxxf86dga1 amd64 2:1.1.4-1 [13.7 kB]\n",
            "Get:2 http://archive.ubuntu.com/ubuntu bionic/main amd64 x11-utils amd64 7.7+3build1 [196 kB]\n",
            "Fetched 209 kB in 0s (2,534 kB/s)\n",
            "Selecting previously unselected package libxxf86dga1:amd64.\n",
            "(Reading database ... 150848 files and directories currently installed.)\n",
            "Preparing to unpack .../libxxf86dga1_2%3a1.1.4-1_amd64.deb ...\n",
            "Unpacking libxxf86dga1:amd64 (2:1.1.4-1) ...\n",
            "Selecting previously unselected package x11-utils.\n",
            "Preparing to unpack .../x11-utils_7.7+3build1_amd64.deb ...\n",
            "Unpacking x11-utils (7.7+3build1) ...\n",
            "Setting up libxxf86dga1:amd64 (2:1.1.4-1) ...\n",
            "Setting up x11-utils (7.7+3build1) ...\n",
            "Processing triggers for man-db (2.8.3-2ubuntu0.1) ...\n",
            "Processing triggers for libc-bin (2.27-3ubuntu1.2) ...\n",
            "/sbin/ldconfig.real: /usr/local/lib/python3.7/dist-packages/ideep4py/lib/libmkldnn.so.0 is not a symbolic link\n",
            "\n",
            "Requirement already satisfied: gym[box2d]==0.17.* in /usr/local/lib/python3.7/dist-packages (0.17.3)\n",
            "Collecting pyvirtualdisplay==0.2.*\n",
            "  Downloading PyVirtualDisplay-0.2.5-py2.py3-none-any.whl (13 kB)\n",
            "Requirement already satisfied: PyOpenGL==3.1.* in /usr/local/lib/python3.7/dist-packages (3.1.5)\n",
            "Collecting PyOpenGL-accelerate==3.1.*\n",
            "  Downloading PyOpenGL-accelerate-3.1.5.tar.gz (538 kB)\n",
            "\u001b[K     |████████████████████████████████| 538 kB 15.8 MB/s \n",
            "\u001b[?25hRequirement already satisfied: EasyProcess in /usr/local/lib/python3.7/dist-packages (from pyvirtualdisplay==0.2.*) (0.3)\n",
            "Requirement already satisfied: numpy>=1.10.4 in /usr/local/lib/python3.7/dist-packages (from gym[box2d]==0.17.*) (1.19.5)\n",
            "Requirement already satisfied: pyglet<=1.5.0,>=1.4.0 in /usr/local/lib/python3.7/dist-packages (from gym[box2d]==0.17.*) (1.5.0)\n",
            "Requirement already satisfied: scipy in /usr/local/lib/python3.7/dist-packages (from gym[box2d]==0.17.*) (1.4.1)\n",
            "Requirement already satisfied: cloudpickle<1.7.0,>=1.2.0 in /usr/local/lib/python3.7/dist-packages (from gym[box2d]==0.17.*) (1.3.0)\n",
            "Collecting box2d-py~=2.3.5\n",
            "  Downloading box2d_py-2.3.8-cp37-cp37m-manylinux1_x86_64.whl (448 kB)\n",
            "\u001b[K     |████████████████████████████████| 448 kB 61.7 MB/s \n",
            "\u001b[?25hRequirement already satisfied: future in /usr/local/lib/python3.7/dist-packages (from pyglet<=1.5.0,>=1.4.0->gym[box2d]==0.17.*) (0.16.0)\n",
            "Building wheels for collected packages: PyOpenGL-accelerate\n",
            "  Building wheel for PyOpenGL-accelerate (setup.py) ... \u001b[?25l\u001b[?25hdone\n",
            "  Created wheel for PyOpenGL-accelerate: filename=PyOpenGL_accelerate-3.1.5-cp37-cp37m-linux_x86_64.whl size=1599537 sha256=c139f2d272a0f3d611409632766f176fa6d91146a0636f23d3799c3cda6c7667\n",
            "  Stored in directory: /root/.cache/pip/wheels/1c/f5/6f/169afb3f2d476c5e807f8515b3c9bc9b819c3962316aa804eb\n",
            "Successfully built PyOpenGL-accelerate\n",
            "Installing collected packages: box2d-py, pyvirtualdisplay, PyOpenGL-accelerate\n",
            "  Attempting uninstall: pyvirtualdisplay\n",
            "    Found existing installation: PyVirtualDisplay 2.2\n",
            "    Uninstalling PyVirtualDisplay-2.2:\n",
            "      Successfully uninstalled PyVirtualDisplay-2.2\n",
            "Successfully installed PyOpenGL-accelerate-3.1.5 box2d-py-2.3.8 pyvirtualdisplay-0.2.5\n",
            "Requirement already satisfied: gym[box2d] in /usr/local/lib/python3.7/dist-packages (0.17.3)\n",
            "Requirement already satisfied: cloudpickle<1.7.0,>=1.2.0 in /usr/local/lib/python3.7/dist-packages (from gym[box2d]) (1.3.0)\n",
            "Requirement already satisfied: numpy>=1.10.4 in /usr/local/lib/python3.7/dist-packages (from gym[box2d]) (1.19.5)\n",
            "Requirement already satisfied: pyglet<=1.5.0,>=1.4.0 in /usr/local/lib/python3.7/dist-packages (from gym[box2d]) (1.5.0)\n",
            "Requirement already satisfied: scipy in /usr/local/lib/python3.7/dist-packages (from gym[box2d]) (1.4.1)\n",
            "Requirement already satisfied: box2d-py~=2.3.5 in /usr/local/lib/python3.7/dist-packages (from gym[box2d]) (2.3.8)\n",
            "Requirement already satisfied: future in /usr/local/lib/python3.7/dist-packages (from pyglet<=1.5.0,>=1.4.0->gym[box2d]) (0.16.0)\n",
            "Collecting gym_sokoban\n",
            "  Downloading gym_sokoban-0.0.6-py3-none-any.whl (36 kB)\n",
            "Requirement already satisfied: numpy>=1.14.1 in /usr/local/lib/python3.7/dist-packages (from gym_sokoban) (1.19.5)\n",
            "Requirement already satisfied: imageio>=2.3.0 in /usr/local/lib/python3.7/dist-packages (from gym_sokoban) (2.4.1)\n",
            "Requirement already satisfied: requests>=2.22.0 in /usr/local/lib/python3.7/dist-packages (from gym_sokoban) (2.23.0)\n",
            "Requirement already satisfied: tqdm>=4.32.1 in /usr/local/lib/python3.7/dist-packages (from gym_sokoban) (4.62.0)\n",
            "Requirement already satisfied: gym>=0.2.3 in /usr/local/lib/python3.7/dist-packages (from gym_sokoban) (0.17.3)\n",
            "Requirement already satisfied: pyglet<=1.5.0,>=1.4.0 in /usr/local/lib/python3.7/dist-packages (from gym>=0.2.3->gym_sokoban) (1.5.0)\n",
            "Requirement already satisfied: scipy in /usr/local/lib/python3.7/dist-packages (from gym>=0.2.3->gym_sokoban) (1.4.1)\n",
            "Requirement already satisfied: cloudpickle<1.7.0,>=1.2.0 in /usr/local/lib/python3.7/dist-packages (from gym>=0.2.3->gym_sokoban) (1.3.0)\n",
            "Requirement already satisfied: pillow in /usr/local/lib/python3.7/dist-packages (from imageio>=2.3.0->gym_sokoban) (7.1.2)\n",
            "Requirement already satisfied: future in /usr/local/lib/python3.7/dist-packages (from pyglet<=1.5.0,>=1.4.0->gym>=0.2.3->gym_sokoban) (0.16.0)\n",
            "Requirement already satisfied: idna<3,>=2.5 in /usr/local/lib/python3.7/dist-packages (from requests>=2.22.0->gym_sokoban) (2.10)\n",
            "Requirement already satisfied: certifi>=2017.4.17 in /usr/local/lib/python3.7/dist-packages (from requests>=2.22.0->gym_sokoban) (2021.5.30)\n",
            "Requirement already satisfied: chardet<4,>=3.0.2 in /usr/local/lib/python3.7/dist-packages (from requests>=2.22.0->gym_sokoban) (3.0.4)\n",
            "Requirement already satisfied: urllib3!=1.25.0,!=1.25.1,<1.26,>=1.21.1 in /usr/local/lib/python3.7/dist-packages (from requests>=2.22.0->gym_sokoban) (1.24.3)\n",
            "Installing collected packages: gym-sokoban\n",
            "Successfully installed gym-sokoban-0.0.6\n"
          ],
          "name": "stdout"
        }
      ]
    },
    {
      "cell_type": "code",
      "metadata": {
        "id": "39uV3Y-erbFI"
      },
      "source": [
        "def moving_average(iterable, window):\n",
        "    averages = []\n",
        "    for i in range(1, len(iterable)):\n",
        "        averages.append(np.mean(iterable[max(0, i-window):i]))\n",
        "    return averages\n",
        "\n",
        "def show_video():\n",
        "  mp4list = glob.glob('video/*.mp4')\n",
        "  if len(mp4list) > 0:\n",
        "    mp4 = mp4list[0]\n",
        "    video = io.open(mp4, 'r+b').read()\n",
        "    encoded = base64.b64encode(video)\n",
        "    ipythondisplay.display(HTML(data='''<video alt=\"test\" autoplay \n",
        "                loop controls style=\"height: 400px;\">\n",
        "                <source src=\"data:video/mp4;base64,{0}\" type=\"video/mp4\" />\n",
        "             </video>'''.format(encoded.decode('ascii'))))\n",
        "  else: \n",
        "    print(\"Could not find video\")\n",
        "\n",
        "def wrap_env(env):\n",
        "    env = Monitor(env, './video', force=True)\n",
        "    return env\n",
        "\n",
        "def plot_results(all_episode_rewards, title, window=100):\n",
        "    window = 100\n",
        "    fig, axes = plt.subplots(1, 1, figsize=(15, 7))\n",
        "    axes.plot(all_episode_rewards)\n",
        "    axes.plot(moving_average(all_episode_rewards, window=window))\n",
        "    _ = axes.set_title('All episode rewards', fontsize=14)\n",
        "    _ = axes.legend(['sum of reward per episode','moving average over {} eisodes'\n",
        "                    .format(window)])\n",
        "    _ = axes.set_xlabel('episode', fontsize=14)\n",
        "    _ = axes.set_ylabel('rewards', fontsize=14)\n",
        "    _ = fig.suptitle(title, fontsize=18)"
      ],
      "execution_count": 3,
      "outputs": []
    },
    {
      "cell_type": "markdown",
      "metadata": {
        "id": "FDdzoXLr0dl7"
      },
      "source": [
        "## Lunar lander\n",
        "In this section different agents and models are used to learn Lunar Lander\n",
        "\n",
        "All agents are trained using the 'cone trick' and various tuned hyperparameters\n",
        "\n",
        "Environment is Lunar lander continuous v2"
      ]
    },
    {
      "cell_type": "code",
      "metadata": {
        "id": "C6rSTdMqi0SG"
      },
      "source": [
        "all_agents = {}"
      ],
      "execution_count": null,
      "outputs": []
    },
    {
      "cell_type": "markdown",
      "metadata": {
        "id": "8Hcl_onphg7p"
      },
      "source": [
        "### A2C setting 1 - discretisized action space\n",
        "Action space is automatically split into 2X15 discrete actions (13 per axis)"
      ]
    },
    {
      "cell_type": "code",
      "metadata": {
        "colab": {
          "base_uri": "https://localhost:8080/"
        },
        "id": "9UWsWK3VhguR",
        "outputId": "b18b72ec-e457-45cc-ca38-15f5f15e0a0e"
      },
      "source": [
        "!rm -r ./saved_agents/a2c_1 \n",
        "!mkdir ./saved_agents/a2c_1 && python trainer.py -env LunarLanderContinuous-v2 -model DiscreteActorCritic -epochs 3000 -obs_type BOX2D -action_type DISCRETIZIED  -print_interval 100 -eval_interval 400 -save_dir ./saved_agents/a2c_1 -log_dir . -log_interval 0 -lr 0.005 -num_discrete 15 -scheduler_gamma 0.75 -scheduler_interval 300 -hidden_size 256 -beta 0.003\n",
        "with open(glob.glob('./saved_agents/a2c_1/*')[0], 'rb') as f:\n",
        "    agent = pickle.load(f)\n",
        "all_agents['a2c discretisized'] = agent"
      ],
      "execution_count": null,
      "outputs": [
        {
          "name": "stdout",
          "output_type": "stream",
          "text": [
            "Using CUDA\n",
            "********** Evaluation **********\n",
            "Evaluation on last 100 episodes:\tmean: -561.633\tmin: -970.027\t\tmax: -306.639\t\t%completed levels (sokoban only): 0.000\n",
            "eps: 100, stats for last 100 eps:\tavg eps reward: -293.598\t\tavg eps step reward: -1.858\t\tavg eps length: 157.080\t avg time: 0.251\ttricks_used:0\n",
            "eps: 200, stats for last 100 eps:\tavg eps reward: -165.288\t\tavg eps step reward: -0.949\t\tavg eps length: 174.250\t avg time: 0.288\ttricks_used:0\n",
            "eps: 300, stats for last 100 eps:\tavg eps reward: -59.639\t\tavg eps step reward: -0.298\t\tavg eps length: 199.870\t avg time: 0.372\ttricks_used:0\n",
            "stepped scheduler, new lr: 0.00375\n",
            "eps: 400, stats for last 100 eps:\tavg eps reward: 34.520\t\tavg eps step reward: 0.150\t\tavg eps length: 230.280\t avg time: 0.389\ttricks_used:0\n",
            "********** Evaluation **********\n",
            "Evaluation on last 100 episodes:\tmean: -102.587\tmin: -309.462\t\tmax: 142.316\t\t%completed levels (sokoban only): 0.000\n",
            "eps: 500, stats for last 100 eps:\tavg eps reward: -39.479\t\tavg eps step reward: -0.138\t\tavg eps length: 285.160\t avg time: 0.626\ttricks_used:0\n",
            "eps: 600, stats for last 100 eps:\tavg eps reward: 177.275\t\tavg eps step reward: 0.420\t\tavg eps length: 422.380\t avg time: 0.928\ttricks_used:0\n",
            "stepped scheduler, new lr: 0.00281\n",
            "eps: 700, stats for last 100 eps:\tavg eps reward: 133.466\t\tavg eps step reward: 0.275\t\tavg eps length: 485.190\t avg time: 1.234\ttricks_used:0\n",
            "eps: 800, stats for last 100 eps:\tavg eps reward: 192.736\t\tavg eps step reward: 0.467\t\tavg eps length: 412.920\t avg time: 0.899\ttricks_used:0\n",
            "********** Evaluation **********\n",
            "Evaluation on last 100 episodes:\tmean: 158.273\tmin: -310.390\t\tmax: 222.906\t\t%completed levels (sokoban only): 0.000\n",
            "********** episode 804, Last 100 train episodes averaged 200 points **********\n",
            "Saved agent to ./saved_agents/a2c_1/DiscreteActorCritic_LunarLanderContinuous-v2_2108201508.pkl\n",
            "Killed env gen process\n"
          ]
        }
      ]
    },
    {
      "cell_type": "markdown",
      "metadata": {
        "id": "egV1p-YvhgkJ"
      },
      "source": [
        "### A2C setting 2 - fixed action space\n",
        "Action space is 8 pre defined action tuples"
      ]
    },
    {
      "cell_type": "code",
      "metadata": {
        "colab": {
          "base_uri": "https://localhost:8080/"
        },
        "id": "M2PWlC6Wh-ii",
        "outputId": "99e95ff4-d0a6-4797-b97f-03d77de03663"
      },
      "source": [
        "!rm -r ./saved_agents/a2c_2\n",
        "!mkdir ./saved_agents/a2c_2 && python trainer.py -env LunarLanderContinuous-v2 -model CommonActorCritic -epochs 3000 -obs_type BOX2D -action_type FIXED_LUNAR -print_interval 100 -eval_interval 400 -save_dir ./saved_agents/a2c_2 -log_dir . -log_interval 0 -lr 0.005 -num_discrete 15 -scheduler_gamma 0.75 -scheduler_interval 400 -hidden_size 256 -beta 0.003\n",
        "with open(glob.glob('./saved_agents/a2c_2/*')[0], 'rb') as f:\n",
        "    agent = pickle.load(f)\n",
        "all_agents['a2c fixed'] = agent"
      ],
      "execution_count": null,
      "outputs": [
        {
          "name": "stdout",
          "output_type": "stream",
          "text": [
            "Using CUDA\n",
            "********** Evaluation **********\n",
            "Evaluation on last 100 episodes:\tmean: -188.917\tmin: -403.082\t\tmax: -47.648\t\t%completed levels (sokoban only): 0.000\n",
            "eps: 100, stats for last 100 eps:\tavg eps reward: -114.947\t\tavg eps step reward: -0.857\t\tavg eps length: 133.180\t avg time: 0.189\ttricks_used:0\n",
            "eps: 200, stats for last 100 eps:\tavg eps reward: -103.364\t\tavg eps step reward: -0.662\t\tavg eps length: 156.050\t avg time: 0.227\ttricks_used:0\n",
            "eps: 300, stats for last 100 eps:\tavg eps reward: -88.331\t\tavg eps step reward: -0.728\t\tavg eps length: 121.390\t avg time: 0.157\ttricks_used:0\n",
            "eps: 400, stats for last 100 eps:\tavg eps reward: -14.908\t\tavg eps step reward: -0.076\t\tavg eps length: 196.760\t avg time: 0.295\ttricks_used:0\n",
            "stepped scheduler, new lr: 0.00375\n",
            "********** Evaluation **********\n",
            "Evaluation on last 100 episodes:\tmean: -13.424\tmin: -244.751\t\tmax: 231.404\t\t%completed levels (sokoban only): 0.000\n",
            "eps: 500, stats for last 100 eps:\tavg eps reward: 91.111\t\tavg eps step reward: 0.261\t\tavg eps length: 348.590\t avg time: 0.598\ttricks_used:0\n",
            "eps: 600, stats for last 100 eps:\tavg eps reward: 96.191\t\tavg eps step reward: 0.239\t\tavg eps length: 402.580\t avg time: 0.735\ttricks_used:0\n",
            "eps: 700, stats for last 100 eps:\tavg eps reward: 126.396\t\tavg eps step reward: 0.416\t\tavg eps length: 303.840\t avg time: 0.529\ttricks_used:0\n",
            "eps: 800, stats for last 100 eps:\tavg eps reward: 176.066\t\tavg eps step reward: 0.699\t\tavg eps length: 251.950\t avg time: 0.366\ttricks_used:0\n",
            "stepped scheduler, new lr: 0.00281\n",
            "********** Evaluation **********\n",
            "Evaluation on last 100 episodes:\tmean: 105.033\tmin: -246.402\t\tmax: 288.442\t\t%completed levels (sokoban only): 0.000\n",
            "eps: 900, stats for last 100 eps:\tavg eps reward: 143.399\t\tavg eps step reward: 0.433\t\tavg eps length: 330.810\t avg time: 0.507\ttricks_used:0\n",
            "eps: 1000, stats for last 100 eps:\tavg eps reward: 158.329\t\tavg eps step reward: 0.362\t\tavg eps length: 437.430\t avg time: 0.795\ttricks_used:0\n",
            "eps: 1100, stats for last 100 eps:\tavg eps reward: 54.453\t\tavg eps step reward: 0.095\t\tavg eps length: 571.000\t avg time: 1.218\ttricks_used:0\n",
            "eps: 1200, stats for last 100 eps:\tavg eps reward: 139.586\t\tavg eps step reward: 0.339\t\tavg eps length: 411.660\t avg time: 0.723\ttricks_used:0\n",
            "stepped scheduler, new lr: 0.00211\n",
            "********** Evaluation **********\n",
            "Evaluation on last 100 episodes:\tmean: 173.954\tmin: -172.144\t\tmax: 308.051\t\t%completed levels (sokoban only): 0.000\n",
            "eps: 1300, stats for last 100 eps:\tavg eps reward: 171.866\t\tavg eps step reward: 0.536\t\tavg eps length: 320.720\t avg time: 0.501\ttricks_used:0\n",
            "eps: 1400, stats for last 100 eps:\tavg eps reward: 138.935\t\tavg eps step reward: 0.324\t\tavg eps length: 429.400\t avg time: 0.772\ttricks_used:0\n",
            "********** episode 1462, Last 100 train episodes averaged 200 points **********\n",
            "Saved agent to ./saved_agents/a2c_2/CommonActorCritic_LunarLanderContinuous-v2_2108201508.pkl\n",
            "Killed env gen process\n"
          ]
        }
      ]
    },
    {
      "cell_type": "markdown",
      "metadata": {
        "id": "V315UgoHh-Td"
      },
      "source": [
        "### A2C setting 3 - Gaussian action space\n",
        "Action space is a pair of $(\\mu,\\sigma)$ tuples that is used to generate continuous action over both axes"
      ]
    },
    {
      "cell_type": "code",
      "metadata": {
        "colab": {
          "base_uri": "https://localhost:8080/"
        },
        "id": "N50dLG0lh-LN",
        "outputId": "ae0a9489-82ca-476b-d463-d38d3b808811"
      },
      "source": [
        "!rm -r ./saved_agents/a2c_3\n",
        "!mkdir ./saved_agents/a2c_3 && python trainer.py -env LunarLanderContinuous-v2 -model GaussianActorCritic -epochs 3000 -obs_type BOX2D -action_type GAUSSIAN -print_interval 100 -save_dir ./saved_agents/a2c_3 -log_dir . -log_interval 0 -lr 0.001 -num_discrete 15 -scheduler_gamma 0.75 -scheduler_interval 800 -hidden_size 256 -beta 0.003\n",
        "with open(glob.glob('./saved_agents/a2c_3/*')[0], 'rb') as f:\n",
        "    agent = pickle.load(f)\n",
        "all_agents['a2c gaussian'] = agent"
      ],
      "execution_count": null,
      "outputs": [
        {
          "name": "stdout",
          "output_type": "stream",
          "text": [
            "Using CUDA\n",
            "eps: 100, stats for last 100 eps:\tavg eps reward: -625.521\t\tavg eps step reward: -4.221\t\tavg eps length: 147.370\t avg time: 0.251\ttricks_used:0\n",
            "eps: 200, stats for last 100 eps:\tavg eps reward: -791.525\t\tavg eps step reward: -5.902\t\tavg eps length: 134.120\t avg time: 0.209\ttricks_used:0\n",
            "eps: 300, stats for last 100 eps:\tavg eps reward: -778.614\t\tavg eps step reward: -5.911\t\tavg eps length: 131.720\t avg time: 0.204\ttricks_used:0\n",
            "eps: 400, stats for last 100 eps:\tavg eps reward: -697.335\t\tavg eps step reward: -5.151\t\tavg eps length: 135.380\t avg time: 0.211\ttricks_used:0\n",
            "eps: 500, stats for last 100 eps:\tavg eps reward: -639.978\t\tavg eps step reward: -4.798\t\tavg eps length: 133.380\t avg time: 0.208\ttricks_used:0\n",
            "eps: 600, stats for last 100 eps:\tavg eps reward: -653.994\t\tavg eps step reward: -4.736\t\tavg eps length: 138.090\t avg time: 0.217\ttricks_used:0\n",
            "eps: 700, stats for last 100 eps:\tavg eps reward: -610.352\t\tavg eps step reward: -4.811\t\tavg eps length: 126.870\t avg time: 0.194\ttricks_used:0\n",
            "eps: 800, stats for last 100 eps:\tavg eps reward: -633.523\t\tavg eps step reward: -4.901\t\tavg eps length: 129.260\t avg time: 0.199\ttricks_used:0\n",
            "stepped scheduler, new lr: 0.00075\n",
            "eps: 900, stats for last 100 eps:\tavg eps reward: -668.297\t\tavg eps step reward: -4.648\t\tavg eps length: 143.780\t avg time: 0.226\ttricks_used:0\n",
            "eps: 1000, stats for last 100 eps:\tavg eps reward: -581.857\t\tavg eps step reward: -4.543\t\tavg eps length: 128.080\t avg time: 0.197\ttricks_used:0\n",
            "eps: 1100, stats for last 100 eps:\tavg eps reward: -607.393\t\tavg eps step reward: -4.674\t\tavg eps length: 129.960\t avg time: 0.219\ttricks_used:0\n",
            "eps: 1200, stats for last 100 eps:\tavg eps reward: -765.858\t\tavg eps step reward: -4.971\t\tavg eps length: 154.070\t avg time: 0.260\ttricks_used:0\n",
            "eps: 1300, stats for last 100 eps:\tavg eps reward: -687.317\t\tavg eps step reward: -6.449\t\tavg eps length: 106.570\t avg time: 0.158\ttricks_used:0\n",
            "eps: 1400, stats for last 100 eps:\tavg eps reward: -830.301\t\tavg eps step reward: -8.606\t\tavg eps length: 96.480\t avg time: 0.148\ttricks_used:0\n",
            "eps: 1500, stats for last 100 eps:\tavg eps reward: -616.347\t\tavg eps step reward: -4.964\t\tavg eps length: 124.170\t avg time: 0.187\ttricks_used:0\n",
            "eps: 1600, stats for last 100 eps:\tavg eps reward: -604.253\t\tavg eps step reward: -5.071\t\tavg eps length: 119.150\t avg time: 0.182\ttricks_used:0\n",
            "stepped scheduler, new lr: 0.00056\n",
            "eps: 1700, stats for last 100 eps:\tavg eps reward: -579.500\t\tavg eps step reward: -4.406\t\tavg eps length: 131.540\t avg time: 0.212\ttricks_used:0\n",
            "eps: 1800, stats for last 100 eps:\tavg eps reward: -633.179\t\tavg eps step reward: -5.401\t\tavg eps length: 117.230\t avg time: 0.178\ttricks_used:0\n",
            "eps: 1900, stats for last 100 eps:\tavg eps reward: -530.179\t\tavg eps step reward: -3.676\t\tavg eps length: 144.240\t avg time: 0.230\ttricks_used:0\n",
            "eps: 2000, stats for last 100 eps:\tavg eps reward: -549.034\t\tavg eps step reward: -3.990\t\tavg eps length: 137.600\t avg time: 0.212\ttricks_used:0\n",
            "eps: 2100, stats for last 100 eps:\tavg eps reward: -537.522\t\tavg eps step reward: -4.321\t\tavg eps length: 124.410\t avg time: 0.188\ttricks_used:0\n",
            "eps: 2200, stats for last 100 eps:\tavg eps reward: -432.679\t\tavg eps step reward: -3.767\t\tavg eps length: 114.870\t avg time: 0.177\ttricks_used:0\n",
            "eps: 2300, stats for last 100 eps:\tavg eps reward: -461.526\t\tavg eps step reward: -3.661\t\tavg eps length: 126.060\t avg time: 0.200\ttricks_used:0\n",
            "eps: 2400, stats for last 100 eps:\tavg eps reward: -528.512\t\tavg eps step reward: -4.175\t\tavg eps length: 126.600\t avg time: 0.202\ttricks_used:0\n",
            "stepped scheduler, new lr: 0.00042\n",
            "eps: 2500, stats for last 100 eps:\tavg eps reward: -671.443\t\tavg eps step reward: -5.476\t\tavg eps length: 122.620\t avg time: 0.188\ttricks_used:0\n",
            "eps: 2600, stats for last 100 eps:\tavg eps reward: -941.332\t\tavg eps step reward: -10.434\t\tavg eps length: 90.220\t avg time: 0.138\ttricks_used:0\n",
            "eps: 2700, stats for last 100 eps:\tavg eps reward: -623.895\t\tavg eps step reward: -8.967\t\tavg eps length: 69.580\t avg time: 0.101\ttricks_used:0\n",
            "eps: 2800, stats for last 100 eps:\tavg eps reward: -592.579\t\tavg eps step reward: -8.718\t\tavg eps length: 67.970\t avg time: 0.102\ttricks_used:0\n",
            "eps: 2900, stats for last 100 eps:\tavg eps reward: -752.575\t\tavg eps step reward: -9.750\t\tavg eps length: 77.190\t avg time: 0.124\ttricks_used:0\n",
            "---------- Finished training ----------\n",
            "Killed env gen process\n",
            "Saved agent to ./saved_agents/a2c_3/GaussianActorCritic_LunarLanderContinuous-v2_2108201508.pkl\n",
            "Killed env gen process\n"
          ]
        }
      ]
    },
    {
      "cell_type": "markdown",
      "metadata": {
        "id": "6cK1nwdGh-DI"
      },
      "source": [
        "### A2C setting 4 - Convolutional NN model\n",
        "Action space is discretisized like in the first trail only now to common layer is a 1D convolutional layer"
      ]
    },
    {
      "cell_type": "code",
      "metadata": {
        "colab": {
          "base_uri": "https://localhost:8080/"
        },
        "id": "ROgH9Ylqh97D",
        "outputId": "673a9c16-9314-452d-eff8-d6ce2a799ff3"
      },
      "source": [
        "!rm -r ./saved_agents/a2c_4\n",
        "!mkdir ./saved_agents/a2c_4 && python trainer.py -env LunarLanderContinuous-v2 -model DiscreteConvActorCritic -epochs 3000 -obs_type BOX2D -action_type DISCRETIZIED -print_interval 100 -eval_interval 400 -save_dir ./saved_agents/a2c_4 -log_dir . -log_interval 0 -lr 0.005 -num_discrete 13 -scheduler_gamma 0.75 -scheduler_interval 500 -hidden_size 256 -beta 0.003\n",
        "with open(glob.glob('./saved_agents/a2c_4/*')[0], 'rb') as f:\n",
        "    agent = pickle.load(f)\n",
        "all_agents['a2c gaussian'] = agent"
      ],
      "execution_count": null,
      "outputs": [
        {
          "name": "stdout",
          "output_type": "stream",
          "text": [
            "Using CUDA\n",
            "********** Evaluation **********\n",
            "Evaluation on last 100 episodes:\tmean: -826.696\tmin: -1465.293\t\tmax: -468.829\t\t%completed levels (sokoban only): 0.000\n",
            "eps: 100, stats for last 100 eps:\tavg eps reward: -343.394\t\tavg eps step reward: -2.508\t\tavg eps length: 135.800\t avg time: 0.241\ttricks_used:0\n",
            "eps: 200, stats for last 100 eps:\tavg eps reward: -180.923\t\tavg eps step reward: -1.574\t\tavg eps length: 114.920\t avg time: 0.197\ttricks_used:0\n",
            "eps: 300, stats for last 100 eps:\tavg eps reward: -128.709\t\tavg eps step reward: -1.093\t\tavg eps length: 117.790\t avg time: 0.221\ttricks_used:0\n",
            "eps: 400, stats for last 100 eps:\tavg eps reward: -465.500\t\tavg eps step reward: -6.942\t\tavg eps length: 67.060\t avg time: 0.104\ttricks_used:0\n",
            "********** Evaluation **********\n",
            "Evaluation on last 100 episodes:\tmean: -468.764\tmin: -812.062\t\tmax: -227.510\t\t%completed levels (sokoban only): 0.000\n",
            "eps: 500, stats for last 100 eps:\tavg eps reward: -460.738\t\tavg eps step reward: -6.987\t\tavg eps length: 65.940\t avg time: 0.104\ttricks_used:0\n",
            "stepped scheduler, new lr: 0.00375\n",
            "eps: 600, stats for last 100 eps:\tavg eps reward: -462.545\t\tavg eps step reward: -7.019\t\tavg eps length: 65.900\t avg time: 0.105\ttricks_used:0\n",
            "eps: 700, stats for last 100 eps:\tavg eps reward: -477.043\t\tavg eps step reward: -7.108\t\tavg eps length: 67.110\t avg time: 0.106\ttricks_used:0\n",
            "eps: 800, stats for last 100 eps:\tavg eps reward: -471.873\t\tavg eps step reward: -6.953\t\tavg eps length: 67.870\t avg time: 0.107\ttricks_used:0\n",
            "********** Evaluation **********\n",
            "Evaluation on last 100 episodes:\tmean: -474.163\tmin: -813.667\t\tmax: -244.230\t\t%completed levels (sokoban only): 0.000\n",
            "eps: 900, stats for last 100 eps:\tavg eps reward: -463.866\t\tavg eps step reward: -6.852\t\tavg eps length: 67.700\t avg time: 0.108\ttricks_used:0\n",
            "eps: 1000, stats for last 100 eps:\tavg eps reward: -477.737\t\tavg eps step reward: -7.086\t\tavg eps length: 67.420\t avg time: 0.106\ttricks_used:0\n",
            "stepped scheduler, new lr: 0.00281\n",
            "eps: 1100, stats for last 100 eps:\tavg eps reward: -483.140\t\tavg eps step reward: -7.140\t\tavg eps length: 67.670\t avg time: 0.108\ttricks_used:0\n",
            "eps: 1200, stats for last 100 eps:\tavg eps reward: -467.063\t\tavg eps step reward: -7.069\t\tavg eps length: 66.070\t avg time: 0.104\ttricks_used:0\n",
            "********** Evaluation **********\n",
            "Evaluation on last 100 episodes:\tmean: -467.982\tmin: -742.952\t\tmax: -255.577\t\t%completed levels (sokoban only): 0.000\n",
            "eps: 1300, stats for last 100 eps:\tavg eps reward: -472.272\t\tavg eps step reward: -7.087\t\tavg eps length: 66.640\t avg time: 0.105\ttricks_used:0\n",
            "eps: 1400, stats for last 100 eps:\tavg eps reward: -472.152\t\tavg eps step reward: -7.077\t\tavg eps length: 66.720\t avg time: 0.105\ttricks_used:0\n",
            "eps: 1500, stats for last 100 eps:\tavg eps reward: -475.017\t\tavg eps step reward: -7.022\t\tavg eps length: 67.650\t avg time: 0.106\ttricks_used:0\n",
            "stepped scheduler, new lr: 0.00211\n",
            "eps: 1600, stats for last 100 eps:\tavg eps reward: -475.406\t\tavg eps step reward: -7.061\t\tavg eps length: 67.330\t avg time: 0.105\ttricks_used:0\n",
            "********** Evaluation **********\n",
            "Evaluation on last 100 episodes:\tmean: -467.138\tmin: -820.448\t\tmax: -202.359\t\t%completed levels (sokoban only): 0.000\n",
            "eps: 1700, stats for last 100 eps:\tavg eps reward: -464.641\t\tavg eps step reward: -7.076\t\tavg eps length: 65.660\t avg time: 0.102\ttricks_used:0\n",
            "eps: 1800, stats for last 100 eps:\tavg eps reward: -469.108\t\tavg eps step reward: -6.992\t\tavg eps length: 67.090\t avg time: 0.104\ttricks_used:0\n",
            "eps: 1900, stats for last 100 eps:\tavg eps reward: -482.351\t\tavg eps step reward: -7.209\t\tavg eps length: 66.910\t avg time: 0.105\ttricks_used:0\n",
            "eps: 2000, stats for last 100 eps:\tavg eps reward: -472.051\t\tavg eps step reward: -7.044\t\tavg eps length: 67.010\t avg time: 0.105\ttricks_used:0\n",
            "stepped scheduler, new lr: 0.00158\n",
            "********** Evaluation **********\n",
            "Evaluation on last 100 episodes:\tmean: -468.953\tmin: -786.512\t\tmax: -210.995\t\t%completed levels (sokoban only): 0.000\n",
            "eps: 2100, stats for last 100 eps:\tavg eps reward: -462.392\t\tavg eps step reward: -6.896\t\tavg eps length: 67.050\t avg time: 0.104\ttricks_used:0\n",
            "eps: 2200, stats for last 100 eps:\tavg eps reward: -466.486\t\tavg eps step reward: -7.087\t\tavg eps length: 65.820\t avg time: 0.103\ttricks_used:0\n",
            "eps: 2300, stats for last 100 eps:\tavg eps reward: -471.164\t\tavg eps step reward: -7.059\t\tavg eps length: 66.750\t avg time: 0.103\ttricks_used:0\n",
            "eps: 2400, stats for last 100 eps:\tavg eps reward: -470.894\t\tavg eps step reward: -6.882\t\tavg eps length: 68.420\t avg time: 0.107\ttricks_used:0\n",
            "********** Evaluation **********\n",
            "Evaluation on last 100 episodes:\tmean: -461.714\tmin: -777.245\t\tmax: -270.916\t\t%completed levels (sokoban only): 0.000\n",
            "eps: 2500, stats for last 100 eps:\tavg eps reward: -446.365\t\tavg eps step reward: -6.949\t\tavg eps length: 64.230\t avg time: 0.102\ttricks_used:0\n",
            "stepped scheduler, new lr: 0.00119\n",
            "eps: 2600, stats for last 100 eps:\tavg eps reward: -490.688\t\tavg eps step reward: -7.185\t\tavg eps length: 68.290\t avg time: 0.107\ttricks_used:0\n",
            "eps: 2700, stats for last 100 eps:\tavg eps reward: -497.618\t\tavg eps step reward: -7.138\t\tavg eps length: 69.710\t avg time: 0.110\ttricks_used:0\n",
            "eps: 2800, stats for last 100 eps:\tavg eps reward: -464.473\t\tavg eps step reward: -7.043\t\tavg eps length: 65.950\t avg time: 0.103\ttricks_used:0\n",
            "********** Evaluation **********\n",
            "Evaluation on last 100 episodes:\tmean: -466.212\tmin: -789.154\t\tmax: -256.028\t\t%completed levels (sokoban only): 0.000\n",
            "eps: 2900, stats for last 100 eps:\tavg eps reward: -477.695\t\tavg eps step reward: -7.020\t\tavg eps length: 68.050\t avg time: 0.105\ttricks_used:0\n",
            "---------- Finished training ----------\n",
            "Killed env gen process\n",
            "Saved agent to ./saved_agents/a2c_4/DiscreteConvActorCritic_LunarLanderContinuous-v2_2108201608.pkl\n",
            "Killed env gen process\n"
          ]
        }
      ]
    },
    {
      "cell_type": "markdown",
      "metadata": {
        "id": "hSAvNrnFh9ye"
      },
      "source": [
        "### DQN setting 1 - Epsilon greedy + use PER\n",
        "Action space is a fixed set, training epsilon greedy and PER"
      ]
    },
    {
      "cell_type": "code",
      "metadata": {
        "colab": {
          "base_uri": "https://localhost:8080/"
        },
        "id": "rXva_oJ5h9qN",
        "outputId": "52a1dfc9-2b80-47cb-d23c-7a3097f466a0"
      },
      "source": [
        "!rm -r ./saved_agents/dqn_1\n",
        "!mkdir ./saved_agents/dqn_1 && python trainer.py -env LunarLanderContinuous-v2 -model SimpleDQN -agent DQNAgent -epochs 3000 -obs_type BOX2D -action_type FIXED_LUNAR -print_interval 100 -eval_interval 400 -save_dir ./saved_agents/dqn_1 -log_dir . -log_interval 0 -lr 0.002 -num_discrete 15 -scheduler_gamma 0.75 -scheduler_interval 600 -hidden_size 512 -beta 0.003 -epsilon 1 -epsilon_decay 0.999\n",
        "with open(glob.glob('./saved_agents/dqn_1/*')[0], 'rb') as f:\n",
        "    agent = pickle.load(f)\n",
        "all_agents['dqn epsilon greedy using PER'] = agent"
      ],
      "execution_count": null,
      "outputs": [
        {
          "output_type": "stream",
          "text": [
            "Using CUDA\n",
            "********** Evaluation **********\n",
            "Evaluation on last 100 episodes:\tmean: -569.967\tmin: -1178.830\t\tmax: -325.050\t\t%completed levels (sokoban only): 0.000\n",
            "eps: 100, stats for last 100 eps:\tavg eps reward: -200.112\t\tavg eps step reward: -1.837\t\tavg eps length: 107.910\t avg time: 0.108\ttricks_used:0\n",
            "eps: 200, stats for last 100 eps:\tavg eps reward: -192.358\t\tavg eps step reward: -1.571\t\tavg eps length: 122.470\t avg time: 0.129\ttricks_used:0\n",
            "eps: 300, stats for last 100 eps:\tavg eps reward: -182.949\t\tavg eps step reward: -1.425\t\tavg eps length: 128.370\t avg time: 0.150\ttricks_used:0\n",
            "eps: 400, stats for last 100 eps:\tavg eps reward: -162.269\t\tavg eps step reward: -0.973\t\tavg eps length: 166.700\t avg time: 0.224\ttricks_used:0\n",
            "********** Evaluation **********\n",
            "Evaluation on last 100 episodes:\tmean: -125.671\tmin: -255.197\t\tmax: 74.948\t\t%completed levels (sokoban only): 0.000\n",
            "eps: 500, stats for last 100 eps:\tavg eps reward: -139.441\t\tavg eps step reward: -0.563\t\tavg eps length: 247.650\t avg time: 0.436\ttricks_used:0\n",
            "eps: 600, stats for last 100 eps:\tavg eps reward: -25.121\t\tavg eps step reward: -0.041\t\tavg eps length: 605.490\t avg time: 1.428\ttricks_used:0\n",
            "stepped scheduler, new lr: 0.00150\n",
            "eps: 700, stats for last 100 eps:\tavg eps reward: -20.144\t\tavg eps step reward: -0.032\t\tavg eps length: 636.940\t avg time: 1.448\ttricks_used:0\n",
            "eps: 800, stats for last 100 eps:\tavg eps reward: -43.351\t\tavg eps step reward: -0.067\t\tavg eps length: 651.880\t avg time: 1.522\ttricks_used:0\n",
            "********** Evaluation **********\n",
            "Evaluation on last 100 episodes:\tmean: -146.435\tmin: -200.618\t\tmax: -72.566\t\t%completed levels (sokoban only): 0.000\n",
            "eps: 900, stats for last 100 eps:\tavg eps reward: -13.307\t\tavg eps step reward: -0.016\t\tavg eps length: 816.320\t avg time: 2.034\ttricks_used:0\n",
            "eps: 1000, stats for last 100 eps:\tavg eps reward: -152.919\t\tavg eps step reward: -0.360\t\tavg eps length: 424.780\t avg time: 0.928\ttricks_used:0\n",
            "eps: 1100, stats for last 100 eps:\tavg eps reward: 5.025\t\tavg eps step reward: 0.006\t\tavg eps length: 912.520\t avg time: 2.310\ttricks_used:0\n",
            "eps: 1200, stats for last 100 eps:\tavg eps reward: -292.675\t\tavg eps step reward: -0.461\t\tavg eps length: 634.950\t avg time: 1.420\ttricks_used:0\n",
            "stepped scheduler, new lr: 0.00113\n",
            "********** Evaluation **********\n",
            "Evaluation on last 100 episodes:\tmean: -265.205\tmin: -320.300\t\tmax: -225.659\t\t%completed levels (sokoban only): 0.000\n",
            "eps: 1300, stats for last 100 eps:\tavg eps reward: -9.909\t\tavg eps step reward: -0.012\t\tavg eps length: 857.670\t avg time: 2.349\ttricks_used:0\n",
            "eps: 1400, stats for last 100 eps:\tavg eps reward: -30.125\t\tavg eps step reward: -0.030\t\tavg eps length: 995.460\t avg time: 2.896\ttricks_used:0\n",
            "eps: 1500, stats for last 100 eps:\tavg eps reward: 20.113\t\tavg eps step reward: 0.023\t\tavg eps length: 891.780\t avg time: 2.283\ttricks_used:0\n",
            "eps: 1600, stats for last 100 eps:\tavg eps reward: 29.912\t\tavg eps step reward: 0.038\t\tavg eps length: 784.920\t avg time: 1.863\ttricks_used:0\n",
            "********** Evaluation **********\n",
            "Evaluation on last 100 episodes:\tmean: 156.338\tmin: -52.258\t\tmax: 246.404\t\t%completed levels (sokoban only): 0.000\n",
            "eps: 1700, stats for last 100 eps:\tavg eps reward: 68.452\t\tavg eps step reward: 0.086\t\tavg eps length: 792.570\t avg time: 1.879\ttricks_used:0\n",
            "eps: 1800, stats for last 100 eps:\tavg eps reward: 68.403\t\tavg eps step reward: 0.107\t\tavg eps length: 640.970\t avg time: 1.421\ttricks_used:0\n",
            "stepped scheduler, new lr: 0.00084\n",
            "eps: 1900, stats for last 100 eps:\tavg eps reward: 78.660\t\tavg eps step reward: 0.093\t\tavg eps length: 850.290\t avg time: 2.109\ttricks_used:0\n",
            "eps: 2000, stats for last 100 eps:\tavg eps reward: 173.736\t\tavg eps step reward: 0.271\t\tavg eps length: 641.260\t avg time: 1.376\ttricks_used:0\n",
            "********** Evaluation **********\n",
            "Evaluation on last 100 episodes:\tmean: 169.895\tmin: 24.897\t\tmax: 299.730\t\t%completed levels (sokoban only): 0.000\n",
            "********** episode 2034, Last 100 train episodes averaged 200 points **********\n",
            "Saved agent to ./saved_agents/dqn_1/SimpleDQN_LunarLanderContinuous-v2_2108201608.pkl\n",
            "Killed env gen process\n"
          ],
          "name": "stdout"
        }
      ]
    },
    {
      "cell_type": "markdown",
      "metadata": {
        "id": "8icMqFZ1h9hl"
      },
      "source": [
        "### DQN setting 2 - Epsilon soft + use PER\n",
        "Action space is a fixed set, training epsilon soft and PER"
      ]
    },
    {
      "cell_type": "code",
      "metadata": {
        "id": "4OCfXvKah9Xk",
        "colab": {
          "base_uri": "https://localhost:8080/"
        },
        "outputId": "9deecb28-618b-4f08-d7b7-eeec58e5cbb1"
      },
      "source": [
        "!rm -r ./saved_agents/dqn_2\n",
        "!mkdir ./saved_agents/dqn_2 && python trainer.py -env LunarLanderContinuous-v2 -model SimpleDQN -agent DQNAgent -epochs 3000 -obs_type BOX2D -action_type FIXED_LUNAR -print_interval 100 -eval_interval 400 -save_dir ./saved_agents/dqn_2 -log_dir . -log_interval 0 -lr 0.002 -num_discrete 15 -scheduler_gamma 0.75 -scheduler_interval 700 -hidden_size 512 -beta 0.003\n",
        "with open(glob.glob('./saved_agents/dqn_2/*')[0], 'rb') as f:\n",
        "    agent = pickle.load(f)\n",
        "all_agents['dqn epsilon soft using PER'] = agent"
      ],
      "execution_count": null,
      "outputs": [
        {
          "output_type": "stream",
          "text": [
            "Using CUDA\n",
            "********** Evaluation **********\n",
            "Evaluation on last 100 episodes:\tmean: -227.578\tmin: -477.059\t\tmax: 11.336\t\t%completed levels (sokoban only): 0.000\n",
            "eps: 100, stats for last 100 eps:\tavg eps reward: -275.443\t\tavg eps step reward: -2.916\t\tavg eps length: 93.460\t avg time: 0.106\ttricks_used:0\n",
            "eps: 200, stats for last 100 eps:\tavg eps reward: -125.605\t\tavg eps step reward: -1.824\t\tavg eps length: 68.880\t avg time: 0.063\ttricks_used:0\n",
            "eps: 300, stats for last 100 eps:\tavg eps reward: -126.360\t\tavg eps step reward: -1.833\t\tavg eps length: 68.950\t avg time: 0.063\ttricks_used:0\n",
            "eps: 400, stats for last 100 eps:\tavg eps reward: -130.690\t\tavg eps step reward: -1.896\t\tavg eps length: 68.940\t avg time: 0.062\ttricks_used:0\n",
            "********** Evaluation **********\n",
            "Evaluation on last 100 episodes:\tmean: -130.239\tmin: -314.349\t\tmax: 35.144\t\t%completed levels (sokoban only): 0.000\n",
            "eps: 500, stats for last 100 eps:\tavg eps reward: -134.053\t\tavg eps step reward: -1.948\t\tavg eps length: 68.820\t avg time: 0.062\ttricks_used:0\n",
            "eps: 600, stats for last 100 eps:\tavg eps reward: -145.637\t\tavg eps step reward: -2.052\t\tavg eps length: 70.960\t avg time: 0.065\ttricks_used:0\n",
            "eps: 700, stats for last 100 eps:\tavg eps reward: -144.500\t\tavg eps step reward: -2.067\t\tavg eps length: 69.920\t avg time: 0.063\ttricks_used:0\n",
            "stepped scheduler, new lr: 0.00150\n",
            "eps: 800, stats for last 100 eps:\tavg eps reward: -146.737\t\tavg eps step reward: -2.064\t\tavg eps length: 71.080\t avg time: 0.065\ttricks_used:0\n",
            "********** Evaluation **********\n",
            "Evaluation on last 100 episodes:\tmean: -138.523\tmin: -384.472\t\tmax: 38.795\t\t%completed levels (sokoban only): 0.000\n",
            "eps: 900, stats for last 100 eps:\tavg eps reward: -131.903\t\tavg eps step reward: -1.906\t\tavg eps length: 69.200\t avg time: 0.066\ttricks_used:0\n",
            "eps: 1000, stats for last 100 eps:\tavg eps reward: -123.850\t\tavg eps step reward: -1.775\t\tavg eps length: 69.760\t avg time: 0.063\ttricks_used:0\n",
            "eps: 1100, stats for last 100 eps:\tavg eps reward: -145.985\t\tavg eps step reward: -2.046\t\tavg eps length: 71.350\t avg time: 0.065\ttricks_used:0\n",
            "eps: 1200, stats for last 100 eps:\tavg eps reward: -127.746\t\tavg eps step reward: -1.881\t\tavg eps length: 67.920\t avg time: 0.062\ttricks_used:0\n",
            "********** Evaluation **********\n",
            "Evaluation on last 100 episodes:\tmean: -129.398\tmin: -279.627\t\tmax: -0.358\t\t%completed levels (sokoban only): 0.000\n",
            "eps: 1300, stats for last 100 eps:\tavg eps reward: -124.306\t\tavg eps step reward: -1.810\t\tavg eps length: 68.680\t avg time: 0.062\ttricks_used:0\n",
            "eps: 1400, stats for last 100 eps:\tavg eps reward: -128.361\t\tavg eps step reward: -1.801\t\tavg eps length: 71.280\t avg time: 0.066\ttricks_used:0\n",
            "stepped scheduler, new lr: 0.00113\n",
            "eps: 1500, stats for last 100 eps:\tavg eps reward: -134.251\t\tavg eps step reward: -1.947\t\tavg eps length: 68.960\t avg time: 0.062\ttricks_used:0\n",
            "eps: 1600, stats for last 100 eps:\tavg eps reward: -138.067\t\tavg eps step reward: -1.985\t\tavg eps length: 69.540\t avg time: 0.063\ttricks_used:0\n",
            "********** Evaluation **********\n",
            "Evaluation on last 100 episodes:\tmean: -151.901\tmin: -354.694\t\tmax: 62.525\t\t%completed levels (sokoban only): 0.000\n",
            "eps: 1700, stats for last 100 eps:\tavg eps reward: -209.628\t\tavg eps step reward: -2.976\t\tavg eps length: 70.440\t avg time: 0.074\ttricks_used:0\n",
            "eps: 1800, stats for last 100 eps:\tavg eps reward: -139.630\t\tavg eps step reward: -2.015\t\tavg eps length: 69.300\t avg time: 0.077\ttricks_used:0\n",
            "eps: 1900, stats for last 100 eps:\tavg eps reward: -132.698\t\tavg eps step reward: -1.920\t\tavg eps length: 69.120\t avg time: 0.074\ttricks_used:0\n",
            "eps: 2000, stats for last 100 eps:\tavg eps reward: -135.170\t\tavg eps step reward: -1.896\t\tavg eps length: 71.310\t avg time: 0.077\ttricks_used:0\n",
            "********** Evaluation **********\n",
            "Evaluation on last 100 episodes:\tmean: -136.503\tmin: -210.355\t\tmax: -72.599\t\t%completed levels (sokoban only): 0.000\n",
            "eps: 2100, stats for last 100 eps:\tavg eps reward: -135.358\t\tavg eps step reward: -1.946\t\tavg eps length: 69.560\t avg time: 0.075\ttricks_used:0\n",
            "stepped scheduler, new lr: 0.00084\n",
            "eps: 2200, stats for last 100 eps:\tavg eps reward: -132.964\t\tavg eps step reward: -1.916\t\tavg eps length: 69.400\t avg time: 0.075\ttricks_used:0\n",
            "eps: 2300, stats for last 100 eps:\tavg eps reward: -137.058\t\tavg eps step reward: -1.942\t\tavg eps length: 70.570\t avg time: 0.075\ttricks_used:0\n",
            "eps: 2400, stats for last 100 eps:\tavg eps reward: -123.842\t\tavg eps step reward: -1.805\t\tavg eps length: 68.610\t avg time: 0.073\ttricks_used:0\n",
            "********** Evaluation **********\n",
            "Evaluation on last 100 episodes:\tmean: -127.017\tmin: -170.329\t\tmax: -86.398\t\t%completed levels (sokoban only): 0.000\n",
            "eps: 2500, stats for last 100 eps:\tavg eps reward: -124.466\t\tavg eps step reward: -1.825\t\tavg eps length: 68.210\t avg time: 0.074\ttricks_used:0\n",
            "eps: 2600, stats for last 100 eps:\tavg eps reward: -124.859\t\tavg eps step reward: -1.759\t\tavg eps length: 70.970\t avg time: 0.077\ttricks_used:0\n",
            "eps: 2700, stats for last 100 eps:\tavg eps reward: -126.431\t\tavg eps step reward: -1.814\t\tavg eps length: 69.700\t avg time: 0.074\ttricks_used:0\n",
            "eps: 2800, stats for last 100 eps:\tavg eps reward: -123.266\t\tavg eps step reward: -1.757\t\tavg eps length: 70.150\t avg time: 0.075\ttricks_used:0\n",
            "stepped scheduler, new lr: 0.00063\n",
            "********** Evaluation **********\n",
            "Evaluation on last 100 episodes:\tmean: -122.857\tmin: -166.958\t\tmax: -86.868\t\t%completed levels (sokoban only): 0.000\n",
            "eps: 2900, stats for last 100 eps:\tavg eps reward: -121.522\t\tavg eps step reward: -1.768\t\tavg eps length: 68.750\t avg time: 0.074\ttricks_used:0\n",
            "---------- Finished training ----------\n",
            "Killed env gen process\n",
            "Saved agent to ./saved_agents/dqn_2/SimpleDQN_LunarLanderContinuous-v2_2108201708.pkl\n",
            "Killed env gen process\n"
          ],
          "name": "stdout"
        }
      ]
    },
    {
      "cell_type": "markdown",
      "metadata": {
        "id": "L57my4yAh9Om"
      },
      "source": [
        "### DQN setting 3 - Epsilon greedy + no PER\n",
        "Action space is a fixed set, training epsilon greedy without PER"
      ]
    },
    {
      "cell_type": "code",
      "metadata": {
        "id": "Kt_X2DVThgaJ",
        "colab": {
          "base_uri": "https://localhost:8080/"
        },
        "outputId": "b00c1eda-7950-446b-f835-b7db88e39ba2"
      },
      "source": [
        "!rm -r ./saved_agents/dqn_3\n",
        "!mkdir ./saved_agents/dqn_3 && python trainer.py -env LunarLanderContinuous-v2 -model SimpleDQN -agent DQNAgent -epochs 3000 -obs_type BOX2D -action_type FIXED_LUNAR -print_interval 100 -eval_interval 400 -save_dir ./saved_agents/dqn_3 -log_dir . -log_interval 0 -lr 0.002 -num_discrete 15 -scheduler_gamma 0.75 -scheduler_interval 700 -hidden_size 512 -beta 0.003 -epsilon 1 -epsilon_decay 0.999 -no_PER\n",
        "with open(glob.glob('./saved_agents/dqn_3/*')[0], 'rb') as f:\n",
        "    agent = pickle.load(f)\n",
        "all_agents['dqn epsilon greedy not using PER'] = agent"
      ],
      "execution_count": 33,
      "outputs": [
        {
          "output_type": "stream",
          "text": [
            "Using CUDA\n",
            "********** Evaluation **********\n",
            "Evaluation on last 100 episodes:\tmean: -643.451\tmin: -818.609\t\tmax: -477.363\t\t%completed levels (sokoban only): 0.000\n",
            "eps: 100, stats for last 100 eps:\tavg eps reward: -213.175\t\tavg eps step reward: -2.015\t\tavg eps length: 104.520\t avg time: 0.094\ttricks_used:0\n",
            "eps: 200, stats for last 100 eps:\tavg eps reward: -197.115\t\tavg eps step reward: -1.843\t\tavg eps length: 106.930\t avg time: 0.094\ttricks_used:0\n",
            "eps: 300, stats for last 100 eps:\tavg eps reward: -167.638\t\tavg eps step reward: -1.430\t\tavg eps length: 117.220\t avg time: 0.108\ttricks_used:0\n",
            "eps: 400, stats for last 100 eps:\tavg eps reward: -109.332\t\tavg eps step reward: -0.587\t\tavg eps length: 186.400\t avg time: 0.216\ttricks_used:0\n",
            "********** Evaluation **********\n",
            "Evaluation on last 100 episodes:\tmean: -19.912\tmin: -227.885\t\tmax: 209.650\t\t%completed levels (sokoban only): 0.000\n",
            "eps: 500, stats for last 100 eps:\tavg eps reward: -131.539\t\tavg eps step reward: -0.534\t\tavg eps length: 246.220\t avg time: 0.359\ttricks_used:0\n",
            "eps: 600, stats for last 100 eps:\tavg eps reward: -26.620\t\tavg eps step reward: -0.051\t\tavg eps length: 524.640\t avg time: 0.979\ttricks_used:0\n",
            "eps: 700, stats for last 100 eps:\tavg eps reward: -226.615\t\tavg eps step reward: -0.727\t\tavg eps length: 311.590\t avg time: 0.583\ttricks_used:0\n",
            "stepped scheduler, new lr: 0.00150\n",
            "eps: 800, stats for last 100 eps:\tavg eps reward: 24.732\t\tavg eps step reward: 0.037\t\tavg eps length: 663.020\t avg time: 1.276\ttricks_used:0\n",
            "********** Evaluation **********\n",
            "Evaluation on last 100 episodes:\tmean: 79.746\tmin: -164.358\t\tmax: 289.405\t\t%completed levels (sokoban only): 0.000\n",
            "eps: 900, stats for last 100 eps:\tavg eps reward: -117.122\t\tavg eps step reward: -0.234\t\tavg eps length: 499.680\t avg time: 1.018\ttricks_used:0\n",
            "eps: 1000, stats for last 100 eps:\tavg eps reward: -103.552\t\tavg eps step reward: -0.148\t\tavg eps length: 698.560\t avg time: 1.491\ttricks_used:0\n",
            "eps: 1100, stats for last 100 eps:\tavg eps reward: -4.864\t\tavg eps step reward: -0.006\t\tavg eps length: 862.840\t avg time: 1.852\ttricks_used:0\n",
            "eps: 1200, stats for last 100 eps:\tavg eps reward: -16.526\t\tavg eps step reward: -0.019\t\tavg eps length: 880.940\t avg time: 1.888\ttricks_used:0\n",
            "********** Evaluation **********\n",
            "Evaluation on last 100 episodes:\tmean: -188.706\tmin: -599.429\t\tmax: 242.872\t\t%completed levels (sokoban only): 0.000\n",
            "eps: 1300, stats for last 100 eps:\tavg eps reward: -142.727\t\tavg eps step reward: -0.190\t\tavg eps length: 752.690\t avg time: 1.734\ttricks_used:0\n",
            "eps: 1400, stats for last 100 eps:\tavg eps reward: 23.349\t\tavg eps step reward: 0.024\t\tavg eps length: 973.260\t avg time: 2.130\ttricks_used:0\n",
            "stepped scheduler, new lr: 0.00113\n",
            "eps: 1500, stats for last 100 eps:\tavg eps reward: 40.315\t\tavg eps step reward: 0.053\t\tavg eps length: 754.920\t avg time: 1.445\ttricks_used:0\n",
            "eps: 1600, stats for last 100 eps:\tavg eps reward: 81.956\t\tavg eps step reward: 0.094\t\tavg eps length: 871.610\t avg time: 1.840\ttricks_used:0\n",
            "********** Evaluation **********\n",
            "Evaluation on last 100 episodes:\tmean: 184.185\tmin: -30.081\t\tmax: 311.944\t\t%completed levels (sokoban only): 0.000\n",
            "eps: 1700, stats for last 100 eps:\tavg eps reward: -74.084\t\tavg eps step reward: -0.140\t\tavg eps length: 528.310\t avg time: 1.005\ttricks_used:0\n",
            "eps: 1800, stats for last 100 eps:\tavg eps reward: 28.688\t\tavg eps step reward: 0.034\t\tavg eps length: 836.000\t avg time: 1.676\ttricks_used:0\n",
            "eps: 1900, stats for last 100 eps:\tavg eps reward: 166.665\t\tavg eps step reward: 0.246\t\tavg eps length: 676.730\t avg time: 1.187\ttricks_used:0\n",
            "eps: 2000, stats for last 100 eps:\tavg eps reward: 46.068\t\tavg eps step reward: 0.058\t\tavg eps length: 796.910\t avg time: 1.657\ttricks_used:0\n",
            "********** Evaluation **********\n",
            "Evaluation on last 100 episodes:\tmean: -11.998\tmin: -134.306\t\tmax: 186.679\t\t%completed levels (sokoban only): 0.000\n",
            "eps: 2100, stats for last 100 eps:\tavg eps reward: 66.382\t\tavg eps step reward: 0.101\t\tavg eps length: 657.330\t avg time: 1.248\ttricks_used:0\n",
            "stepped scheduler, new lr: 0.00084\n",
            "eps: 2200, stats for last 100 eps:\tavg eps reward: 115.916\t\tavg eps step reward: 0.177\t\tavg eps length: 656.160\t avg time: 1.257\ttricks_used:0\n",
            "eps: 2300, stats for last 100 eps:\tavg eps reward: 188.933\t\tavg eps step reward: 0.321\t\tavg eps length: 589.030\t avg time: 1.002\ttricks_used:0\n",
            "eps: 2400, stats for last 100 eps:\tavg eps reward: 160.939\t\tavg eps step reward: 0.266\t\tavg eps length: 605.830\t avg time: 1.086\ttricks_used:0\n",
            "********** Evaluation **********\n",
            "Evaluation on last 100 episodes:\tmean: 205.062\tmin: -19.387\t\tmax: 278.656\t\t%completed levels (sokoban only): 0.000\n",
            "********** episode 2400, Last 100 eval episodes averaged 200 points **********\n",
            "Saved agent to ./saved_agents/dqn_3/SimpleDQN_LunarLanderContinuous-v2_2108201708.pkl\n",
            "Killed env gen process\n"
          ],
          "name": "stdout"
        }
      ]
    },
    {
      "cell_type": "code",
      "metadata": {
        "id": "ByMpN8JlhVuc"
      },
      "source": [
        "with open('/content/drive/MyDrive/RL_project/saved_agents/agent_dict.pkl', 'wb') as f:\n",
        "    pickle.dump(all_agents, f)"
      ],
      "execution_count": 35,
      "outputs": []
    },
    {
      "cell_type": "markdown",
      "metadata": {
        "id": "zb5JAz8FqRfD"
      },
      "source": [
        "### Visualization of resutls\n",
        "We present a comparison of the 4 best trained agents divided into categories A2C and DQN"
      ]
    },
    {
      "cell_type": "code",
      "metadata": {
        "id": "vI49ktmuhgN5",
        "colab": {
          "base_uri": "https://localhost:8080/",
          "height": 501
        },
        "outputId": "7f7fbf6b-ae72-4856-944c-86b0605eac99"
      },
      "source": [
        "WINDOW = 100\n",
        "COLORS = ['b', 'g', 'c', 'm', 'y', 'k']\n",
        "fig, axes = plt.subplots(1, 2, figsize=(15,7))\n",
        "fig.suptitle('Agents performance comparison - training rewards', fontsize=24)\n",
        "axes[0].set_title('A2C agents', fontsize=18)\n",
        "axes[1].set_title('DQN agents', fontsize=18)\n",
        "axes[0].set_xlabel('Episodes', fontsize=18)\n",
        "axes[0].set_ylabel('Mean reward', fontsize=18)\n",
        "axes[1].set_xlabel('Episodes', fontsize=18)\n",
        "axes[1].set_ylabel('Mean reward', fontsize=18)\n",
        "a2c_agents = [all_agents['a2c discretisized'], all_agents['a2c fixed']]\n",
        "dqn_agents = [all_agents['dqn epsilon greedy using PER'], \n",
        "              all_agents['dqn epsilon greedy not using PER']]\n",
        "\n",
        "for i, (a2c_agent, dqn_agent) in enumerate(zip(a2c_agents, dqn_agents)):\n",
        "    axes[0].plot(a2c_agent.all_rewards, color=COLORS[i], alpha=0.5)\n",
        "    axes[0].plot(moving_average(a2c_agent.all_rewards, window=WINDOW),\n",
        "                 color=COLORS[::-1][i])\n",
        "    axes[1].plot(dqn_agent.all_rewards, color=COLORS[i], alpha=0.5)\n",
        "    axes[1].plot(moving_average(dqn_agent.all_rewards, window=WINDOW),\n",
        "                 color=COLORS[::-1][i])\n",
        "_ = axes[0].legend(['a2c discretisized', 'a2c discret. moving average',\n",
        "                'a2c fixed actions', 'a2c fixed. moving average'])\n",
        "_ = axes[1].legend(['dqn eps greedy + PER', 'dqn eps greedy + PER moving average',\n",
        "                'dqn eps greedy no PER', 'dqn eps greedy no PER moving average'])"
      ],
      "execution_count": 57,
      "outputs": [
        {
          "output_type": "display_data",
          "data": {
            "image/png": "[encoded data removed]",
            "text/plain": [
              "<Figure size 1080x504 with 2 Axes>"
            ]
          },
          "metadata": {
            "needs_background": "light"
          }
        }
      ]
    },
    {
      "cell_type": "markdown",
      "metadata": {
        "id": "lyIywsDa1lxT"
      },
      "source": [
        "#### We proceed to display results of the best a2c model in validation mode\n",
        "This includes a graph over 300 new episodes over a greedy policy and an episode video"
      ]
    },
    {
      "cell_type": "code",
      "metadata": {
        "id": "2C5ylRST17zs"
      },
      "source": [
        "all_rewards, all_episode_rewards, _ = utils.evaluate(\n",
        "    agent=all_agents['a2c discretisized'],\n",
        "    num_episodes=300,\n",
        "    render=False)"
      ],
      "execution_count": 58,
      "outputs": []
    },
    {
      "cell_type": "code",
      "metadata": {
        "colab": {
          "base_uri": "https://localhost:8080/",
          "height": 501
        },
        "id": "oyV9qxt42ZN1",
        "outputId": "d64d1052-6ef6-450c-c3a7-a14a57dd4fe9"
      },
      "source": [
        "WINDOW = 100\n",
        "COLORS = ['b', 'g', 'c', 'm', 'y', 'k']\n",
        "a2c_agent = all_agents['a2c discretisized']\n",
        "fig, axes = plt.subplots(1, 1, figsize=(15,7))\n",
        "fig.suptitle('Agents performance comparison - evaluation rewards', fontsize=24)\n",
        "axes.set_title('A2C discretisized agent', fontsize=18)\n",
        "axes.set_xlabel('Episodes', fontsize=18)\n",
        "axes.set_ylabel('Mean reward', fontsize=18)\n",
        "axes.plot(all_episode_rewards, color=COLORS[0], alpha=0.5)\n",
        "axes.plot(moving_average(all_episode_rewards, window=WINDOW),color=COLORS[1])\n",
        "_ = axes.legend(['a2c discretisized', 'a2c discret. moving average'])"
      ],
      "execution_count": 61,
      "outputs": [
        {
          "output_type": "display_data",
          "data": {
            "image/png": "[encoded data removed]",
            "text/plain": [
              "<Figure size 1080x504 with 1 Axes>"
            ]
          },
          "metadata": {
            "needs_background": "light"
          }
        }
      ]
    },
    {
      "cell_type": "code",
      "metadata": {
        "colab": {
          "base_uri": "https://localhost:8080/",
          "height": 455
        },
        "id": "RWhNH1DI2-OA",
        "outputId": "846d5200-f29b-41b2-c92b-23b12c1593ae"
      },
      "source": [
        "all_rewards, all_episode_rewards, _ = utils.evaluate(\n",
        "    agent=a2c_agent, num_episodes=1, render=True)\n",
        "print('played episode reward: {}'.format(all_episode_rewards[0]))\n",
        "show_video()"
      ],
      "execution_count": 5,
      "outputs": [
        {
          "output_type": "stream",
          "text": [
            "Saving render video to /content/sokoban_rl/video\n",
            "played episode reward: 195.33726035441777\n"
          ],
          "name": "stdout"
        },
        {
          "output_type": "display_data",
          "data": {
            "text/html": [
              "<video alt=\"test\" autoplay \n",
              "                loop controls style=\"height: 400px;\">\n",
              "                <source src=\"data:video/mp4;base64,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\" type=\"video/mp4\" />\n",
              "             </video>"
            ],
            "text/plain": [
              "<IPython.core.display.HTML object>"
            ]
          },
          "metadata": {}
        }
      ]
    },
    {
      "cell_type": "markdown",
      "metadata": {
        "id": "GWMpHI4gq4Ju"
      },
      "source": [
        "## Sokoban\n",
        "As Sokoban training is very long it has been done is a seperate notebook.\n",
        "We include here only the results and the visualizaiton\n",
        "Environment is Sokoban Push&Pull "
      ]
    },
    {
      "cell_type": "code",
      "metadata": {
        "id": "bgtnlq8Yq376"
      },
      "source": [
        ""
      ],
      "execution_count": null,
      "outputs": []
    },
    {
      "cell_type": "code",
      "metadata": {
        "id": "DAGMM5rAq3yf"
      },
      "source": [
        ""
      ],
      "execution_count": null,
      "outputs": []
    },
    {
      "cell_type": "code",
      "metadata": {
        "id": "S8SbuDNXq3o1"
      },
      "source": [
        ""
      ],
      "execution_count": null,
      "outputs": []
    },
    {
      "cell_type": "code",
      "metadata": {
        "id": "PdkseQ4sq3cn"
      },
      "source": [
        ""
      ],
      "execution_count": null,
      "outputs": []
    },
    {
      "cell_type": "code",
      "metadata": {
        "colab": {
          "base_uri": "https://localhost:8080/"
        },
        "id": "7Mjw95VVBv3-",
        "outputId": "5bd7c0a1-9daf-4314-ebac-55fc143565db"
      },
      "source": [
        "num_iterations = 1\n",
        "CONE_TRICK = False\n",
        "NUM_DISCRETE = 13\n",
        "LR = 0.001\n",
        "HIDDEN_SIZE = 256\n",
        "CLIP_GRADIENT = False\n",
        "STOP_TRICK_AT = 200\n",
        "pkl_save_path = os.path.join(DRIVE_PATH, 'best_dqn.pkl')\n",
        "dqn_per_agent = find_best(SimpleDQN, DQNAgent, num_iterations, pkl_save_path, epochs=3000,\n",
        "                           action_type='FIXED_LUNAR', no_per=False)"
      ],
      "execution_count": null,
      "outputs": [
        {
          "name": "stdout",
          "output_type": "stream",
          "text": [
            "#################### Attempt 0  ####################\n",
            "Using CUDA\n"
          ]
        },
        {
          "name": "stderr",
          "output_type": "stream",
          "text": [
            "/content/sokoban_rl/utils.py:166: RuntimeWarning: divide by zero encountered in double_scalars\n",
            "  np.sum(agent.all_rewards[-print_interval:]) / steps_count,\n"
          ]
        },
        {
          "name": "stdout",
          "output_type": "stream",
          "text": [
            "eps: 100, stats for last 100 eps:\tavg eps reward: -227.291\t\tavg eps step reward: -inf\t\tavg eps length: 125.460\t avg time: 0.161\ttricks_used:0\n",
            "eps: 200, stats for last 100 eps:\tavg eps reward: -325.297\t\tavg eps step reward: -inf\t\tavg eps length: 102.850\t avg time: 0.127\ttricks_used:0\n",
            "eps: 300, stats for last 100 eps:\tavg eps reward: -129.287\t\tavg eps step reward: -inf\t\tavg eps length: 149.370\t avg time: 0.223\ttricks_used:0\n",
            "eps: 400, stats for last 100 eps:\tavg eps reward: -118.676\t\tavg eps step reward: -inf\t\tavg eps length: 187.610\t avg time: 0.266\ttricks_used:0\n",
            "stepped scheduler, new lr: 0.00075\n",
            "eps: 500, stats for last 100 eps:\tavg eps reward: -89.629\t\tavg eps step reward: -inf\t\tavg eps length: 185.950\t avg time: 0.272\ttricks_used:0\n",
            "eps: 600, stats for last 100 eps:\tavg eps reward: -90.339\t\tavg eps step reward: -inf\t\tavg eps length: 194.680\t avg time: 0.313\ttricks_used:0\n",
            "eps: 700, stats for last 100 eps:\tavg eps reward: -154.911\t\tavg eps step reward: -inf\t\tavg eps length: 169.950\t avg time: 0.244\ttricks_used:0\n",
            "eps: 800, stats for last 100 eps:\tavg eps reward: -71.486\t\tavg eps step reward: -inf\t\tavg eps length: 194.030\t avg time: 0.286\ttricks_used:0\n",
            "stepped scheduler, new lr: 0.00056\n",
            "eps: 900, stats for last 100 eps:\tavg eps reward: -91.627\t\tavg eps step reward: -inf\t\tavg eps length: 218.260\t avg time: 0.332\ttricks_used:0\n",
            "eps: 1000, stats for last 100 eps:\tavg eps reward: -113.985\t\tavg eps step reward: -inf\t\tavg eps length: 278.710\t avg time: 0.487\ttricks_used:0\n",
            "eps: 1100, stats for last 100 eps:\tavg eps reward: -49.385\t\tavg eps step reward: -inf\t\tavg eps length: 399.610\t avg time: 0.860\ttricks_used:0\n",
            "eps: 1200, stats for last 100 eps:\tavg eps reward: 35.166\t\tavg eps step reward: inf\t\tavg eps length: 264.720\t avg time: 0.436\ttricks_used:0\n",
            "stepped scheduler, new lr: 0.00042\n",
            "eps: 1300, stats for last 100 eps:\tavg eps reward: 44.077\t\tavg eps step reward: inf\t\tavg eps length: 569.390\t avg time: 1.294\ttricks_used:0\n",
            "eps: 1400, stats for last 100 eps:\tavg eps reward: 19.394\t\tavg eps step reward: inf\t\tavg eps length: 648.570\t avg time: 1.538\ttricks_used:0\n",
            "eps: 1500, stats for last 100 eps:\tavg eps reward: -19.475\t\tavg eps step reward: -inf\t\tavg eps length: 696.900\t avg time: 1.662\ttricks_used:0\n",
            "eps: 1600, stats for last 100 eps:\tavg eps reward: -59.747\t\tavg eps step reward: -inf\t\tavg eps length: 811.710\t avg time: 2.076\ttricks_used:0\n",
            "stepped scheduler, new lr: 0.00032\n",
            "eps: 1700, stats for last 100 eps:\tavg eps reward: -70.742\t\tavg eps step reward: -inf\t\tavg eps length: 889.460\t avg time: 2.478\ttricks_used:0\n",
            "eps: 1800, stats for last 100 eps:\tavg eps reward: -57.314\t\tavg eps step reward: -inf\t\tavg eps length: 990.630\t avg time: 2.930\ttricks_used:0\n",
            "eps: 1900, stats for last 100 eps:\tavg eps reward: -59.337\t\tavg eps step reward: -inf\t\tavg eps length: 994.780\t avg time: 2.872\ttricks_used:0\n",
            "eps: 2000, stats for last 100 eps:\tavg eps reward: -72.511\t\tavg eps step reward: -inf\t\tavg eps length: 1000.000\t avg time: 3.005\ttricks_used:0\n",
            "stepped scheduler, new lr: 0.00024\n",
            "eps: 2100, stats for last 100 eps:\tavg eps reward: -67.001\t\tavg eps step reward: -inf\t\tavg eps length: 998.900\t avg time: 3.042\ttricks_used:0\n",
            "eps: 2200, stats for last 100 eps:\tavg eps reward: -56.756\t\tavg eps step reward: -inf\t\tavg eps length: 1000.000\t avg time: 2.987\ttricks_used:0\n",
            "eps: 2300, stats for last 100 eps:\tavg eps reward: -45.871\t\tavg eps step reward: -inf\t\tavg eps length: 998.710\t avg time: 3.007\ttricks_used:0\n",
            "eps: 2400, stats for last 100 eps:\tavg eps reward: -49.190\t\tavg eps step reward: -inf\t\tavg eps length: 999.810\t avg time: 3.027\ttricks_used:0\n",
            "stepped scheduler, new lr: 0.00018\n",
            "eps: 2500, stats for last 100 eps:\tavg eps reward: -38.124\t\tavg eps step reward: -inf\t\tavg eps length: 999.150\t avg time: 3.090\ttricks_used:0\n",
            "eps: 2600, stats for last 100 eps:\tavg eps reward: -34.013\t\tavg eps step reward: -inf\t\tavg eps length: 997.170\t avg time: 3.078\ttricks_used:0\n",
            "eps: 2700, stats for last 100 eps:\tavg eps reward: -4.939\t\tavg eps step reward: -inf\t\tavg eps length: 982.360\t avg time: 3.027\ttricks_used:0\n",
            "eps: 2800, stats for last 100 eps:\tavg eps reward: 49.573\t\tavg eps step reward: inf\t\tavg eps length: 930.630\t avg time: 2.683\ttricks_used:0\n",
            "stepped scheduler, new lr: 0.00013\n",
            "eps: 2900, stats for last 100 eps:\tavg eps reward: 131.206\t\tavg eps step reward: inf\t\tavg eps length: 766.530\t avg time: 2.030\ttricks_used:0\n",
            "---------- Finished training ----------\n",
            "Killed env gen process\n",
            "Saved agent to ./model.pkl\n",
            "----- training took 81.813 minutes -----\n",
            "\n"
          ]
        }
      ]
    },
    {
      "cell_type": "code",
      "metadata": {
        "colab": {
          "base_uri": "https://localhost:8080/"
        },
        "id": "uAPL0lCXx6sH",
        "outputId": "8f5168dc-cf27-43f7-bd36-a325f7364e00"
      },
      "source": [
        "num_iterations = 1\n",
        "CONE_TRICK = False\n",
        "NUM_DISCRETE = 13\n",
        "LR = 0.001\n",
        "HIDDEN_SIZE = 256\n",
        "CLIP_GRADIENT = False\n",
        "STOP_TRICK_AT = 200\n",
        "pkl_save_path = os.path.join(DRIVE_PATH, 'best_dqn.pkl')\n",
        "dqn_per_agent = find_best(SimpleDQN, DQNAgent, num_iterations, pkl_save_path, epochs=3000,\n",
        "                           action_type='FIXED_LUNAR', no_per=False, epsilon=1)"
      ],
      "execution_count": null,
      "outputs": [
        {
          "name": "stdout",
          "output_type": "stream",
          "text": [
            "#################### Attempt 0  ####################\n",
            "Using CUDA\n"
          ]
        },
        {
          "name": "stderr",
          "output_type": "stream",
          "text": [
            "/content/sokoban_rl/utils.py:177: RuntimeWarning: divide by zero encountered in double_scalars\n",
            "  np.sum(agent.all_rewards[-print_interval:]) / steps_count,\n"
          ]
        },
        {
          "name": "stdout",
          "output_type": "stream",
          "text": [
            "eps: 100, stats for last 100 eps:\tavg eps reward: -249.591\t\tavg eps step reward: -inf\t\tavg eps length: 117.380\t avg time: 0.123\ttricks_used:0\n",
            "eps: 200, stats for last 100 eps:\tavg eps reward: -236.337\t\tavg eps step reward: -inf\t\tavg eps length: 105.770\t avg time: 0.106\ttricks_used:0\n",
            "eps: 300, stats for last 100 eps:\tavg eps reward: -217.762\t\tavg eps step reward: -inf\t\tavg eps length: 311.270\t avg time: 0.588\ttricks_used:0\n",
            "eps: 400, stats for last 100 eps:\tavg eps reward: -169.792\t\tavg eps step reward: -inf\t\tavg eps length: 638.020\t avg time: 1.370\ttricks_used:0\n",
            "stepped scheduler, new lr: 0.00075\n",
            "eps: 500, stats for last 100 eps:\tavg eps reward: -110.978\t\tavg eps step reward: -inf\t\tavg eps length: 894.200\t avg time: 2.195\ttricks_used:0\n",
            "eps: 600, stats for last 100 eps:\tavg eps reward: -111.565\t\tavg eps step reward: -inf\t\tavg eps length: 1000.000\t avg time: 2.617\ttricks_used:0\n",
            "eps: 700, stats for last 100 eps:\tavg eps reward: -107.695\t\tavg eps step reward: -inf\t\tavg eps length: 1000.000\t avg time: 2.487\ttricks_used:0\n",
            "eps: 800, stats for last 100 eps:\tavg eps reward: -106.561\t\tavg eps step reward: -inf\t\tavg eps length: 1000.000\t avg time: 2.607\ttricks_used:0\n",
            "stepped scheduler, new lr: 0.00056\n",
            "eps: 900, stats for last 100 eps:\tavg eps reward: -98.868\t\tavg eps step reward: -inf\t\tavg eps length: 994.280\t avg time: 2.462\ttricks_used:0\n",
            "eps: 1000, stats for last 100 eps:\tavg eps reward: -83.856\t\tavg eps step reward: -inf\t\tavg eps length: 856.460\t avg time: 2.007\ttricks_used:0\n",
            "eps: 1100, stats for last 100 eps:\tavg eps reward: -73.956\t\tavg eps step reward: -inf\t\tavg eps length: 969.870\t avg time: 2.293\ttricks_used:0\n",
            "eps: 1200, stats for last 100 eps:\tavg eps reward: -38.432\t\tavg eps step reward: -inf\t\tavg eps length: 820.840\t avg time: 1.995\ttricks_used:0\n",
            "stepped scheduler, new lr: 0.00042\n",
            "eps: 1300, stats for last 100 eps:\tavg eps reward: -30.477\t\tavg eps step reward: -inf\t\tavg eps length: 964.770\t avg time: 2.207\ttricks_used:0\n",
            "eps: 1400, stats for last 100 eps:\tavg eps reward: -8.193\t\tavg eps step reward: -inf\t\tavg eps length: 841.470\t avg time: 1.911\ttricks_used:0\n",
            "eps: 1500, stats for last 100 eps:\tavg eps reward: 17.736\t\tavg eps step reward: inf\t\tavg eps length: 818.160\t avg time: 1.828\ttricks_used:0\n",
            "eps: 1600, stats for last 100 eps:\tavg eps reward: 65.638\t\tavg eps step reward: inf\t\tavg eps length: 640.410\t avg time: 1.317\ttricks_used:0\n",
            "stepped scheduler, new lr: 0.00032\n",
            "eps: 1700, stats for last 100 eps:\tavg eps reward: 119.796\t\tavg eps step reward: inf\t\tavg eps length: 642.410\t avg time: 1.279\ttricks_used:0\n",
            "eps: 1800, stats for last 100 eps:\tavg eps reward: 148.503\t\tavg eps step reward: inf\t\tavg eps length: 606.520\t avg time: 1.144\ttricks_used:0\n",
            "eps: 1900, stats for last 100 eps:\tavg eps reward: 162.854\t\tavg eps step reward: inf\t\tavg eps length: 473.690\t avg time: 0.756\ttricks_used:0\n",
            "eps: 2000, stats for last 100 eps:\tavg eps reward: 149.997\t\tavg eps step reward: inf\t\tavg eps length: 539.060\t avg time: 0.950\ttricks_used:0\n",
            "stepped scheduler, new lr: 0.00024\n",
            "eps: 2100, stats for last 100 eps:\tavg eps reward: 139.925\t\tavg eps step reward: inf\t\tavg eps length: 489.830\t avg time: 0.807\ttricks_used:0\n",
            "eps: 2200, stats for last 100 eps:\tavg eps reward: 165.868\t\tavg eps step reward: inf\t\tavg eps length: 454.010\t avg time: 0.726\ttricks_used:0\n",
            "eps: 2300, stats for last 100 eps:\tavg eps reward: 126.574\t\tavg eps step reward: inf\t\tavg eps length: 529.550\t avg time: 0.946\ttricks_used:0\n",
            "eps: 2400, stats for last 100 eps:\tavg eps reward: 169.976\t\tavg eps step reward: inf\t\tavg eps length: 488.820\t avg time: 0.782\ttricks_used:0\n",
            "stepped scheduler, new lr: 0.00018\n",
            "eps: 2500, stats for last 100 eps:\tavg eps reward: 160.560\t\tavg eps step reward: inf\t\tavg eps length: 418.250\t avg time: 0.595\ttricks_used:0\n",
            "eps: 2600, stats for last 100 eps:\tavg eps reward: 155.342\t\tavg eps step reward: inf\t\tavg eps length: 489.530\t avg time: 0.780\ttricks_used:0\n",
            "eps: 2700, stats for last 100 eps:\tavg eps reward: 170.437\t\tavg eps step reward: inf\t\tavg eps length: 496.670\t avg time: 0.801\ttricks_used:0\n",
            "eps: 2800, stats for last 100 eps:\tavg eps reward: 170.962\t\tavg eps step reward: inf\t\tavg eps length: 461.160\t avg time: 0.702\ttricks_used:0\n",
            "stepped scheduler, new lr: 0.00013\n",
            "eps: 2900, stats for last 100 eps:\tavg eps reward: 186.084\t\tavg eps step reward: inf\t\tavg eps length: 488.780\t avg time: 0.759\ttricks_used:0\n",
            "---------- Finished training ----------\n",
            "Killed env gen process\n",
            "Saved agent to ./model.pkl\n",
            "----- training took 66.648 minutes -----\n",
            "\n"
          ]
        }
      ]
    },
    {
      "cell_type": "code",
      "metadata": {
        "colab": {
          "base_uri": "https://localhost:8080/"
        },
        "id": "1XV-dFuqi8p8",
        "outputId": "f931b5ce-b6e1-431b-8bd9-1c58a4d2d337"
      },
      "source": [
        "num_iterations = 1\n",
        "CONE_TRICK = False\n",
        "NUM_DISCRETE = 13\n",
        "LR = 0.001\n",
        "HIDDEN_SIZE = 256\n",
        "CLIP_GRADIENT = False\n",
        "STOP_TRICK_AT = 200\n",
        "pkl_save_path = os.path.join(DRIVE_PATH, 'best_dqn.pkl')\n",
        "dqn_per_agent = find_best(SimpleDQN, DQNAgent, num_iterations, pkl_save_path, epochs=3000,\n",
        "                           action_type='FIXED_LUNAR', no_per=True)"
      ],
      "execution_count": null,
      "outputs": [
        {
          "name": "stdout",
          "output_type": "stream",
          "text": [
            "#################### Attempt 0  ####################\n",
            "Using CUDA\n"
          ]
        },
        {
          "name": "stderr",
          "output_type": "stream",
          "text": [
            "/content/sokoban_rl/utils.py:177: RuntimeWarning: divide by zero encountered in double_scalars\n",
            "  np.sum(agent.all_rewards[-print_interval:]) / steps_count,\n"
          ]
        },
        {
          "name": "stdout",
          "output_type": "stream",
          "text": [
            "eps: 100, stats for last 100 eps:\tavg eps reward: -316.558\t\tavg eps step reward: -inf\t\tavg eps length: 107.920\t avg time: 0.113\ttricks_used:0\n",
            "eps: 200, stats for last 100 eps:\tavg eps reward: -162.988\t\tavg eps step reward: -inf\t\tavg eps length: 68.940\t avg time: 0.060\ttricks_used:0\n",
            "eps: 300, stats for last 100 eps:\tavg eps reward: -134.685\t\tavg eps step reward: -inf\t\tavg eps length: 69.940\t avg time: 0.059\ttricks_used:0\n",
            "eps: 400, stats for last 100 eps:\tavg eps reward: -130.283\t\tavg eps step reward: -inf\t\tavg eps length: 67.650\t avg time: 0.057\ttricks_used:0\n",
            "stepped scheduler, new lr: 0.00075\n",
            "eps: 500, stats for last 100 eps:\tavg eps reward: -132.779\t\tavg eps step reward: -inf\t\tavg eps length: 69.100\t avg time: 0.059\ttricks_used:0\n",
            "eps: 600, stats for last 100 eps:\tavg eps reward: -133.818\t\tavg eps step reward: -inf\t\tavg eps length: 71.910\t avg time: 0.060\ttricks_used:0\n",
            "eps: 700, stats for last 100 eps:\tavg eps reward: -145.951\t\tavg eps step reward: -inf\t\tavg eps length: 72.420\t avg time: 0.061\ttricks_used:0\n",
            "eps: 800, stats for last 100 eps:\tavg eps reward: -141.062\t\tavg eps step reward: -inf\t\tavg eps length: 69.570\t avg time: 0.059\ttricks_used:0\n",
            "stepped scheduler, new lr: 0.00056\n",
            "eps: 900, stats for last 100 eps:\tavg eps reward: -134.404\t\tavg eps step reward: -inf\t\tavg eps length: 69.230\t avg time: 0.058\ttricks_used:0\n",
            "eps: 1000, stats for last 100 eps:\tavg eps reward: -133.560\t\tavg eps step reward: -inf\t\tavg eps length: 69.010\t avg time: 0.058\ttricks_used:0\n",
            "eps: 1100, stats for last 100 eps:\tavg eps reward: -128.815\t\tavg eps step reward: -inf\t\tavg eps length: 70.600\t avg time: 0.059\ttricks_used:0\n",
            "eps: 1200, stats for last 100 eps:\tavg eps reward: -129.416\t\tavg eps step reward: -inf\t\tavg eps length: 71.180\t avg time: 0.060\ttricks_used:0\n",
            "stepped scheduler, new lr: 0.00042\n",
            "eps: 1300, stats for last 100 eps:\tavg eps reward: -127.207\t\tavg eps step reward: -inf\t\tavg eps length: 69.450\t avg time: 0.059\ttricks_used:0\n",
            "eps: 1400, stats for last 100 eps:\tavg eps reward: -139.427\t\tavg eps step reward: -inf\t\tavg eps length: 70.210\t avg time: 0.059\ttricks_used:0\n",
            "eps: 1500, stats for last 100 eps:\tavg eps reward: -131.041\t\tavg eps step reward: -inf\t\tavg eps length: 70.820\t avg time: 0.060\ttricks_used:0\n",
            "eps: 1600, stats for last 100 eps:\tavg eps reward: -132.292\t\tavg eps step reward: -inf\t\tavg eps length: 70.860\t avg time: 0.059\ttricks_used:0\n",
            "stepped scheduler, new lr: 0.00032\n",
            "eps: 1700, stats for last 100 eps:\tavg eps reward: -127.472\t\tavg eps step reward: -inf\t\tavg eps length: 70.400\t avg time: 0.059\ttricks_used:0\n",
            "eps: 1800, stats for last 100 eps:\tavg eps reward: -134.667\t\tavg eps step reward: -inf\t\tavg eps length: 70.660\t avg time: 0.060\ttricks_used:0\n",
            "eps: 1900, stats for last 100 eps:\tavg eps reward: -128.862\t\tavg eps step reward: -inf\t\tavg eps length: 70.360\t avg time: 0.058\ttricks_used:0\n",
            "eps: 2000, stats for last 100 eps:\tavg eps reward: -134.754\t\tavg eps step reward: -inf\t\tavg eps length: 70.470\t avg time: 0.060\ttricks_used:0\n",
            "stepped scheduler, new lr: 0.00024\n",
            "eps: 2100, stats for last 100 eps:\tavg eps reward: -134.147\t\tavg eps step reward: -inf\t\tavg eps length: 68.130\t avg time: 0.057\ttricks_used:0\n",
            "eps: 2200, stats for last 100 eps:\tavg eps reward: -127.321\t\tavg eps step reward: -inf\t\tavg eps length: 69.050\t avg time: 0.058\ttricks_used:0\n",
            "eps: 2300, stats for last 100 eps:\tavg eps reward: -140.570\t\tavg eps step reward: -inf\t\tavg eps length: 69.760\t avg time: 0.058\ttricks_used:0\n",
            "eps: 2400, stats for last 100 eps:\tavg eps reward: -132.533\t\tavg eps step reward: -inf\t\tavg eps length: 67.400\t avg time: 0.056\ttricks_used:0\n",
            "stepped scheduler, new lr: 0.00018\n",
            "eps: 2500, stats for last 100 eps:\tavg eps reward: -125.941\t\tavg eps step reward: -inf\t\tavg eps length: 70.790\t avg time: 0.059\ttricks_used:0\n",
            "eps: 2600, stats for last 100 eps:\tavg eps reward: -136.491\t\tavg eps step reward: -inf\t\tavg eps length: 72.460\t avg time: 0.061\ttricks_used:0\n",
            "eps: 2700, stats for last 100 eps:\tavg eps reward: -133.386\t\tavg eps step reward: -inf\t\tavg eps length: 69.560\t avg time: 0.058\ttricks_used:0\n",
            "eps: 2800, stats for last 100 eps:\tavg eps reward: -133.094\t\tavg eps step reward: -inf\t\tavg eps length: 72.350\t avg time: 0.061\ttricks_used:0\n",
            "stepped scheduler, new lr: 0.00013\n",
            "eps: 2900, stats for last 100 eps:\tavg eps reward: -131.660\t\tavg eps step reward: -inf\t\tavg eps length: 69.740\t avg time: 0.058\ttricks_used:0\n",
            "---------- Finished training ----------\n",
            "Killed env gen process\n",
            "Saved agent to ./model.pkl\n",
            "----- training took 3.043 minutes -----\n",
            "\n"
          ]
        }
      ]
    },
    {
      "cell_type": "code",
      "metadata": {
        "colab": {
          "base_uri": "https://localhost:8080/"
        },
        "id": "1Io_qmmqopTe",
        "outputId": "89160421-cede-45a6-e132-4cd297074ff3"
      },
      "source": [
        "num_iterations = 1\n",
        "CONE_TRICK = False\n",
        "NUM_DISCRETE = 13\n",
        "LR = 0.001\n",
        "HIDDEN_SIZE = 128\n",
        "CLIP_GRADIENT = False\n",
        "STOP_TRICK_AT = 200\n",
        "pkl_save_path = os.path.join(DRIVE_PATH, 'best_dqn.pkl')\n",
        "dqn_per_agent = find_best(SimpleDQN, DQNAgent, num_iterations, pkl_save_path, epochs=3000,\n",
        "                           action_type='FIXED_LUNAR', no_per=True)"
      ],
      "execution_count": null,
      "outputs": [
        {
          "name": "stdout",
          "output_type": "stream",
          "text": [
            "#################### Attempt 0  ####################\n",
            "Using CUDA\n"
          ]
        },
        {
          "name": "stderr",
          "output_type": "stream",
          "text": [
            "/content/sokoban_rl/utils.py:177: RuntimeWarning: divide by zero encountered in double_scalars\n",
            "  np.sum(agent.all_rewards[-print_interval:]) / steps_count,\n"
          ]
        },
        {
          "name": "stdout",
          "output_type": "stream",
          "text": [
            "eps: 100, stats for last 100 eps:\tavg eps reward: -214.921\t\tavg eps step reward: -inf\t\tavg eps length: 118.460\t avg time: 0.126\ttricks_used:0\n",
            "eps: 200, stats for last 100 eps:\tavg eps reward: -270.255\t\tavg eps step reward: -inf\t\tavg eps length: 119.870\t avg time: 0.125\ttricks_used:0\n",
            "eps: 300, stats for last 100 eps:\tavg eps reward: -201.300\t\tavg eps step reward: -inf\t\tavg eps length: 126.260\t avg time: 0.137\ttricks_used:0\n",
            "eps: 400, stats for last 100 eps:\tavg eps reward: -205.787\t\tavg eps step reward: -inf\t\tavg eps length: 260.200\t avg time: 0.407\ttricks_used:0\n",
            "stepped scheduler, new lr: 0.00075\n",
            "eps: 500, stats for last 100 eps:\tavg eps reward: -103.970\t\tavg eps step reward: -inf\t\tavg eps length: 433.910\t avg time: 0.819\ttricks_used:0\n",
            "eps: 600, stats for last 100 eps:\tavg eps reward: 3.660\t\tavg eps step reward: inf\t\tavg eps length: 570.180\t avg time: 1.045\ttricks_used:0\n",
            "eps: 700, stats for last 100 eps:\tavg eps reward: 47.760\t\tavg eps step reward: inf\t\tavg eps length: 832.260\t avg time: 1.609\ttricks_used:0\n",
            "eps: 800, stats for last 100 eps:\tavg eps reward: 42.092\t\tavg eps step reward: inf\t\tavg eps length: 859.750\t avg time: 1.726\ttricks_used:0\n",
            "stepped scheduler, new lr: 0.00056\n",
            "eps: 900, stats for last 100 eps:\tavg eps reward: 62.461\t\tavg eps step reward: inf\t\tavg eps length: 914.350\t avg time: 1.982\ttricks_used:0\n",
            "eps: 1000, stats for last 100 eps:\tavg eps reward: 87.704\t\tavg eps step reward: inf\t\tavg eps length: 905.250\t avg time: 1.837\ttricks_used:0\n",
            "eps: 1100, stats for last 100 eps:\tavg eps reward: 61.668\t\tavg eps step reward: inf\t\tavg eps length: 844.440\t avg time: 1.686\ttricks_used:0\n",
            "eps: 1200, stats for last 100 eps:\tavg eps reward: 64.654\t\tavg eps step reward: inf\t\tavg eps length: 848.400\t avg time: 1.692\ttricks_used:0\n",
            "stepped scheduler, new lr: 0.00042\n",
            "eps: 1300, stats for last 100 eps:\tavg eps reward: 34.552\t\tavg eps step reward: inf\t\tavg eps length: 894.760\t avg time: 1.935\ttricks_used:0\n",
            "eps: 1400, stats for last 100 eps:\tavg eps reward: 75.188\t\tavg eps step reward: inf\t\tavg eps length: 886.800\t avg time: 1.791\ttricks_used:0\n",
            "eps: 1500, stats for last 100 eps:\tavg eps reward: 67.960\t\tavg eps step reward: inf\t\tavg eps length: 897.910\t avg time: 1.809\ttricks_used:0\n",
            "eps: 1600, stats for last 100 eps:\tavg eps reward: 52.618\t\tavg eps step reward: inf\t\tavg eps length: 852.970\t avg time: 1.730\ttricks_used:0\n",
            "stepped scheduler, new lr: 0.00032\n",
            "eps: 1700, stats for last 100 eps:\tavg eps reward: 56.553\t\tavg eps step reward: inf\t\tavg eps length: 897.030\t avg time: 1.857\ttricks_used:0\n",
            "eps: 1800, stats for last 100 eps:\tavg eps reward: 86.023\t\tavg eps step reward: inf\t\tavg eps length: 967.670\t avg time: 1.989\ttricks_used:0\n",
            "eps: 1900, stats for last 100 eps:\tavg eps reward: 78.878\t\tavg eps step reward: inf\t\tavg eps length: 898.760\t avg time: 1.733\ttricks_used:0\n",
            "eps: 2000, stats for last 100 eps:\tavg eps reward: 88.089\t\tavg eps step reward: inf\t\tavg eps length: 924.660\t avg time: 1.820\ttricks_used:0\n",
            "stepped scheduler, new lr: 0.00024\n",
            "eps: 2100, stats for last 100 eps:\tavg eps reward: 76.065\t\tavg eps step reward: inf\t\tavg eps length: 907.150\t avg time: 1.764\ttricks_used:0\n",
            "eps: 2200, stats for last 100 eps:\tavg eps reward: 69.083\t\tavg eps step reward: inf\t\tavg eps length: 846.680\t avg time: 1.637\ttricks_used:0\n",
            "eps: 2300, stats for last 100 eps:\tavg eps reward: 74.025\t\tavg eps step reward: inf\t\tavg eps length: 887.230\t avg time: 1.719\ttricks_used:0\n",
            "eps: 2400, stats for last 100 eps:\tavg eps reward: 61.515\t\tavg eps step reward: inf\t\tavg eps length: 853.380\t avg time: 1.722\ttricks_used:0\n",
            "stepped scheduler, new lr: 0.00018\n",
            "eps: 2500, stats for last 100 eps:\tavg eps reward: 76.957\t\tavg eps step reward: inf\t\tavg eps length: 874.150\t avg time: 1.758\ttricks_used:0\n",
            "eps: 2600, stats for last 100 eps:\tavg eps reward: 67.307\t\tavg eps step reward: inf\t\tavg eps length: 892.210\t avg time: 1.782\ttricks_used:0\n",
            "eps: 2700, stats for last 100 eps:\tavg eps reward: 72.860\t\tavg eps step reward: inf\t\tavg eps length: 900.960\t avg time: 1.790\ttricks_used:0\n",
            "eps: 2800, stats for last 100 eps:\tavg eps reward: 73.033\t\tavg eps step reward: inf\t\tavg eps length: 872.910\t avg time: 1.731\ttricks_used:0\n",
            "stepped scheduler, new lr: 0.00013\n",
            "eps: 2900, stats for last 100 eps:\tavg eps reward: 84.776\t\tavg eps step reward: inf\t\tavg eps length: 902.510\t avg time: 1.727\ttricks_used:0\n",
            "---------- Finished training ----------\n",
            "Killed env gen process\n",
            "Saved agent to ./model.pkl\n",
            "----- training took 75.185 minutes -----\n",
            "\n"
          ]
        }
      ]
    },
    {
      "cell_type": "code",
      "metadata": {
        "colab": {
          "base_uri": "https://localhost:8080/"
        },
        "id": "paM-EQXmoppl",
        "outputId": "fa0e677b-bc4e-4dee-9e35-c203f390c242"
      },
      "source": [
        "num_iterations = 1\n",
        "CONE_TRICK = False\n",
        "NUM_DISCRETE = 13\n",
        "LR = 0.0035\n",
        "SCHED_GAMMA = 0.8\n",
        "HIDDEN_SIZE = 512\n",
        "CLIP_GRADIENT = False\n",
        "STOP_TRICK_AT = 200\n",
        "pkl_save_path = os.path.join(DRIVE_PATH, 'best_dqn.pkl')\n",
        "dqn_per_agent = find_best(SimpleDQN, DQNAgent, num_iterations, pkl_save_path, epochs=3000,\n",
        "                           action_type='FIXED_LUNAR', no_per=True)"
      ],
      "execution_count": null,
      "outputs": [
        {
          "name": "stdout",
          "output_type": "stream",
          "text": [
            "#################### Attempt 0  ####################\n",
            "Using CUDA\n"
          ]
        },
        {
          "name": "stderr",
          "output_type": "stream",
          "text": [
            "/content/sokoban_rl/utils.py:177: RuntimeWarning: divide by zero encountered in double_scalars\n",
            "  np.sum(agent.all_rewards[-print_interval:]) / steps_count,\n"
          ]
        },
        {
          "name": "stdout",
          "output_type": "stream",
          "text": [
            "eps: 100, stats for last 100 eps:\tavg eps reward: -225.845\t\tavg eps step reward: -inf\t\tavg eps length: 175.080\t avg time: 0.221\ttricks_used:0\n",
            "eps: 200, stats for last 100 eps:\tavg eps reward: -105.534\t\tavg eps step reward: -inf\t\tavg eps length: 184.540\t avg time: 0.242\ttricks_used:0\n",
            "eps: 300, stats for last 100 eps:\tavg eps reward: -64.159\t\tavg eps step reward: -inf\t\tavg eps length: 174.720\t avg time: 0.223\ttricks_used:0\n",
            "eps: 400, stats for last 100 eps:\tavg eps reward: -66.430\t\tavg eps step reward: -inf\t\tavg eps length: 147.980\t avg time: 0.170\ttricks_used:0\n",
            "stepped scheduler, new lr: 0.00280\n",
            "eps: 500, stats for last 100 eps:\tavg eps reward: -93.949\t\tavg eps step reward: -inf\t\tavg eps length: 177.810\t avg time: 0.221\ttricks_used:0\n",
            "eps: 600, stats for last 100 eps:\tavg eps reward: -40.684\t\tavg eps step reward: -inf\t\tavg eps length: 194.380\t avg time: 0.258\ttricks_used:0\n",
            "eps: 700, stats for last 100 eps:\tavg eps reward: -46.248\t\tavg eps step reward: -inf\t\tavg eps length: 164.470\t avg time: 0.200\ttricks_used:0\n",
            "eps: 800, stats for last 100 eps:\tavg eps reward: -57.516\t\tavg eps step reward: -inf\t\tavg eps length: 214.450\t avg time: 0.330\ttricks_used:0\n",
            "stepped scheduler, new lr: 0.00224\n",
            "eps: 900, stats for last 100 eps:\tavg eps reward: -52.287\t\tavg eps step reward: -inf\t\tavg eps length: 837.340\t avg time: 1.950\ttricks_used:0\n",
            "eps: 1000, stats for last 100 eps:\tavg eps reward: -11.705\t\tavg eps step reward: -inf\t\tavg eps length: 949.570\t avg time: 2.342\ttricks_used:0\n",
            "eps: 1100, stats for last 100 eps:\tavg eps reward: 28.320\t\tavg eps step reward: inf\t\tavg eps length: 733.940\t avg time: 1.479\ttricks_used:0\n",
            "eps: 1200, stats for last 100 eps:\tavg eps reward: 54.507\t\tavg eps step reward: inf\t\tavg eps length: 856.820\t avg time: 1.722\ttricks_used:0\n",
            "stepped scheduler, new lr: 0.00179\n",
            "eps: 1300, stats for last 100 eps:\tavg eps reward: 34.408\t\tavg eps step reward: inf\t\tavg eps length: 876.590\t avg time: 1.837\ttricks_used:0\n",
            "eps: 1400, stats for last 100 eps:\tavg eps reward: 27.856\t\tavg eps step reward: inf\t\tavg eps length: 795.110\t avg time: 1.589\ttricks_used:0\n",
            "eps: 1500, stats for last 100 eps:\tavg eps reward: 35.053\t\tavg eps step reward: inf\t\tavg eps length: 947.830\t avg time: 1.944\ttricks_used:0\n",
            "eps: 1600, stats for last 100 eps:\tavg eps reward: 79.159\t\tavg eps step reward: inf\t\tavg eps length: 923.460\t avg time: 1.771\ttricks_used:0\n",
            "stepped scheduler, new lr: 0.00143\n",
            "eps: 1700, stats for last 100 eps:\tavg eps reward: 90.034\t\tavg eps step reward: inf\t\tavg eps length: 863.210\t avg time: 1.579\ttricks_used:0\n",
            "eps: 1800, stats for last 100 eps:\tavg eps reward: 104.519\t\tavg eps step reward: inf\t\tavg eps length: 961.010\t avg time: 1.761\ttricks_used:0\n",
            "eps: 1900, stats for last 100 eps:\tavg eps reward: 78.402\t\tavg eps step reward: inf\t\tavg eps length: 842.490\t avg time: 1.543\ttricks_used:0\n",
            "eps: 2000, stats for last 100 eps:\tavg eps reward: 43.672\t\tavg eps step reward: inf\t\tavg eps length: 839.540\t avg time: 1.666\ttricks_used:0\n",
            "stepped scheduler, new lr: 0.00115\n",
            "eps: 2100, stats for last 100 eps:\tavg eps reward: 86.809\t\tavg eps step reward: inf\t\tavg eps length: 897.570\t avg time: 1.679\ttricks_used:0\n",
            "eps: 2200, stats for last 100 eps:\tavg eps reward: 69.723\t\tavg eps step reward: inf\t\tavg eps length: 935.630\t avg time: 1.827\ttricks_used:0\n",
            "eps: 2300, stats for last 100 eps:\tavg eps reward: 80.612\t\tavg eps step reward: inf\t\tavg eps length: 892.090\t avg time: 1.692\ttricks_used:0\n",
            "eps: 2400, stats for last 100 eps:\tavg eps reward: 64.722\t\tavg eps step reward: inf\t\tavg eps length: 787.950\t avg time: 1.464\ttricks_used:0\n",
            "stepped scheduler, new lr: 0.00092\n",
            "eps: 2500, stats for last 100 eps:\tavg eps reward: 72.241\t\tavg eps step reward: inf\t\tavg eps length: 818.930\t avg time: 1.489\ttricks_used:0\n",
            "eps: 2600, stats for last 100 eps:\tavg eps reward: 63.889\t\tavg eps step reward: inf\t\tavg eps length: 881.070\t avg time: 1.665\ttricks_used:0\n",
            "eps: 2700, stats for last 100 eps:\tavg eps reward: 80.008\t\tavg eps step reward: inf\t\tavg eps length: 982.100\t avg time: 1.921\ttricks_used:0\n",
            "eps: 2800, stats for last 100 eps:\tavg eps reward: 81.218\t\tavg eps step reward: inf\t\tavg eps length: 928.970\t avg time: 1.730\ttricks_used:0\n",
            "stepped scheduler, new lr: 0.00073\n",
            "eps: 2900, stats for last 100 eps:\tavg eps reward: 64.289\t\tavg eps step reward: inf\t\tavg eps length: 852.290\t avg time: 1.577\ttricks_used:0\n",
            "---------- Finished training ----------\n",
            "Killed env gen process\n",
            "Saved agent to ./model.pkl\n",
            "----- training took 66.378 minutes -----\n",
            "\n"
          ]
        }
      ]
    },
    {
      "cell_type": "code",
      "metadata": {
        "colab": {
          "base_uri": "https://localhost:8080/"
        },
        "id": "5D1YqVw1vh0j",
        "outputId": "96c265ce-18d9-40cf-fc85-e229f9a1603c"
      },
      "source": [
        "num_iterations = 1\n",
        "CONE_TRICK = False\n",
        "NUM_DISCRETE = 13\n",
        "LR = 0.0035\n",
        "SCHED_GAMMA = 0.8\n",
        "HIDDEN_SIZE = 256\n",
        "CLIP_GRADIENT = False\n",
        "STOP_TRICK_AT = 200\n",
        "pkl_save_path = os.path.join(DRIVE_PATH, 'best_dqn.pkl')\n",
        "dqn_per_agent = find_best(SimpleDQN, DQNAgent, num_iterations, pkl_save_path, epochs=3000,\n",
        "                           action_type='FIXED_LUNAR', no_per=True)"
      ],
      "execution_count": null,
      "outputs": [
        {
          "name": "stdout",
          "output_type": "stream",
          "text": [
            "#################### Attempt 0  ####################\n",
            "Using CUDA\n"
          ]
        },
        {
          "name": "stderr",
          "output_type": "stream",
          "text": [
            "/content/sokoban_rl/utils.py:177: RuntimeWarning: divide by zero encountered in double_scalars\n",
            "  np.sum(agent.all_rewards[-print_interval:]) / steps_count,\n"
          ]
        },
        {
          "name": "stdout",
          "output_type": "stream",
          "text": [
            "eps: 100, stats for last 100 eps:\tavg eps reward: -217.372\t\tavg eps step reward: -inf\t\tavg eps length: 136.240\t avg time: 0.163\ttricks_used:0\n",
            "eps: 200, stats for last 100 eps:\tavg eps reward: -156.969\t\tavg eps step reward: -inf\t\tavg eps length: 82.120\t avg time: 0.080\ttricks_used:0\n",
            "eps: 300, stats for last 100 eps:\tavg eps reward: -135.179\t\tavg eps step reward: -inf\t\tavg eps length: 71.940\t avg time: 0.060\ttricks_used:0\n",
            "eps: 400, stats for last 100 eps:\tavg eps reward: -133.270\t\tavg eps step reward: -inf\t\tavg eps length: 69.990\t avg time: 0.060\ttricks_used:0\n",
            "stepped scheduler, new lr: 0.00280\n",
            "eps: 500, stats for last 100 eps:\tavg eps reward: -134.827\t\tavg eps step reward: -inf\t\tavg eps length: 69.730\t avg time: 0.059\ttricks_used:0\n",
            "eps: 600, stats for last 100 eps:\tavg eps reward: -132.908\t\tavg eps step reward: -inf\t\tavg eps length: 71.600\t avg time: 0.061\ttricks_used:0\n",
            "eps: 700, stats for last 100 eps:\tavg eps reward: -127.682\t\tavg eps step reward: -inf\t\tavg eps length: 68.260\t avg time: 0.057\ttricks_used:0\n",
            "eps: 800, stats for last 100 eps:\tavg eps reward: -126.370\t\tavg eps step reward: -inf\t\tavg eps length: 69.100\t avg time: 0.059\ttricks_used:0\n",
            "stepped scheduler, new lr: 0.00224\n",
            "eps: 900, stats for last 100 eps:\tavg eps reward: -123.667\t\tavg eps step reward: -inf\t\tavg eps length: 69.260\t avg time: 0.058\ttricks_used:0\n",
            "eps: 1000, stats for last 100 eps:\tavg eps reward: -127.223\t\tavg eps step reward: -inf\t\tavg eps length: 68.210\t avg time: 0.058\ttricks_used:0\n",
            "eps: 1100, stats for last 100 eps:\tavg eps reward: -141.788\t\tavg eps step reward: -inf\t\tavg eps length: 67.530\t avg time: 0.057\ttricks_used:0\n",
            "eps: 1200, stats for last 100 eps:\tavg eps reward: -126.115\t\tavg eps step reward: -inf\t\tavg eps length: 68.690\t avg time: 0.058\ttricks_used:0\n",
            "stepped scheduler, new lr: 0.00179\n",
            "eps: 1300, stats for last 100 eps:\tavg eps reward: -137.018\t\tavg eps step reward: -inf\t\tavg eps length: 67.920\t avg time: 0.057\ttricks_used:0\n",
            "eps: 1400, stats for last 100 eps:\tavg eps reward: -142.883\t\tavg eps step reward: -inf\t\tavg eps length: 71.050\t avg time: 0.060\ttricks_used:0\n",
            "eps: 1500, stats for last 100 eps:\tavg eps reward: -137.238\t\tavg eps step reward: -inf\t\tavg eps length: 71.870\t avg time: 0.061\ttricks_used:0\n",
            "eps: 1600, stats for last 100 eps:\tavg eps reward: -126.578\t\tavg eps step reward: -inf\t\tavg eps length: 72.300\t avg time: 0.062\ttricks_used:0\n",
            "stepped scheduler, new lr: 0.00143\n",
            "eps: 1700, stats for last 100 eps:\tavg eps reward: -128.956\t\tavg eps step reward: -inf\t\tavg eps length: 68.820\t avg time: 0.058\ttricks_used:0\n",
            "eps: 1800, stats for last 100 eps:\tavg eps reward: -121.761\t\tavg eps step reward: -inf\t\tavg eps length: 70.290\t avg time: 0.059\ttricks_used:0\n",
            "eps: 1900, stats for last 100 eps:\tavg eps reward: -131.483\t\tavg eps step reward: -inf\t\tavg eps length: 70.260\t avg time: 0.059\ttricks_used:0\n",
            "eps: 2000, stats for last 100 eps:\tavg eps reward: -135.525\t\tavg eps step reward: -inf\t\tavg eps length: 69.070\t avg time: 0.058\ttricks_used:0\n",
            "stepped scheduler, new lr: 0.00115\n",
            "eps: 2100, stats for last 100 eps:\tavg eps reward: -133.425\t\tavg eps step reward: -inf\t\tavg eps length: 71.730\t avg time: 0.060\ttricks_used:0\n",
            "eps: 2200, stats for last 100 eps:\tavg eps reward: -125.672\t\tavg eps step reward: -inf\t\tavg eps length: 69.230\t avg time: 0.059\ttricks_used:0\n",
            "eps: 2300, stats for last 100 eps:\tavg eps reward: -130.668\t\tavg eps step reward: -inf\t\tavg eps length: 70.910\t avg time: 0.060\ttricks_used:0\n",
            "eps: 2400, stats for last 100 eps:\tavg eps reward: -134.241\t\tavg eps step reward: -inf\t\tavg eps length: 70.400\t avg time: 0.059\ttricks_used:0\n",
            "stepped scheduler, new lr: 0.00092\n",
            "eps: 2500, stats for last 100 eps:\tavg eps reward: -132.767\t\tavg eps step reward: -inf\t\tavg eps length: 69.460\t avg time: 0.059\ttricks_used:0\n",
            "eps: 2600, stats for last 100 eps:\tavg eps reward: -131.350\t\tavg eps step reward: -inf\t\tavg eps length: 69.370\t avg time: 0.059\ttricks_used:0\n",
            "eps: 2700, stats for last 100 eps:\tavg eps reward: -138.639\t\tavg eps step reward: -inf\t\tavg eps length: 71.380\t avg time: 0.061\ttricks_used:0\n",
            "eps: 2800, stats for last 100 eps:\tavg eps reward: -128.418\t\tavg eps step reward: -inf\t\tavg eps length: 72.090\t avg time: 0.060\ttricks_used:0\n",
            "stepped scheduler, new lr: 0.00073\n",
            "eps: 2900, stats for last 100 eps:\tavg eps reward: -135.385\t\tavg eps step reward: -inf\t\tavg eps length: 69.420\t avg time: 0.058\ttricks_used:0\n",
            "---------- Finished training ----------\n",
            "Killed env gen process\n",
            "Saved agent to ./model.pkl\n",
            "----- training took 3.165 minutes -----\n",
            "\n"
          ]
        }
      ]
    },
    {
      "cell_type": "code",
      "metadata": {
        "colab": {
          "base_uri": "https://localhost:8080/"
        },
        "id": "2onKtjeMviDd",
        "outputId": "643b0f5b-7d0d-4ce1-aa24-53da35a07f99"
      },
      "source": [
        "num_iterations = 1\n",
        "CONE_TRICK = False\n",
        "NUM_DISCRETE = 13\n",
        "LR = 0.0035\n",
        "SCHED_GAMMA = 0.8\n",
        "HIDDEN_SIZE = 512\n",
        "CLIP_GRADIENT = False\n",
        "STOP_TRICK_AT = 200\n",
        "pkl_save_path = os.path.join(DRIVE_PATH, 'best_dqn.pkl')\n",
        "dqn_per_agent = find_best(SimpleDQN, DQNAgent, num_iterations, pkl_save_path, epochs=3000,\n",
        "                           action_type='FIXED_LUNAR', no_per=False)"
      ],
      "execution_count": null,
      "outputs": [
        {
          "name": "stdout",
          "output_type": "stream",
          "text": [
            "#################### Attempt 0  ####################\n",
            "Using CUDA\n"
          ]
        },
        {
          "name": "stderr",
          "output_type": "stream",
          "text": [
            "/content/sokoban_rl/utils.py:177: RuntimeWarning: divide by zero encountered in double_scalars\n",
            "  np.sum(agent.all_rewards[-print_interval:]) / steps_count,\n"
          ]
        },
        {
          "name": "stdout",
          "output_type": "stream",
          "text": [
            "eps: 100, stats for last 100 eps:\tavg eps reward: -235.185\t\tavg eps step reward: -inf\t\tavg eps length: 79.250\t avg time: 0.088\ttricks_used:0\n",
            "eps: 200, stats for last 100 eps:\tavg eps reward: -145.460\t\tavg eps step reward: -inf\t\tavg eps length: 69.330\t avg time: 0.076\ttricks_used:0\n",
            "eps: 300, stats for last 100 eps:\tavg eps reward: -141.458\t\tavg eps step reward: -inf\t\tavg eps length: 66.810\t avg time: 0.072\ttricks_used:0\n",
            "eps: 400, stats for last 100 eps:\tavg eps reward: -141.392\t\tavg eps step reward: -inf\t\tavg eps length: 69.320\t avg time: 0.075\ttricks_used:0\n",
            "stepped scheduler, new lr: 0.00280\n",
            "eps: 500, stats for last 100 eps:\tavg eps reward: -135.276\t\tavg eps step reward: -inf\t\tavg eps length: 70.520\t avg time: 0.076\ttricks_used:0\n",
            "eps: 600, stats for last 100 eps:\tavg eps reward: -123.862\t\tavg eps step reward: -inf\t\tavg eps length: 68.610\t avg time: 0.074\ttricks_used:0\n",
            "eps: 700, stats for last 100 eps:\tavg eps reward: -124.317\t\tavg eps step reward: -inf\t\tavg eps length: 70.710\t avg time: 0.076\ttricks_used:0\n",
            "eps: 800, stats for last 100 eps:\tavg eps reward: -120.913\t\tavg eps step reward: -inf\t\tavg eps length: 69.760\t avg time: 0.075\ttricks_used:0\n",
            "stepped scheduler, new lr: 0.00224\n",
            "eps: 900, stats for last 100 eps:\tavg eps reward: -118.346\t\tavg eps step reward: -inf\t\tavg eps length: 68.820\t avg time: 0.074\ttricks_used:0\n",
            "eps: 1000, stats for last 100 eps:\tavg eps reward: -118.946\t\tavg eps step reward: -inf\t\tavg eps length: 71.490\t avg time: 0.078\ttricks_used:0\n",
            "eps: 1100, stats for last 100 eps:\tavg eps reward: -119.736\t\tavg eps step reward: -inf\t\tavg eps length: 69.360\t avg time: 0.075\ttricks_used:0\n",
            "eps: 1200, stats for last 100 eps:\tavg eps reward: -115.915\t\tavg eps step reward: -inf\t\tavg eps length: 68.780\t avg time: 0.074\ttricks_used:0\n",
            "stepped scheduler, new lr: 0.00179\n",
            "eps: 1300, stats for last 100 eps:\tavg eps reward: -115.762\t\tavg eps step reward: -inf\t\tavg eps length: 69.030\t avg time: 0.074\ttricks_used:0\n",
            "eps: 1400, stats for last 100 eps:\tavg eps reward: -116.033\t\tavg eps step reward: -inf\t\tavg eps length: 68.670\t avg time: 0.074\ttricks_used:0\n",
            "eps: 1500, stats for last 100 eps:\tavg eps reward: -118.560\t\tavg eps step reward: -inf\t\tavg eps length: 68.330\t avg time: 0.074\ttricks_used:0\n",
            "eps: 1600, stats for last 100 eps:\tavg eps reward: -113.770\t\tavg eps step reward: -inf\t\tavg eps length: 69.000\t avg time: 0.074\ttricks_used:0\n",
            "stepped scheduler, new lr: 0.00143\n",
            "eps: 1700, stats for last 100 eps:\tavg eps reward: -114.880\t\tavg eps step reward: -inf\t\tavg eps length: 69.200\t avg time: 0.074\ttricks_used:0\n",
            "eps: 1800, stats for last 100 eps:\tavg eps reward: -120.843\t\tavg eps step reward: -inf\t\tavg eps length: 70.160\t avg time: 0.076\ttricks_used:0\n",
            "eps: 1900, stats for last 100 eps:\tavg eps reward: -117.259\t\tavg eps step reward: -inf\t\tavg eps length: 68.230\t avg time: 0.074\ttricks_used:0\n",
            "eps: 2000, stats for last 100 eps:\tavg eps reward: -114.834\t\tavg eps step reward: -inf\t\tavg eps length: 69.780\t avg time: 0.075\ttricks_used:0\n",
            "stepped scheduler, new lr: 0.00115\n",
            "eps: 2100, stats for last 100 eps:\tavg eps reward: -114.720\t\tavg eps step reward: -inf\t\tavg eps length: 69.470\t avg time: 0.075\ttricks_used:0\n",
            "eps: 2200, stats for last 100 eps:\tavg eps reward: -116.697\t\tavg eps step reward: -inf\t\tavg eps length: 69.700\t avg time: 0.075\ttricks_used:0\n",
            "eps: 2300, stats for last 100 eps:\tavg eps reward: -114.715\t\tavg eps step reward: -inf\t\tavg eps length: 67.970\t avg time: 0.073\ttricks_used:0\n",
            "eps: 2400, stats for last 100 eps:\tavg eps reward: -116.170\t\tavg eps step reward: -inf\t\tavg eps length: 70.710\t avg time: 0.077\ttricks_used:0\n",
            "stepped scheduler, new lr: 0.00092\n",
            "eps: 2500, stats for last 100 eps:\tavg eps reward: -110.124\t\tavg eps step reward: -inf\t\tavg eps length: 68.070\t avg time: 0.073\ttricks_used:0\n",
            "eps: 2600, stats for last 100 eps:\tavg eps reward: -114.170\t\tavg eps step reward: -inf\t\tavg eps length: 69.000\t avg time: 0.075\ttricks_used:0\n",
            "eps: 2700, stats for last 100 eps:\tavg eps reward: -112.915\t\tavg eps step reward: -inf\t\tavg eps length: 69.950\t avg time: 0.075\ttricks_used:0\n",
            "eps: 2800, stats for last 100 eps:\tavg eps reward: -115.684\t\tavg eps step reward: -inf\t\tavg eps length: 71.170\t avg time: 0.077\ttricks_used:0\n",
            "stepped scheduler, new lr: 0.00073\n",
            "eps: 2900, stats for last 100 eps:\tavg eps reward: -117.348\t\tavg eps step reward: -inf\t\tavg eps length: 71.350\t avg time: 0.076\ttricks_used:0\n",
            "---------- Finished training ----------\n",
            "Killed env gen process\n",
            "Saved agent to ./model.pkl\n",
            "----- training took 3.774 minutes -----\n",
            "\n"
          ]
        }
      ]
    },
    {
      "cell_type": "code",
      "metadata": {
        "colab": {
          "base_uri": "https://localhost:8080/"
        },
        "id": "F8YVT0sVv05O",
        "outputId": "3688db6a-8eda-455e-bf93-9d4dd082fde9"
      },
      "source": [
        "num_iterations = 1\n",
        "CONE_TRICK = False\n",
        "NUM_DISCRETE = 13\n",
        "LR = 0.0035\n",
        "SCHED_GAMMA = 0.8\n",
        "HIDDEN_SIZE = 256\n",
        "CLIP_GRADIENT = False\n",
        "STOP_TRICK_AT = 200\n",
        "pkl_save_path = os.path.join(DRIVE_PATH, 'best_dqn.pkl')\n",
        "dqn_per_agent = find_best(SimpleDQN, DQNAgent, num_iterations, pkl_save_path, epochs=3000,\n",
        "                           action_type='FIXED_LUNAR', no_per=False)"
      ],
      "execution_count": null,
      "outputs": [
        {
          "name": "stdout",
          "output_type": "stream",
          "text": [
            "#################### Attempt 0  ####################\n",
            "Using CUDA\n"
          ]
        },
        {
          "name": "stderr",
          "output_type": "stream",
          "text": [
            "/content/sokoban_rl/utils.py:177: RuntimeWarning: divide by zero encountered in double_scalars\n",
            "  np.sum(agent.all_rewards[-print_interval:]) / steps_count,\n"
          ]
        },
        {
          "name": "stdout",
          "output_type": "stream",
          "text": [
            "eps: 100, stats for last 100 eps:\tavg eps reward: -228.001\t\tavg eps step reward: -inf\t\tavg eps length: 87.010\t avg time: 0.091\ttricks_used:0\n",
            "eps: 200, stats for last 100 eps:\tavg eps reward: -175.404\t\tavg eps step reward: -inf\t\tavg eps length: 69.170\t avg time: 0.066\ttricks_used:0\n",
            "eps: 300, stats for last 100 eps:\tavg eps reward: -160.167\t\tavg eps step reward: -inf\t\tavg eps length: 70.560\t avg time: 0.076\ttricks_used:0\n",
            "eps: 400, stats for last 100 eps:\tavg eps reward: -134.477\t\tavg eps step reward: -inf\t\tavg eps length: 68.740\t avg time: 0.075\ttricks_used:0\n",
            "stepped scheduler, new lr: 0.00280\n",
            "eps: 500, stats for last 100 eps:\tavg eps reward: -131.681\t\tavg eps step reward: -inf\t\tavg eps length: 68.930\t avg time: 0.075\ttricks_used:0\n",
            "eps: 600, stats for last 100 eps:\tavg eps reward: -134.555\t\tavg eps step reward: -inf\t\tavg eps length: 71.590\t avg time: 0.077\ttricks_used:0\n",
            "eps: 700, stats for last 100 eps:\tavg eps reward: -135.242\t\tavg eps step reward: -inf\t\tavg eps length: 70.360\t avg time: 0.077\ttricks_used:0\n",
            "eps: 800, stats for last 100 eps:\tavg eps reward: -134.366\t\tavg eps step reward: -inf\t\tavg eps length: 123.100\t avg time: 0.167\ttricks_used:0\n",
            "stepped scheduler, new lr: 0.00224\n",
            "eps: 900, stats for last 100 eps:\tavg eps reward: -83.691\t\tavg eps step reward: -inf\t\tavg eps length: 477.620\t avg time: 0.961\ttricks_used:0\n",
            "eps: 1000, stats for last 100 eps:\tavg eps reward: 0.142\t\tavg eps step reward: inf\t\tavg eps length: 811.380\t avg time: 1.901\ttricks_used:0\n",
            "eps: 1100, stats for last 100 eps:\tavg eps reward: -15.525\t\tavg eps step reward: -inf\t\tavg eps length: 561.820\t avg time: 1.199\ttricks_used:0\n",
            "eps: 1200, stats for last 100 eps:\tavg eps reward: -59.337\t\tavg eps step reward: -inf\t\tavg eps length: 947.430\t avg time: 2.316\ttricks_used:0\n",
            "stepped scheduler, new lr: 0.00179\n",
            "eps: 1300, stats for last 100 eps:\tavg eps reward: -10.360\t\tavg eps step reward: -inf\t\tavg eps length: 970.290\t avg time: 2.550\ttricks_used:0\n",
            "eps: 1400, stats for last 100 eps:\tavg eps reward: 39.792\t\tavg eps step reward: inf\t\tavg eps length: 921.180\t avg time: 2.282\ttricks_used:0\n",
            "eps: 1500, stats for last 100 eps:\tavg eps reward: 44.545\t\tavg eps step reward: inf\t\tavg eps length: 898.610\t avg time: 2.252\ttricks_used:0\n",
            "eps: 1600, stats for last 100 eps:\tavg eps reward: 16.168\t\tavg eps step reward: inf\t\tavg eps length: 808.440\t avg time: 1.853\ttricks_used:0\n",
            "stepped scheduler, new lr: 0.00143\n",
            "eps: 1700, stats for last 100 eps:\tavg eps reward: 62.147\t\tavg eps step reward: inf\t\tavg eps length: 948.740\t avg time: 2.159\ttricks_used:0\n",
            "eps: 1800, stats for last 100 eps:\tavg eps reward: 106.557\t\tavg eps step reward: inf\t\tavg eps length: 800.350\t avg time: 1.715\ttricks_used:0\n",
            "eps: 1900, stats for last 100 eps:\tavg eps reward: 66.536\t\tavg eps step reward: inf\t\tavg eps length: 728.610\t avg time: 1.577\ttricks_used:0\n",
            "eps: 2000, stats for last 100 eps:\tavg eps reward: 66.726\t\tavg eps step reward: inf\t\tavg eps length: 676.260\t avg time: 1.437\ttricks_used:0\n",
            "stepped scheduler, new lr: 0.00115\n",
            "eps: 2100, stats for last 100 eps:\tavg eps reward: 55.861\t\tavg eps step reward: inf\t\tavg eps length: 943.360\t avg time: 2.362\ttricks_used:0\n",
            "eps: 2200, stats for last 100 eps:\tavg eps reward: 40.707\t\tavg eps step reward: inf\t\tavg eps length: 888.700\t avg time: 2.149\ttricks_used:0\n",
            "eps: 2300, stats for last 100 eps:\tavg eps reward: 8.216\t\tavg eps step reward: inf\t\tavg eps length: 920.650\t avg time: 2.340\ttricks_used:0\n",
            "eps: 2400, stats for last 100 eps:\tavg eps reward: 28.022\t\tavg eps step reward: inf\t\tavg eps length: 927.740\t avg time: 2.320\ttricks_used:0\n",
            "stepped scheduler, new lr: 0.00092\n",
            "eps: 2500, stats for last 100 eps:\tavg eps reward: 8.870\t\tavg eps step reward: inf\t\tavg eps length: 886.010\t avg time: 2.221\ttricks_used:0\n",
            "eps: 2600, stats for last 100 eps:\tavg eps reward: 7.587\t\tavg eps step reward: inf\t\tavg eps length: 947.300\t avg time: 2.350\ttricks_used:0\n",
            "eps: 2700, stats for last 100 eps:\tavg eps reward: 25.358\t\tavg eps step reward: inf\t\tavg eps length: 934.060\t avg time: 2.291\ttricks_used:0\n",
            "eps: 2800, stats for last 100 eps:\tavg eps reward: 38.235\t\tavg eps step reward: inf\t\tavg eps length: 912.580\t avg time: 2.189\ttricks_used:0\n",
            "stepped scheduler, new lr: 0.00073\n",
            "eps: 2900, stats for last 100 eps:\tavg eps reward: 37.431\t\tavg eps step reward: inf\t\tavg eps length: 991.600\t avg time: 2.394\ttricks_used:0\n",
            "---------- Finished training ----------\n",
            "Killed env gen process\n",
            "Saved agent to ./model.pkl\n",
            "----- training took 76.085 minutes -----\n",
            "\n"
          ]
        }
      ]
    },
    {
      "cell_type": "markdown",
      "metadata": {
        "id": "z19cd7gM_ZWr"
      },
      "source": [
        "## NEW!!"
      ]
    },
    {
      "cell_type": "code",
      "metadata": {
        "colab": {
          "base_uri": "https://localhost:8080/"
        },
        "id": "pjoKJQC091mb",
        "outputId": "0e116362-54a6-4cfe-93a2-f0de68ba98cc"
      },
      "source": [
        "# lower lr\n",
        "num_iterations = 1\n",
        "CONE_TRICK = False\n",
        "NUM_DISCRETE = 13\n",
        "LR = 0.0005\n",
        "HIDDEN_SIZE = 256\n",
        "CLIP_GRADIENT = False\n",
        "STOP_TRICK_AT = 200\n",
        "pkl_save_path = os.path.join(DRIVE_PATH, 'best_dqn.pkl')\n",
        "dqn_per_agent = find_best(SimpleDQN, DQNAgent, num_iterations, pkl_save_path, epochs=3000,\n",
        "                           action_type='FIXED_LUNAR', no_per=False, epsilon=1)"
      ],
      "execution_count": null,
      "outputs": [
        {
          "name": "stdout",
          "output_type": "stream",
          "text": [
            "#################### Attempt 0  ####################\n",
            "Using CUDA\n"
          ]
        },
        {
          "name": "stderr",
          "output_type": "stream",
          "text": [
            "/content/sokoban_rl/utils.py:177: RuntimeWarning: divide by zero encountered in double_scalars\n",
            "  np.sum(agent.all_rewards[-print_interval:]) / steps_count,\n"
          ]
        },
        {
          "name": "stdout",
          "output_type": "stream",
          "text": [
            "eps: 100, stats for last 100 eps:\tavg eps reward: -220.799\t\tavg eps step reward: -inf\t\tavg eps length: 108.010\t avg time: 0.107\ttricks_used:0\n",
            "eps: 200, stats for last 100 eps:\tavg eps reward: -331.831\t\tavg eps step reward: -inf\t\tavg eps length: 106.230\t avg time: 0.105\ttricks_used:0\n",
            "eps: 300, stats for last 100 eps:\tavg eps reward: -259.886\t\tavg eps step reward: -inf\t\tavg eps length: 105.970\t avg time: 0.107\ttricks_used:0\n",
            "eps: 400, stats for last 100 eps:\tavg eps reward: -221.476\t\tavg eps step reward: -inf\t\tavg eps length: 146.200\t avg time: 0.183\ttricks_used:0\n",
            "stepped scheduler, new lr: 0.00040\n",
            "eps: 500, stats for last 100 eps:\tavg eps reward: -132.844\t\tavg eps step reward: -inf\t\tavg eps length: 157.290\t avg time: 0.189\ttricks_used:0\n",
            "eps: 600, stats for last 100 eps:\tavg eps reward: -161.153\t\tavg eps step reward: -inf\t\tavg eps length: 204.700\t avg time: 0.311\ttricks_used:0\n",
            "eps: 700, stats for last 100 eps:\tavg eps reward: -235.927\t\tavg eps step reward: -inf\t\tavg eps length: 252.160\t avg time: 0.441\ttricks_used:0\n",
            "eps: 800, stats for last 100 eps:\tavg eps reward: -156.039\t\tavg eps step reward: -inf\t\tavg eps length: 656.640\t avg time: 1.510\ttricks_used:0\n",
            "stepped scheduler, new lr: 0.00032\n",
            "eps: 900, stats for last 100 eps:\tavg eps reward: -207.827\t\tavg eps step reward: -inf\t\tavg eps length: 541.040\t avg time: 1.156\ttricks_used:0\n",
            "eps: 1000, stats for last 100 eps:\tavg eps reward: -170.833\t\tavg eps step reward: -inf\t\tavg eps length: 679.970\t avg time: 1.629\ttricks_used:0\n",
            "eps: 1100, stats for last 100 eps:\tavg eps reward: -146.202\t\tavg eps step reward: -inf\t\tavg eps length: 1000.000\t avg time: 2.673\ttricks_used:0\n",
            "eps: 1200, stats for last 100 eps:\tavg eps reward: -146.687\t\tavg eps step reward: -inf\t\tavg eps length: 1000.000\t avg time: 2.603\ttricks_used:0\n",
            "stepped scheduler, new lr: 0.00026\n",
            "eps: 1300, stats for last 100 eps:\tavg eps reward: -155.026\t\tavg eps step reward: -inf\t\tavg eps length: 1000.000\t avg time: 2.671\ttricks_used:0\n",
            "eps: 1400, stats for last 100 eps:\tavg eps reward: -152.705\t\tavg eps step reward: -inf\t\tavg eps length: 1000.000\t avg time: 2.605\ttricks_used:0\n",
            "eps: 1500, stats for last 100 eps:\tavg eps reward: -150.618\t\tavg eps step reward: -inf\t\tavg eps length: 1000.000\t avg time: 2.607\ttricks_used:0\n",
            "eps: 1600, stats for last 100 eps:\tavg eps reward: -161.213\t\tavg eps step reward: -inf\t\tavg eps length: 871.780\t avg time: 2.069\ttricks_used:0\n",
            "stepped scheduler, new lr: 0.00020\n",
            "eps: 1700, stats for last 100 eps:\tavg eps reward: -160.416\t\tavg eps step reward: -inf\t\tavg eps length: 449.920\t avg time: 0.827\ttricks_used:0\n",
            "eps: 1800, stats for last 100 eps:\tavg eps reward: -154.624\t\tavg eps step reward: -inf\t\tavg eps length: 956.230\t avg time: 2.243\ttricks_used:0\n",
            "eps: 1900, stats for last 100 eps:\tavg eps reward: -152.022\t\tavg eps step reward: -inf\t\tavg eps length: 993.690\t avg time: 2.370\ttricks_used:0\n",
            "eps: 2000, stats for last 100 eps:\tavg eps reward: -152.674\t\tavg eps step reward: -inf\t\tavg eps length: 979.360\t avg time: 2.275\ttricks_used:0\n",
            "stepped scheduler, new lr: 0.00016\n",
            "eps: 2100, stats for last 100 eps:\tavg eps reward: -118.720\t\tavg eps step reward: -inf\t\tavg eps length: 976.900\t avg time: 2.435\ttricks_used:0\n",
            "eps: 2200, stats for last 100 eps:\tavg eps reward: -125.153\t\tavg eps step reward: -inf\t\tavg eps length: 855.680\t avg time: 2.096\ttricks_used:0\n",
            "eps: 2300, stats for last 100 eps:\tavg eps reward: -99.188\t\tavg eps step reward: -inf\t\tavg eps length: 993.620\t avg time: 2.653\ttricks_used:0\n",
            "eps: 2400, stats for last 100 eps:\tavg eps reward: -63.801\t\tavg eps step reward: -inf\t\tavg eps length: 894.540\t avg time: 2.176\ttricks_used:0\n",
            "stepped scheduler, new lr: 0.00013\n",
            "eps: 2500, stats for last 100 eps:\tavg eps reward: -91.932\t\tavg eps step reward: -inf\t\tavg eps length: 657.550\t avg time: 1.422\ttricks_used:0\n",
            "eps: 2600, stats for last 100 eps:\tavg eps reward: -152.164\t\tavg eps step reward: -inf\t\tavg eps length: 459.940\t avg time: 0.826\ttricks_used:0\n",
            "eps: 2700, stats for last 100 eps:\tavg eps reward: -154.418\t\tavg eps step reward: -inf\t\tavg eps length: 536.310\t avg time: 0.977\ttricks_used:0\n",
            "eps: 2800, stats for last 100 eps:\tavg eps reward: -145.701\t\tavg eps step reward: -inf\t\tavg eps length: 492.870\t avg time: 0.935\ttricks_used:0\n",
            "stepped scheduler, new lr: 0.00010\n",
            "eps: 2900, stats for last 100 eps:\tavg eps reward: -142.115\t\tavg eps step reward: -inf\t\tavg eps length: 938.080\t avg time: 2.216\ttricks_used:0\n",
            "---------- Finished training ----------\n",
            "Killed env gen process\n",
            "Saved agent to ./model.pkl\n",
            "----- training took 75.637 minutes -----\n",
            "\n"
          ]
        }
      ]
    },
    {
      "cell_type": "code",
      "metadata": {
        "colab": {
          "base_uri": "https://localhost:8080/",
          "height": 442
        },
        "id": "XvISgMtyv2PN",
        "outputId": "bcd6d532-d0b8-4bba-d836-8a7cd57df04f"
      },
      "source": [
        "# cone trick #### DEBUG THIS!!\n",
        "num_iterations = 1\n",
        "CONE_TRICK = True\n",
        "NUM_DISCRETE = 13\n",
        "LR = 0.001\n",
        "HIDDEN_SIZE = 256\n",
        "CLIP_GRADIENT = False\n",
        "STOP_TRICK_AT = 0\n",
        "pkl_save_path = os.path.join(DRIVE_PATH, 'best_dqn.pkl')\n",
        "dqn_per_agent = find_best(SimpleDQN, DQNAgent, num_iterations, pkl_save_path, epochs=3000,\n",
        "                           action_type='FIXED_LUNAR', no_per=False, epsilon=1)"
      ],
      "execution_count": null,
      "outputs": [
        {
          "name": "stdout",
          "output_type": "stream",
          "text": [
            "#################### Attempt 0  ####################\n",
            "Using CUDA\n"
          ]
        },
        {
          "name": "stderr",
          "output_type": "stream",
          "text": [
            "/content/sokoban_rl/utils.py:177: RuntimeWarning: divide by zero encountered in double_scalars\n",
            "  np.sum(agent.all_rewards[-print_interval:]) / steps_count,\n"
          ]
        },
        {
          "name": "stdout",
          "output_type": "stream",
          "text": [
            "eps: 100, stats for last 100 eps:\tavg eps reward: -244.862\t\tavg eps step reward: -inf\t\tavg eps length: 98.090\t avg time: 0.099\ttricks_used:0\n"
          ]
        },
        {
          "ename": "KeyboardInterrupt",
          "evalue": "ignored",
          "output_type": "error",
          "traceback": [
            "\u001b[0;31m---------------------------------------------------------------------------\u001b[0m",
            "\u001b[0;31mKeyboardInterrupt\u001b[0m                         Traceback (most recent call last)",
            "\u001b[0;32m<ipython-input-21-b9c3d33c61db>\u001b[0m in \u001b[0;36m<module>\u001b[0;34m()\u001b[0m\n\u001b[1;32m      9\u001b[0m \u001b[0mpkl_save_path\u001b[0m \u001b[0;34m=\u001b[0m \u001b[0mos\u001b[0m\u001b[0;34m.\u001b[0m\u001b[0mpath\u001b[0m\u001b[0;34m.\u001b[0m\u001b[0mjoin\u001b[0m\u001b[0;34m(\u001b[0m\u001b[0mDRIVE_PATH\u001b[0m\u001b[0;34m,\u001b[0m \u001b[0;34m'best_dqn.pkl'\u001b[0m\u001b[0;34m)\u001b[0m\u001b[0;34m\u001b[0m\u001b[0;34m\u001b[0m\u001b[0m\n\u001b[1;32m     10\u001b[0m dqn_per_agent = find_best(SimpleDQN, DQNAgent, num_iterations, pkl_save_path, epochs=3000,\n\u001b[0;32m---> 11\u001b[0;31m                            action_type='FIXED_LUNAR', no_per=False, epsilon=1)\n\u001b[0m",
            "\u001b[0;32m<ipython-input-6-69c46b35ed3e>\u001b[0m in \u001b[0;36mfind_best\u001b[0;34m(model_type, agent_type, num_iterations, pkl_save_path, epochs, action_type, no_per, epsilon, epsilon_decay)\u001b[0m\n\u001b[1;32m     33\u001b[0m                         \u001b[0mno_per\u001b[0m\u001b[0;34m=\u001b[0m\u001b[0mno_per\u001b[0m\u001b[0;34m,\u001b[0m\u001b[0;34m\u001b[0m\u001b[0;34m\u001b[0m\u001b[0m\n\u001b[1;32m     34\u001b[0m                         \u001b[0mepsilon\u001b[0m\u001b[0;34m=\u001b[0m\u001b[0mepsilon\u001b[0m\u001b[0;34m,\u001b[0m\u001b[0;34m\u001b[0m\u001b[0;34m\u001b[0m\u001b[0m\n\u001b[0;32m---> 35\u001b[0;31m                         epsilon_decay=epsilon_decay)\n\u001b[0m\u001b[1;32m     36\u001b[0m         \u001b[0;32mexcept\u001b[0m \u001b[0mException\u001b[0m \u001b[0;32mas\u001b[0m \u001b[0me\u001b[0m\u001b[0;34m:\u001b[0m\u001b[0;34m\u001b[0m\u001b[0;34m\u001b[0m\u001b[0m\n\u001b[1;32m     37\u001b[0m             \u001b[0;32mraise\u001b[0m \u001b[0me\u001b[0m\u001b[0;34m\u001b[0m\u001b[0;34m\u001b[0m\u001b[0m\n",
            "\u001b[0;32m/content/sokoban_rl/dqn_agent.py\u001b[0m in \u001b[0;36mtrain\u001b[0;34m(self, epochs, trajectory_len, env_gen, lr, discount_gamma, scheduler_gamma, beta, print_interval, log_interval, save_interval, scheduler_interval, no_per, no_cuda, epsilon, epsilon_decay, **kwargs)\u001b[0m\n\u001b[1;32m     83\u001b[0m                     \u001b[0;31m#     new_q = self.get_zero_q().to(self.model.device)\u001b[0m\u001b[0;34m\u001b[0m\u001b[0;34m\u001b[0m\u001b[0;34m\u001b[0m\u001b[0m\n\u001b[1;32m     84\u001b[0m                 \u001b[0mtarget\u001b[0m \u001b[0;34m=\u001b[0m \u001b[0;34m(\u001b[0m\u001b[0mreward\u001b[0m \u001b[0;34m+\u001b[0m \u001b[0mdiscount_gamma\u001b[0m \u001b[0;34m*\u001b[0m \u001b[0mnew_q\u001b[0m\u001b[0;34m)\u001b[0m\u001b[0;34m.\u001b[0m\u001b[0mview\u001b[0m\u001b[0;34m(\u001b[0m\u001b[0;36m1\u001b[0m\u001b[0;34m,\u001b[0m \u001b[0;34m-\u001b[0m\u001b[0;36m1\u001b[0m\u001b[0;34m,\u001b[0m \u001b[0;36m1\u001b[0m\u001b[0;34m)\u001b[0m\u001b[0;34m\u001b[0m\u001b[0;34m\u001b[0m\u001b[0m\n\u001b[0;32m---> 85\u001b[0;31m                 \u001b[0mdelta\u001b[0m \u001b[0;34m=\u001b[0m \u001b[0mself\u001b[0m\u001b[0;34m.\u001b[0m\u001b[0mget_delta\u001b[0m\u001b[0;34m(\u001b[0m\u001b[0mq_vals\u001b[0m\u001b[0;34m,\u001b[0m \u001b[0maction_idx\u001b[0m\u001b[0;34m,\u001b[0m \u001b[0mtarget\u001b[0m\u001b[0;34m)\u001b[0m\u001b[0;34m\u001b[0m\u001b[0;34m\u001b[0m\u001b[0m\n\u001b[0m\u001b[1;32m     86\u001b[0m                 \u001b[0;31m##### WORK\u001b[0m\u001b[0;34m\u001b[0m\u001b[0;34m\u001b[0m\u001b[0;34m\u001b[0m\u001b[0m\n\u001b[1;32m     87\u001b[0m                 \u001b[0mexperience\u001b[0m\u001b[0;34m.\u001b[0m\u001b[0mappend\u001b[0m\u001b[0;34m(\u001b[0m\u001b[0;34m(\u001b[0m\u001b[0mstate\u001b[0m\u001b[0;34m,\u001b[0m \u001b[0maction_idx\u001b[0m\u001b[0;34m,\u001b[0m \u001b[0mreward\u001b[0m\u001b[0;34m,\u001b[0m \u001b[0mnew_state\u001b[0m\u001b[0;34m,\u001b[0m \u001b[0mdone\u001b[0m\u001b[0;34m,\u001b[0m \u001b[0mdelta\u001b[0m\u001b[0;34m)\u001b[0m\u001b[0;34m)\u001b[0m\u001b[0;34m\u001b[0m\u001b[0;34m\u001b[0m\u001b[0m\n",
            "\u001b[0;32m/content/sokoban_rl/dqn_agent.py\u001b[0m in \u001b[0;36mget_delta\u001b[0;34m(self, q_vals, action_idx, target)\u001b[0m\n\u001b[1;32m    156\u001b[0m         \u001b[0;31m# TODO: replace with .view(1,-1,1)\u001b[0m\u001b[0;34m\u001b[0m\u001b[0;34m\u001b[0m\u001b[0;34m\u001b[0m\u001b[0m\n\u001b[1;32m    157\u001b[0m         \u001b[0;32mif\u001b[0m \u001b[0mself\u001b[0m\u001b[0;34m.\u001b[0m\u001b[0menv\u001b[0m\u001b[0;34m.\u001b[0m\u001b[0maction_type\u001b[0m \u001b[0;32min\u001b[0m \u001b[0;34m[\u001b[0m\u001b[0mutils\u001b[0m\u001b[0;34m.\u001b[0m\u001b[0mActionType\u001b[0m\u001b[0;34m.\u001b[0m\u001b[0mREGULAR\u001b[0m\u001b[0;34m,\u001b[0m \u001b[0mutils\u001b[0m\u001b[0;34m.\u001b[0m\u001b[0mActionType\u001b[0m\u001b[0;34m.\u001b[0m\u001b[0mFIXED_LUNAR\u001b[0m\u001b[0;34m]\u001b[0m\u001b[0;34m:\u001b[0m\u001b[0;34m\u001b[0m\u001b[0;34m\u001b[0m\u001b[0m\n\u001b[0;32m--> 158\u001b[0;31m             \u001b[0mdelta\u001b[0m \u001b[0;34m=\u001b[0m \u001b[0mabs\u001b[0m\u001b[0;34m(\u001b[0m\u001b[0mq_vals\u001b[0m\u001b[0;34m.\u001b[0m\u001b[0mdetach\u001b[0m\u001b[0;34m(\u001b[0m\u001b[0;34m)\u001b[0m\u001b[0;34m.\u001b[0m\u001b[0msqueeze\u001b[0m\u001b[0;34m(\u001b[0m\u001b[0;36m0\u001b[0m\u001b[0;34m)\u001b[0m\u001b[0;34m[\u001b[0m\u001b[0maction_idx\u001b[0m\u001b[0;34m]\u001b[0m \u001b[0;34m-\u001b[0m \u001b[0mtarget\u001b[0m\u001b[0;34m)\u001b[0m \u001b[0;34m+\u001b[0m \u001b[0;36m0.001\u001b[0m\u001b[0;34m\u001b[0m\u001b[0;34m\u001b[0m\u001b[0m\n\u001b[0m\u001b[1;32m    159\u001b[0m         \u001b[0;32melif\u001b[0m \u001b[0mself\u001b[0m\u001b[0;34m.\u001b[0m\u001b[0menv\u001b[0m\u001b[0;34m.\u001b[0m\u001b[0maction_type\u001b[0m \u001b[0;34m==\u001b[0m \u001b[0mutils\u001b[0m\u001b[0;34m.\u001b[0m\u001b[0mActionType\u001b[0m\u001b[0;34m.\u001b[0m\u001b[0mDISCRETIZIED\u001b[0m\u001b[0;34m:\u001b[0m\u001b[0;34m\u001b[0m\u001b[0;34m\u001b[0m\u001b[0m\n\u001b[1;32m    160\u001b[0m             \u001b[0mdelta\u001b[0m \u001b[0;34m=\u001b[0m \u001b[0mabs\u001b[0m\u001b[0;34m(\u001b[0m\u001b[0;34m(\u001b[0m\u001b[0mtorch\u001b[0m\u001b[0;34m.\u001b[0m\u001b[0mgather\u001b[0m\u001b[0;34m(\u001b[0m\u001b[0mq_vals\u001b[0m\u001b[0;34m,\u001b[0m \u001b[0;34m-\u001b[0m\u001b[0;36m1\u001b[0m\u001b[0;34m,\u001b[0m \u001b[0maction_idx\u001b[0m\u001b[0;34m)\u001b[0m \u001b[0;34m-\u001b[0m \u001b[0mtarget\u001b[0m\u001b[0;34m)\u001b[0m\u001b[0;34m)\u001b[0m\u001b[0;34m.\u001b[0m\u001b[0msum\u001b[0m\u001b[0;34m(\u001b[0m\u001b[0;34m)\u001b[0m \u001b[0;34m+\u001b[0m \u001b[0;36m0.001\u001b[0m\u001b[0;34m\u001b[0m\u001b[0;34m\u001b[0m\u001b[0m\n",
            "\u001b[0;31mKeyboardInterrupt\u001b[0m: "
          ]
        }
      ]
    },
    {
      "cell_type": "code",
      "metadata": {
        "colab": {
          "base_uri": "https://localhost:8080/"
        },
        "id": "J3uRupaO-mMJ",
        "outputId": "c16bdc4f-1e5c-42d7-c949-ad18bdc7f11b"
      },
      "source": [
        "# higher epsilon decay\n",
        "num_iterations = 1\n",
        "CONE_TRICK = False\n",
        "NUM_DISCRETE = 13\n",
        "LR = 0.001\n",
        "HIDDEN_SIZE = 256\n",
        "CLIP_GRADIENT = False\n",
        "STOP_TRICK_AT = 200\n",
        "pkl_save_path = os.path.join(DRIVE_PATH, 'best_dqn.pkl')\n",
        "dqn_per_agent = find_best(SimpleDQN, DQNAgent, num_iterations, pkl_save_path, epochs=3000,\n",
        "                           action_type='FIXED_LUNAR', no_per=False, epsilon=1, epsilon_decay=0.999)"
      ],
      "execution_count": null,
      "outputs": [
        {
          "name": "stdout",
          "output_type": "stream",
          "text": [
            "#################### Attempt 0  ####################\n",
            "Using CPU\n"
          ]
        },
        {
          "name": "stderr",
          "output_type": "stream",
          "text": [
            "/content/sokoban_rl/utils.py:178: RuntimeWarning: divide by zero encountered in double_scalars\n",
            "  np.sum(agent.all_rewards[-print_interval:]) / steps_count,\n"
          ]
        },
        {
          "name": "stdout",
          "output_type": "stream",
          "text": [
            "eps: 100, stats for last 100 eps:\tavg eps reward: -206.279\t\tavg eps step reward: -inf\t\tavg eps length: 104.730\t avg time: 0.086\ttricks_used:0\n",
            "eps: 200, stats for last 100 eps:\tavg eps reward: -235.508\t\tavg eps step reward: -inf\t\tavg eps length: 120.310\t avg time: 0.103\ttricks_used:0\n",
            "eps: 300, stats for last 100 eps:\tavg eps reward: -206.349\t\tavg eps step reward: -inf\t\tavg eps length: 135.280\t avg time: 0.123\ttricks_used:0\n",
            "eps: 400, stats for last 100 eps:\tavg eps reward: -182.634\t\tavg eps step reward: -inf\t\tavg eps length: 205.170\t avg time: 0.261\ttricks_used:0\n",
            "stepped scheduler, new lr: 0.00075\n",
            "eps: 500, stats for last 100 eps:\tavg eps reward: -246.863\t\tavg eps step reward: -inf\t\tavg eps length: 186.790\t avg time: 0.247\ttricks_used:0\n",
            "eps: 600, stats for last 100 eps:\tavg eps reward: -105.954\t\tavg eps step reward: -inf\t\tavg eps length: 445.590\t avg time: 0.898\ttricks_used:0\n",
            "eps: 700, stats for last 100 eps:\tavg eps reward: -75.504\t\tavg eps step reward: -inf\t\tavg eps length: 570.220\t avg time: 1.223\ttricks_used:0\n",
            "eps: 800, stats for last 100 eps:\tavg eps reward: -37.448\t\tavg eps step reward: -inf\t\tavg eps length: 843.330\t avg time: 2.064\ttricks_used:0\n",
            "stepped scheduler, new lr: 0.00056\n",
            "eps: 900, stats for last 100 eps:\tavg eps reward: -24.814\t\tavg eps step reward: -inf\t\tavg eps length: 766.080\t avg time: 1.954\ttricks_used:0\n",
            "eps: 1000, stats for last 100 eps:\tavg eps reward: -19.713\t\tavg eps step reward: -inf\t\tavg eps length: 997.980\t avg time: 2.986\ttricks_used:0\n",
            "eps: 1100, stats for last 100 eps:\tavg eps reward: 26.781\t\tavg eps step reward: inf\t\tavg eps length: 984.030\t avg time: 2.557\ttricks_used:0\n",
            "eps: 1200, stats for last 100 eps:\tavg eps reward: 12.481\t\tavg eps step reward: inf\t\tavg eps length: 980.200\t avg time: 2.620\ttricks_used:0\n",
            "stepped scheduler, new lr: 0.00042\n",
            "eps: 1300, stats for last 100 eps:\tavg eps reward: -32.221\t\tavg eps step reward: -inf\t\tavg eps length: 989.210\t avg time: 2.691\ttricks_used:0\n",
            "eps: 1400, stats for last 100 eps:\tavg eps reward: 13.567\t\tavg eps step reward: inf\t\tavg eps length: 971.100\t avg time: 2.490\ttricks_used:0\n",
            "eps: 1500, stats for last 100 eps:\tavg eps reward: 5.594\t\tavg eps step reward: inf\t\tavg eps length: 983.100\t avg time: 2.558\ttricks_used:0\n",
            "eps: 1600, stats for last 100 eps:\tavg eps reward: 18.262\t\tavg eps step reward: inf\t\tavg eps length: 897.430\t avg time: 2.185\ttricks_used:0\n",
            "stepped scheduler, new lr: 0.00032\n",
            "eps: 1700, stats for last 100 eps:\tavg eps reward: 37.343\t\tavg eps step reward: inf\t\tavg eps length: 942.000\t avg time: 2.331\ttricks_used:0\n",
            "eps: 1800, stats for last 100 eps:\tavg eps reward: 67.587\t\tavg eps step reward: inf\t\tavg eps length: 882.720\t avg time: 2.025\ttricks_used:0\n",
            "eps: 1900, stats for last 100 eps:\tavg eps reward: 94.818\t\tavg eps step reward: inf\t\tavg eps length: 865.490\t avg time: 2.033\ttricks_used:0\n",
            "eps: 2000, stats for last 100 eps:\tavg eps reward: 134.654\t\tavg eps step reward: inf\t\tavg eps length: 643.020\t avg time: 1.222\ttricks_used:0\n",
            "stepped scheduler, new lr: 0.00024\n",
            "eps: 2100, stats for last 100 eps:\tavg eps reward: 19.446\t\tavg eps step reward: inf\t\tavg eps length: 811.810\t avg time: 1.830\ttricks_used:0\n",
            "eps: 2200, stats for last 100 eps:\tavg eps reward: -42.466\t\tavg eps step reward: -inf\t\tavg eps length: 896.390\t avg time: 2.133\ttricks_used:0\n",
            "eps: 2300, stats for last 100 eps:\tavg eps reward: 166.531\t\tavg eps step reward: inf\t\tavg eps length: 493.680\t avg time: 0.764\ttricks_used:0\n",
            "========== episode 2365, Last 100 episodes averaged 200 points  ==========\n",
            "----- training took 62.987 minutes -----\n",
            "\n"
          ]
        }
      ]
    },
    {
      "cell_type": "code",
      "metadata": {
        "colab": {
          "base_uri": "https://localhost:8080/"
        },
        "id": "NSD4Q4kO-FdN",
        "outputId": "62903b04-bb15-4b57-9901-776c106d0e3e"
      },
      "source": [
        "# lower schedular\n",
        "SCHED_GAMMA = 0.9 #0.75\n",
        "SCHED_INTERVAL = 400\n",
        "num_iterations = 1\n",
        "CONE_TRICK = False\n",
        "NUM_DISCRETE = 13\n",
        "LR = 0.001\n",
        "HIDDEN_SIZE = 256\n",
        "CLIP_GRADIENT = False\n",
        "STOP_TRICK_AT = 200\n",
        "pkl_save_path = os.path.join(DRIVE_PATH, 'best_dqn.pkl')\n",
        "dqn_per_agent = find_best(SimpleDQN, DQNAgent, num_iterations, pkl_save_path, epochs=3000,\n",
        "                           action_type='FIXED_LUNAR', no_per=False, epsilon=1)\n"
      ],
      "execution_count": null,
      "outputs": [
        {
          "name": "stdout",
          "output_type": "stream",
          "text": [
            "#################### Attempt 0  ####################\n",
            "Using CPU\n"
          ]
        },
        {
          "name": "stderr",
          "output_type": "stream",
          "text": [
            "/content/sokoban_rl/utils.py:178: RuntimeWarning: divide by zero encountered in double_scalars\n",
            "  np.sum(agent.all_rewards[-print_interval:]) / steps_count,\n"
          ]
        },
        {
          "name": "stdout",
          "output_type": "stream",
          "text": [
            "eps: 100, stats for last 100 eps:\tavg eps reward: -242.276\t\tavg eps step reward: -inf\t\tavg eps length: 118.050\t avg time: 0.103\ttricks_used:0\n",
            "eps: 200, stats for last 100 eps:\tavg eps reward: -270.617\t\tavg eps step reward: -inf\t\tavg eps length: 122.360\t avg time: 0.136\ttricks_used:0\n",
            "eps: 300, stats for last 100 eps:\tavg eps reward: -170.206\t\tavg eps step reward: -inf\t\tavg eps length: 567.490\t avg time: 1.368\ttricks_used:0\n",
            "eps: 400, stats for last 100 eps:\tavg eps reward: -115.553\t\tavg eps step reward: -inf\t\tavg eps length: 595.720\t avg time: 1.473\ttricks_used:0\n",
            "stepped scheduler, new lr: 0.00090\n",
            "eps: 500, stats for last 100 eps:\tavg eps reward: -70.901\t\tavg eps step reward: -inf\t\tavg eps length: 903.580\t avg time: 2.428\ttricks_used:0\n",
            "eps: 600, stats for last 100 eps:\tavg eps reward: -91.663\t\tavg eps step reward: -inf\t\tavg eps length: 1000.000\t avg time: 2.754\ttricks_used:0\n",
            "eps: 700, stats for last 100 eps:\tavg eps reward: -83.290\t\tavg eps step reward: -inf\t\tavg eps length: 1000.000\t avg time: 2.924\ttricks_used:0\n",
            "eps: 800, stats for last 100 eps:\tavg eps reward: -69.943\t\tavg eps step reward: -inf\t\tavg eps length: 1000.000\t avg time: 2.888\ttricks_used:0\n",
            "stepped scheduler, new lr: 0.00081\n",
            "eps: 900, stats for last 100 eps:\tavg eps reward: -71.256\t\tavg eps step reward: -inf\t\tavg eps length: 964.600\t avg time: 2.667\ttricks_used:0\n",
            "eps: 1000, stats for last 100 eps:\tavg eps reward: -109.425\t\tavg eps step reward: -inf\t\tavg eps length: 954.420\t avg time: 2.676\ttricks_used:0\n",
            "eps: 1100, stats for last 100 eps:\tavg eps reward: -86.484\t\tavg eps step reward: -inf\t\tavg eps length: 935.580\t avg time: 2.491\ttricks_used:0\n",
            "eps: 1200, stats for last 100 eps:\tavg eps reward: -104.220\t\tavg eps step reward: -inf\t\tavg eps length: 827.040\t avg time: 2.027\ttricks_used:0\n",
            "stepped scheduler, new lr: 0.00073\n",
            "eps: 1300, stats for last 100 eps:\tavg eps reward: -70.947\t\tavg eps step reward: -inf\t\tavg eps length: 774.240\t avg time: 2.006\ttricks_used:0\n",
            "eps: 1400, stats for last 100 eps:\tavg eps reward: -39.114\t\tavg eps step reward: -inf\t\tavg eps length: 817.720\t avg time: 2.230\ttricks_used:0\n",
            "eps: 1500, stats for last 100 eps:\tavg eps reward: -17.938\t\tavg eps step reward: -inf\t\tavg eps length: 651.180\t avg time: 1.522\ttricks_used:0\n",
            "eps: 1600, stats for last 100 eps:\tavg eps reward: -29.910\t\tavg eps step reward: -inf\t\tavg eps length: 874.140\t avg time: 2.259\ttricks_used:0\n",
            "stepped scheduler, new lr: 0.00066\n",
            "eps: 1700, stats for last 100 eps:\tavg eps reward: -57.637\t\tavg eps step reward: -inf\t\tavg eps length: 960.420\t avg time: 2.555\ttricks_used:0\n",
            "eps: 1800, stats for last 100 eps:\tavg eps reward: -46.826\t\tavg eps step reward: -inf\t\tavg eps length: 982.720\t avg time: 2.631\ttricks_used:0\n",
            "eps: 1900, stats for last 100 eps:\tavg eps reward: -88.769\t\tavg eps step reward: -inf\t\tavg eps length: 896.700\t avg time: 2.412\ttricks_used:0\n",
            "eps: 2000, stats for last 100 eps:\tavg eps reward: -81.948\t\tavg eps step reward: -inf\t\tavg eps length: 820.700\t avg time: 1.950\ttricks_used:0\n",
            "stepped scheduler, new lr: 0.00059\n",
            "eps: 2100, stats for last 100 eps:\tavg eps reward: -89.736\t\tavg eps step reward: -inf\t\tavg eps length: 996.400\t avg time: 2.174\ttricks_used:0\n",
            "eps: 2200, stats for last 100 eps:\tavg eps reward: -38.825\t\tavg eps step reward: -inf\t\tavg eps length: 948.060\t avg time: 2.323\ttricks_used:0\n",
            "eps: 2300, stats for last 100 eps:\tavg eps reward: -1.633\t\tavg eps step reward: -inf\t\tavg eps length: 841.730\t avg time: 1.929\ttricks_used:0\n",
            "eps: 2400, stats for last 100 eps:\tavg eps reward: 24.924\t\tavg eps step reward: inf\t\tavg eps length: 862.170\t avg time: 2.185\ttricks_used:0\n",
            "stepped scheduler, new lr: 0.00053\n",
            "eps: 2500, stats for last 100 eps:\tavg eps reward: 108.220\t\tavg eps step reward: inf\t\tavg eps length: 715.760\t avg time: 1.640\ttricks_used:0\n",
            "eps: 2600, stats for last 100 eps:\tavg eps reward: -93.066\t\tavg eps step reward: -inf\t\tavg eps length: 900.880\t avg time: 2.024\ttricks_used:0\n",
            "eps: 2700, stats for last 100 eps:\tavg eps reward: -13.677\t\tavg eps step reward: -inf\t\tavg eps length: 857.050\t avg time: 1.943\ttricks_used:0\n",
            "eps: 2800, stats for last 100 eps:\tavg eps reward: 93.608\t\tavg eps step reward: inf\t\tavg eps length: 561.110\t avg time: 1.175\ttricks_used:0\n",
            "stepped scheduler, new lr: 0.00048\n",
            "eps: 2900, stats for last 100 eps:\tavg eps reward: 107.337\t\tavg eps step reward: inf\t\tavg eps length: 659.730\t avg time: 1.446\ttricks_used:0\n",
            "---------- Finished training ----------\n",
            "Killed env gen process\n",
            "Saved agent to ./saved_agents/model.pkl\n",
            "----- training took 98.747 minutes -----\n",
            "\n"
          ]
        }
      ]
    },
    {
      "cell_type": "code",
      "metadata": {
        "colab": {
          "base_uri": "https://localhost:8080/"
        },
        "id": "l-Alvvrz-FkH",
        "outputId": "df30dd59-923b-4628-cdd8-d8d5c66df864"
      },
      "source": [
        "# 512\n",
        "num_iterations = 1\n",
        "CONE_TRICK = False\n",
        "NUM_DISCRETE = 13\n",
        "LR = 0.001\n",
        "HIDDEN_SIZE = 512\n",
        "CLIP_GRADIENT = False\n",
        "STOP_TRICK_AT = 200\n",
        "pkl_save_path = os.path.join(DRIVE_PATH, 'best_dqn.pkl')\n",
        "dqn_per_agent = find_best(SimpleDQN, DQNAgent, num_iterations, pkl_save_path, epochs=3000,\n",
        "                           action_type='FIXED_LUNAR', no_per=False, epsilon=1)"
      ],
      "execution_count": null,
      "outputs": [
        {
          "name": "stdout",
          "output_type": "stream",
          "text": [
            "#################### Attempt 0  ####################\n",
            "Using CPU\n"
          ]
        },
        {
          "name": "stderr",
          "output_type": "stream",
          "text": [
            "/content/sokoban_rl/utils.py:178: RuntimeWarning: divide by zero encountered in double_scalars\n",
            "  np.sum(agent.all_rewards[-print_interval:]) / steps_count,\n"
          ]
        },
        {
          "name": "stdout",
          "output_type": "stream",
          "text": [
            "eps: 100, stats for last 100 eps:\tavg eps reward: -230.689\t\tavg eps step reward: -inf\t\tavg eps length: 109.030\t avg time: 0.103\ttricks_used:0\n",
            "eps: 200, stats for last 100 eps:\tavg eps reward: -187.740\t\tavg eps step reward: -inf\t\tavg eps length: 165.700\t avg time: 0.188\ttricks_used:0\n",
            "eps: 300, stats for last 100 eps:\tavg eps reward: -163.410\t\tavg eps step reward: -inf\t\tavg eps length: 423.310\t avg time: 0.841\ttricks_used:0\n",
            "eps: 400, stats for last 100 eps:\tavg eps reward: -120.803\t\tavg eps step reward: -inf\t\tavg eps length: 647.880\t avg time: 1.532\ttricks_used:0\n",
            "stepped scheduler, new lr: 0.00090\n",
            "eps: 500, stats for last 100 eps:\tavg eps reward: -98.357\t\tavg eps step reward: -inf\t\tavg eps length: 997.370\t avg time: 2.887\ttricks_used:0\n",
            "eps: 600, stats for last 100 eps:\tavg eps reward: -87.544\t\tavg eps step reward: -inf\t\tavg eps length: 1000.000\t avg time: 2.900\ttricks_used:0\n",
            "eps: 700, stats for last 100 eps:\tavg eps reward: -80.048\t\tavg eps step reward: -inf\t\tavg eps length: 840.840\t avg time: 2.297\ttricks_used:0\n",
            "eps: 800, stats for last 100 eps:\tavg eps reward: -114.040\t\tavg eps step reward: -inf\t\tavg eps length: 990.490\t avg time: 2.814\ttricks_used:0\n",
            "stepped scheduler, new lr: 0.00081\n",
            "eps: 900, stats for last 100 eps:\tavg eps reward: -92.017\t\tavg eps step reward: -inf\t\tavg eps length: 988.490\t avg time: 2.969\ttricks_used:0\n",
            "eps: 1000, stats for last 100 eps:\tavg eps reward: -54.625\t\tavg eps step reward: -inf\t\tavg eps length: 860.780\t avg time: 2.275\ttricks_used:0\n",
            "eps: 1100, stats for last 100 eps:\tavg eps reward: -55.197\t\tavg eps step reward: -inf\t\tavg eps length: 972.460\t avg time: 2.759\ttricks_used:0\n",
            "eps: 1200, stats for last 100 eps:\tavg eps reward: -53.948\t\tavg eps step reward: -inf\t\tavg eps length: 887.260\t avg time: 2.510\ttricks_used:0\n",
            "stepped scheduler, new lr: 0.00073\n",
            "eps: 1300, stats for last 100 eps:\tavg eps reward: -61.428\t\tavg eps step reward: -inf\t\tavg eps length: 870.070\t avg time: 2.290\ttricks_used:0\n",
            "eps: 1400, stats for last 100 eps:\tavg eps reward: 51.597\t\tavg eps step reward: inf\t\tavg eps length: 774.300\t avg time: 1.967\ttricks_used:0\n",
            "eps: 1500, stats for last 100 eps:\tavg eps reward: -37.096\t\tavg eps step reward: -inf\t\tavg eps length: 950.400\t avg time: 2.773\ttricks_used:0\n",
            "eps: 1600, stats for last 100 eps:\tavg eps reward: 48.855\t\tavg eps step reward: inf\t\tavg eps length: 806.300\t avg time: 2.198\ttricks_used:0\n",
            "stepped scheduler, new lr: 0.00066\n",
            "eps: 1700, stats for last 100 eps:\tavg eps reward: 83.541\t\tavg eps step reward: inf\t\tavg eps length: 718.080\t avg time: 1.732\ttricks_used:0\n",
            "eps: 1800, stats for last 100 eps:\tavg eps reward: 171.260\t\tavg eps step reward: inf\t\tavg eps length: 466.220\t avg time: 0.822\ttricks_used:0\n",
            "eps: 1900, stats for last 100 eps:\tavg eps reward: 167.353\t\tavg eps step reward: inf\t\tavg eps length: 515.700\t avg time: 1.000\ttricks_used:0\n",
            "========== episode 1941, Last 100 episodes averaged 200 points  ==========\n",
            "----- training took 61.934 minutes -----\n",
            "\n"
          ]
        }
      ]
    },
    {
      "cell_type": "code",
      "metadata": {
        "colab": {
          "base_uri": "https://localhost:8080/"
        },
        "id": "bsPX3nB4-Fru",
        "outputId": "386fe3d0-f1b5-4ab3-a628-f4db86eb521e"
      },
      "source": [
        "# higher learning rate\n",
        "num_iterations = 1\n",
        "CONE_TRICK = False\n",
        "NUM_DISCRETE = 13\n",
        "LR = 0.0035\n",
        "HIDDEN_SIZE = 256\n",
        "CLIP_GRADIENT = False\n",
        "STOP_TRICK_AT = 200\n",
        "pkl_save_path = os.path.join(DRIVE_PATH, 'best_dqn.pkl')\n",
        "dqn_per_agent = find_best(SimpleDQN, DQNAgent, num_iterations, pkl_save_path, epochs=3000,\n",
        "                           action_type='FIXED_LUNAR', no_per=False, epsilon=1)"
      ],
      "execution_count": null,
      "outputs": [
        {
          "name": "stdout",
          "output_type": "stream",
          "text": [
            "#################### Attempt 0  ####################\n",
            "Using CPU\n"
          ]
        },
        {
          "name": "stderr",
          "output_type": "stream",
          "text": [
            "/content/sokoban_rl/utils.py:178: RuntimeWarning: divide by zero encountered in double_scalars\n",
            "  np.sum(agent.all_rewards[-print_interval:]) / steps_count,\n"
          ]
        },
        {
          "name": "stdout",
          "output_type": "stream",
          "text": [
            "eps: 100, stats for last 100 eps:\tavg eps reward: -230.653\t\tavg eps step reward: -inf\t\tavg eps length: 111.940\t avg time: 0.096\ttricks_used:0\n",
            "eps: 200, stats for last 100 eps:\tavg eps reward: -214.042\t\tavg eps step reward: -inf\t\tavg eps length: 157.530\t avg time: 0.192\ttricks_used:0\n",
            "eps: 300, stats for last 100 eps:\tavg eps reward: -132.706\t\tavg eps step reward: -inf\t\tavg eps length: 282.340\t avg time: 0.492\ttricks_used:0\n",
            "eps: 400, stats for last 100 eps:\tavg eps reward: -94.951\t\tavg eps step reward: -inf\t\tavg eps length: 526.030\t avg time: 1.124\ttricks_used:0\n",
            "stepped scheduler, new lr: 0.00315\n",
            "eps: 500, stats for last 100 eps:\tavg eps reward: -143.517\t\tavg eps step reward: -inf\t\tavg eps length: 930.740\t avg time: 2.314\ttricks_used:0\n",
            "eps: 600, stats for last 100 eps:\tavg eps reward: -130.326\t\tavg eps step reward: -inf\t\tavg eps length: 722.890\t avg time: 1.999\ttricks_used:0\n",
            "eps: 700, stats for last 100 eps:\tavg eps reward: -133.185\t\tavg eps step reward: -inf\t\tavg eps length: 458.260\t avg time: 0.962\ttricks_used:0\n",
            "eps: 800, stats for last 100 eps:\tavg eps reward: -262.550\t\tavg eps step reward: -inf\t\tavg eps length: 807.300\t avg time: 2.276\ttricks_used:0\n",
            "stepped scheduler, new lr: 0.00284\n",
            "eps: 900, stats for last 100 eps:\tavg eps reward: -211.932\t\tavg eps step reward: -inf\t\tavg eps length: 549.510\t avg time: 1.415\ttricks_used:0\n",
            "eps: 1000, stats for last 100 eps:\tavg eps reward: -139.953\t\tavg eps step reward: -inf\t\tavg eps length: 1000.000\t avg time: 2.984\ttricks_used:0\n",
            "eps: 1100, stats for last 100 eps:\tavg eps reward: -144.845\t\tavg eps step reward: -inf\t\tavg eps length: 1000.000\t avg time: 3.039\ttricks_used:0\n",
            "eps: 1200, stats for last 100 eps:\tavg eps reward: -140.701\t\tavg eps step reward: -inf\t\tavg eps length: 1000.000\t avg time: 2.975\ttricks_used:0\n",
            "stepped scheduler, new lr: 0.00255\n",
            "eps: 1300, stats for last 100 eps:\tavg eps reward: -141.913\t\tavg eps step reward: -inf\t\tavg eps length: 1000.000\t avg time: 2.939\ttricks_used:0\n",
            "eps: 1400, stats for last 100 eps:\tavg eps reward: -164.092\t\tavg eps step reward: -inf\t\tavg eps length: 987.870\t avg time: 2.885\ttricks_used:0\n",
            "eps: 1500, stats for last 100 eps:\tavg eps reward: -149.343\t\tavg eps step reward: -inf\t\tavg eps length: 951.450\t avg time: 2.592\ttricks_used:0\n",
            "eps: 1600, stats for last 100 eps:\tavg eps reward: -90.005\t\tavg eps step reward: -inf\t\tavg eps length: 875.620\t avg time: 2.400\ttricks_used:0\n",
            "stepped scheduler, new lr: 0.00230\n",
            "eps: 1700, stats for last 100 eps:\tavg eps reward: -104.606\t\tavg eps step reward: -inf\t\tavg eps length: 1000.000\t avg time: 2.734\ttricks_used:0\n",
            "eps: 1800, stats for last 100 eps:\tavg eps reward: -111.481\t\tavg eps step reward: -inf\t\tavg eps length: 944.040\t avg time: 2.244\ttricks_used:0\n",
            "eps: 1900, stats for last 100 eps:\tavg eps reward: -21.245\t\tavg eps step reward: -inf\t\tavg eps length: 877.060\t avg time: 2.260\ttricks_used:0\n",
            "eps: 2000, stats for last 100 eps:\tavg eps reward: -70.507\t\tavg eps step reward: -inf\t\tavg eps length: 945.220\t avg time: 2.544\ttricks_used:0\n",
            "stepped scheduler, new lr: 0.00207\n",
            "eps: 2100, stats for last 100 eps:\tavg eps reward: -103.044\t\tavg eps step reward: -inf\t\tavg eps length: 1000.000\t avg time: 2.981\ttricks_used:0\n",
            "eps: 2200, stats for last 100 eps:\tavg eps reward: -114.171\t\tavg eps step reward: -inf\t\tavg eps length: 995.860\t avg time: 2.897\ttricks_used:0\n",
            "eps: 2300, stats for last 100 eps:\tavg eps reward: -47.739\t\tavg eps step reward: -inf\t\tavg eps length: 850.270\t avg time: 2.463\ttricks_used:0\n",
            "eps: 2400, stats for last 100 eps:\tavg eps reward: 79.898\t\tavg eps step reward: inf\t\tavg eps length: 772.140\t avg time: 1.785\ttricks_used:0\n",
            "stepped scheduler, new lr: 0.00186\n",
            "eps: 2500, stats for last 100 eps:\tavg eps reward: 184.170\t\tavg eps step reward: inf\t\tavg eps length: 495.500\t avg time: 0.788\ttricks_used:0\n",
            "========== episode 2547, Last 100 episodes averaged 200 points  ==========\n",
            "----- training took 86.209 minutes -----\n",
            "\n"
          ]
        }
      ]
    },
    {
      "cell_type": "code",
      "metadata": {
        "id": "RLQC7I6h-Fzf"
      },
      "source": [
        ""
      ],
      "execution_count": null,
      "outputs": []
    },
    {
      "cell_type": "code",
      "metadata": {
        "id": "f4LuyI0AqO30"
      },
      "source": [
        ""
      ],
      "execution_count": null,
      "outputs": []
    },
    {
      "cell_type": "code",
      "metadata": {
        "id": "waN5EtH4qO_3"
      },
      "source": [
        ""
      ],
      "execution_count": null,
      "outputs": []
    },
    {
      "cell_type": "code",
      "metadata": {
        "id": "ImPfFCV4qPGU"
      },
      "source": [
        ""
      ],
      "execution_count": null,
      "outputs": []
    },
    {
      "cell_type": "code",
      "metadata": {
        "id": "-T46uiFTv2h2"
      },
      "source": [
        ""
      ],
      "execution_count": null,
      "outputs": []
    },
    {
      "cell_type": "code",
      "metadata": {
        "colab": {
          "base_uri": "https://localhost:8080/"
        },
        "id": "v7sduq2-FzDR",
        "outputId": "76cb373c-9e67-401e-c9a5-6672df73b905"
      },
      "source": [
        "num_iterations = 2\n",
        "CONE_TRICK = True\n",
        "NUM_DISCRETE = 13\n",
        "LR = 0.005\n",
        "HIDDEN_SIZE = 256\n",
        "CLIP_GRADIENT = False\n",
        "STOP_TRICK_AT = 500\n",
        "pkl_save_path = os.path.join(DRIVE_PATH, 'best_dqn.pkl')\n",
        "dqn_per_agent = find_best(DiscreteActorCritic, A2CAgent, num_iterations, pkl_save_path, epochs=1500,\n",
        "                           action_type='DISCRETIZIED', no_per=False)"
      ],
      "execution_count": null,
      "outputs": [
        {
          "name": "stdout",
          "output_type": "stream",
          "text": [
            "#################### Attempt 0  ####################\n",
            "Using CUDA\n",
            "eps: 100, stats for last 100 eps:\tavg eps reward: -292.315\t\tavg eps step reward: -2.403\t\tavg eps length: 120.240\t avg time: 0.203\ttricks_used:43\n",
            "eps: 200, stats for last 100 eps:\tavg eps reward: -131.252\t\tavg eps step reward: -0.811\t\tavg eps length: 161.850\t avg time: 0.300\ttricks_used:44\n",
            "eps: 300, stats for last 100 eps:\tavg eps reward: -89.489\t\tavg eps step reward: -0.151\t\tavg eps length: 591.720\t avg time: 2.206\ttricks_used:34\n",
            "eps: 400, stats for last 100 eps:\tavg eps reward: 2.085\t\tavg eps step reward: 0.003\t\tavg eps length: 694.200\t avg time: 2.633\ttricks_used:20\n",
            "stepped scheduler, new lr: 0.00375\n",
            "Stopped using trick\n",
            "eps: 500, stats for last 100 eps:\tavg eps reward: 73.145\t\tavg eps step reward: 0.082\t\tavg eps length: 893.770\t avg time: 2.807\ttricks_used:0\n",
            "eps: 600, stats for last 100 eps:\tavg eps reward: 90.859\t\tavg eps step reward: 0.119\t\tavg eps length: 760.490\t avg time: 2.069\ttricks_used:0\n",
            "eps: 700, stats for last 100 eps:\tavg eps reward: 97.002\t\tavg eps step reward: 0.135\t\tavg eps length: 719.820\t avg time: 1.924\ttricks_used:0\n",
            "eps: 800, stats for last 100 eps:\tavg eps reward: 108.886\t\tavg eps step reward: 0.124\t\tavg eps length: 878.060\t avg time: 2.582\ttricks_used:0\n",
            "stepped scheduler, new lr: 0.00281\n",
            "eps: 900, stats for last 100 eps:\tavg eps reward: 119.700\t\tavg eps step reward: 0.147\t\tavg eps length: 813.020\t avg time: 2.419\ttricks_used:0\n",
            "eps: 1000, stats for last 100 eps:\tavg eps reward: 116.686\t\tavg eps step reward: 0.205\t\tavg eps length: 569.840\t avg time: 1.469\ttricks_used:0\n",
            "eps: 1100, stats for last 100 eps:\tavg eps reward: 152.247\t\tavg eps step reward: 0.293\t\tavg eps length: 519.400\t avg time: 1.302\ttricks_used:0\n",
            "eps: 1200, stats for last 100 eps:\tavg eps reward: 126.480\t\tavg eps step reward: 0.166\t\tavg eps length: 762.110\t avg time: 2.432\ttricks_used:0\n",
            "stepped scheduler, new lr: 0.00211\n",
            "eps: 1300, stats for last 100 eps:\tavg eps reward: 134.809\t\tavg eps step reward: 0.174\t\tavg eps length: 776.490\t avg time: 2.745\ttricks_used:0\n",
            "eps: 1400, stats for last 100 eps:\tavg eps reward: 143.875\t\tavg eps step reward: 0.182\t\tavg eps length: 791.110\t avg time: 2.960\ttricks_used:0\n",
            "---------- Finished training ----------\n",
            "Killed env gen process\n",
            "Saved agent to ./model.pkl\n",
            "----- training took 51.296 minutes -----\n",
            "\n",
            "#################### Attempt 1  ####################\n",
            "Using CUDA\n",
            "eps: 100, stats for last 100 eps:\tavg eps reward: -302.660\t\tavg eps step reward: -2.518\t\tavg eps length: 119.470\t avg time: 0.193\ttricks_used:46\n",
            "eps: 200, stats for last 100 eps:\tavg eps reward: -120.995\t\tavg eps step reward: -0.584\t\tavg eps length: 207.320\t avg time: 0.426\ttricks_used:59\n",
            "eps: 300, stats for last 100 eps:\tavg eps reward: -59.401\t\tavg eps step reward: -0.315\t\tavg eps length: 188.600\t avg time: 0.427\ttricks_used:52\n",
            "eps: 400, stats for last 100 eps:\tavg eps reward: -30.094\t\tavg eps step reward: -0.072\t\tavg eps length: 418.520\t avg time: 1.445\ttricks_used:30\n",
            "stepped scheduler, new lr: 0.00375\n",
            "Stopped using trick\n",
            "eps: 500, stats for last 100 eps:\tavg eps reward: -18.937\t\tavg eps step reward: -0.049\t\tavg eps length: 387.560\t avg time: 1.097\ttricks_used:22\n",
            "eps: 600, stats for last 100 eps:\tavg eps reward: 104.439\t\tavg eps step reward: 0.241\t\tavg eps length: 433.410\t avg time: 1.049\ttricks_used:0\n",
            "eps: 700, stats for last 100 eps:\tavg eps reward: 131.619\t\tavg eps step reward: 0.205\t\tavg eps length: 643.590\t avg time: 1.864\ttricks_used:0\n",
            "eps: 800, stats for last 100 eps:\tavg eps reward: 118.302\t\tavg eps step reward: 0.161\t\tavg eps length: 734.690\t avg time: 2.398\ttricks_used:0\n",
            "stepped scheduler, new lr: 0.00281\n",
            "eps: 900, stats for last 100 eps:\tavg eps reward: 18.031\t\tavg eps step reward: 0.059\t\tavg eps length: 304.090\t avg time: 0.670\ttricks_used:0\n",
            "eps: 1000, stats for last 100 eps:\tavg eps reward: -10.522\t\tavg eps step reward: -0.051\t\tavg eps length: 204.570\t avg time: 0.380\ttricks_used:0\n",
            "eps: 1100, stats for last 100 eps:\tavg eps reward: 80.963\t\tavg eps step reward: 0.207\t\tavg eps length: 390.630\t avg time: 0.890\ttricks_used:0\n",
            "eps: 1200, stats for last 100 eps:\tavg eps reward: 55.470\t\tavg eps step reward: 0.128\t\tavg eps length: 434.630\t avg time: 1.021\ttricks_used:0\n",
            "stepped scheduler, new lr: 0.00211\n",
            "eps: 1300, stats for last 100 eps:\tavg eps reward: 124.913\t\tavg eps step reward: 0.171\t\tavg eps length: 731.070\t avg time: 2.059\ttricks_used:0\n",
            "eps: 1400, stats for last 100 eps:\tavg eps reward: 127.709\t\tavg eps step reward: 0.149\t\tavg eps length: 858.830\t avg time: 2.753\ttricks_used:0\n",
            "---------- Finished training ----------\n",
            "Killed env gen process\n",
            "Saved agent to ./model.pkl\n",
            "----- training took 31.912 minutes -----\n",
            "\n"
          ]
        }
      ]
    },
    {
      "cell_type": "code",
      "metadata": {
        "colab": {
          "base_uri": "https://localhost:8080/"
        },
        "id": "_J1WAsHcF-dC",
        "outputId": "076d0eff-2f73-4253-8acc-dfa7c447375a"
      },
      "source": [
        "num_iterations = 2\n",
        "CONE_TRICK = False\n",
        "NUM_DISCRETE = 13\n",
        "LR = 0.005\n",
        "HIDDEN_SIZE = 1024\n",
        "CLIP_GRADIENT = False\n",
        "STOP_TRICK_AT = 500\n",
        "pkl_save_path = os.path.join(DRIVE_PATH, 'best_dqn.pkl')\n",
        "dqn_per_agent = find_best(DiscreteActorCritic, A2CAgent, num_iterations, pkl_save_path, epochs=1500,\n",
        "                           action_type='DISCRETIZIED', no_per=False)"
      ],
      "execution_count": null,
      "outputs": [
        {
          "name": "stdout",
          "output_type": "stream",
          "text": [
            "#################### Attempt 0  ####################\n",
            "Using CUDA\n",
            "eps: 100, stats for last 100 eps:\tavg eps reward: -308.957\t\tavg eps step reward: -1.688\t\tavg eps length: 181.990\t avg time: 0.323\ttricks_used:0\n",
            "eps: 200, stats for last 100 eps:\tavg eps reward: -56.610\t\tavg eps step reward: -0.206\t\tavg eps length: 274.730\t avg time: 0.748\ttricks_used:0\n",
            "eps: 300, stats for last 100 eps:\tavg eps reward: -144.659\t\tavg eps step reward: -0.994\t\tavg eps length: 145.510\t avg time: 0.263\ttricks_used:0\n",
            "eps: 400, stats for last 100 eps:\tavg eps reward: -130.743\t\tavg eps step reward: -1.346\t\tavg eps length: 97.100\t avg time: 0.137\ttricks_used:0\n",
            "stepped scheduler, new lr: 0.00375\n",
            "Stopped using trick\n",
            "eps: 500, stats for last 100 eps:\tavg eps reward: -142.278\t\tavg eps step reward: -0.521\t\tavg eps length: 273.140\t avg time: 0.810\ttricks_used:0\n",
            "eps: 600, stats for last 100 eps:\tavg eps reward: -83.834\t\tavg eps step reward: -0.207\t\tavg eps length: 404.840\t avg time: 1.454\ttricks_used:0\n",
            "eps: 700, stats for last 100 eps:\tavg eps reward: -118.223\t\tavg eps step reward: -1.689\t\tavg eps length: 70.000\t avg time: 0.102\ttricks_used:0\n",
            "eps: 800, stats for last 100 eps:\tavg eps reward: -93.290\t\tavg eps step reward: -1.201\t\tavg eps length: 77.680\t avg time: 0.112\ttricks_used:0\n",
            "stepped scheduler, new lr: 0.00281\n",
            "eps: 900, stats for last 100 eps:\tavg eps reward: -13.287\t\tavg eps step reward: -0.153\t\tavg eps length: 86.610\t avg time: 0.129\ttricks_used:0\n",
            "eps: 1000, stats for last 100 eps:\tavg eps reward: -16.684\t\tavg eps step reward: -0.146\t\tavg eps length: 114.630\t avg time: 0.187\ttricks_used:0\n",
            "eps: 1100, stats for last 100 eps:\tavg eps reward: -146.615\t\tavg eps step reward: -0.597\t\tavg eps length: 245.420\t avg time: 0.549\ttricks_used:0\n",
            "eps: 1200, stats for last 100 eps:\tavg eps reward: -65.891\t\tavg eps step reward: -0.324\t\tavg eps length: 203.520\t avg time: 0.374\ttricks_used:0\n",
            "stepped scheduler, new lr: 0.00211\n",
            "eps: 1300, stats for last 100 eps:\tavg eps reward: 83.685\t\tavg eps step reward: 0.266\t\tavg eps length: 314.530\t avg time: 0.685\ttricks_used:0\n",
            "========== episode 1363, Last 100 episodes averaged 200 points  ==========\n",
            "----- training took 10.694 minutes -----\n",
            "\n",
            "#################### Attempt 1  ####################\n",
            "Using CUDA\n",
            "eps: 100, stats for last 100 eps:\tavg eps reward: -164.927\t\tavg eps step reward: -1.111\t\tavg eps length: 147.460\t avg time: 0.261\ttricks_used:0\n",
            "eps: 200, stats for last 100 eps:\tavg eps reward: -126.796\t\tavg eps step reward: -0.531\t\tavg eps length: 238.880\t avg time: 0.692\ttricks_used:0\n",
            "eps: 300, stats for last 100 eps:\tavg eps reward: -71.870\t\tavg eps step reward: -0.672\t\tavg eps length: 106.970\t avg time: 0.215\ttricks_used:0\n",
            "eps: 400, stats for last 100 eps:\tavg eps reward: -48.946\t\tavg eps step reward: -0.619\t\tavg eps length: 79.100\t avg time: 0.109\ttricks_used:0\n",
            "stepped scheduler, new lr: 0.00375\n",
            "Stopped using trick\n",
            "eps: 500, stats for last 100 eps:\tavg eps reward: -67.573\t\tavg eps step reward: -0.501\t\tavg eps length: 134.930\t avg time: 0.222\ttricks_used:0\n",
            "eps: 600, stats for last 100 eps:\tavg eps reward: 7.479\t\tavg eps step reward: 0.033\t\tavg eps length: 227.940\t avg time: 0.480\ttricks_used:0\n",
            "eps: 700, stats for last 100 eps:\tavg eps reward: -18.414\t\tavg eps step reward: -0.111\t\tavg eps length: 165.530\t avg time: 0.373\ttricks_used:0\n",
            "eps: 800, stats for last 100 eps:\tavg eps reward: -99.481\t\tavg eps step reward: -0.276\t\tavg eps length: 361.020\t avg time: 1.132\ttricks_used:0\n",
            "stepped scheduler, new lr: 0.00281\n",
            "eps: 900, stats for last 100 eps:\tavg eps reward: -200.236\t\tavg eps step reward: -1.127\t\tavg eps length: 177.710\t avg time: 0.504\ttricks_used:0\n",
            "eps: 1000, stats for last 100 eps:\tavg eps reward: -200.215\t\tavg eps step reward: -0.882\t\tavg eps length: 227.110\t avg time: 0.715\ttricks_used:0\n",
            "eps: 1100, stats for last 100 eps:\tavg eps reward: -92.150\t\tavg eps step reward: -0.686\t\tavg eps length: 134.340\t avg time: 0.329\ttricks_used:0\n",
            "eps: 1200, stats for last 100 eps:\tavg eps reward: -60.807\t\tavg eps step reward: -0.828\t\tavg eps length: 73.430\t avg time: 0.109\ttricks_used:0\n",
            "stepped scheduler, new lr: 0.00211\n",
            "eps: 1300, stats for last 100 eps:\tavg eps reward: -64.819\t\tavg eps step reward: -0.851\t\tavg eps length: 76.190\t avg time: 0.116\ttricks_used:0\n",
            "eps: 1400, stats for last 100 eps:\tavg eps reward: -97.849\t\tavg eps step reward: -1.180\t\tavg eps length: 82.930\t avg time: 0.147\ttricks_used:0\n",
            "---------- Finished training ----------\n",
            "Killed env gen process\n",
            "Saved agent to ./model.pkl\n",
            "----- training took 9.184 minutes -----\n",
            "\n"
          ]
        }
      ]
    },
    {
      "cell_type": "code",
      "metadata": {
        "colab": {
          "base_uri": "https://localhost:8080/"
        },
        "id": "Rdtqb_3eF-3N",
        "outputId": "85b71b55-e36f-4dcc-9511-1b1d58ee7074"
      },
      "source": [
        "num_iterations = 2\n",
        "CONE_TRICK = False\n",
        "NUM_DISCRETE = 15\n",
        "LR = 0.005\n",
        "HIDDEN_SIZE = 256\n",
        "CLIP_GRADIENT = False\n",
        "STOP_TRICK_AT = 200\n",
        "pkl_save_path = os.path.join(DRIVE_PATH, 'best_dqn.pkl')\n",
        "dqn_per_agent = find_best(DiscreteActorCritic, A2CAgent, num_iterations, pkl_save_path, epochs=1500,\n",
        "                           action_type='DISCRETIZIED', no_per=False)"
      ],
      "execution_count": null,
      "outputs": [
        {
          "name": "stdout",
          "output_type": "stream",
          "text": [
            "#################### Attempt 0  ####################\n",
            "Using CUDA\n",
            "eps: 100, stats for last 100 eps:\tavg eps reward: -330.065\t\tavg eps step reward: -2.175\t\tavg eps length: 150.580\t avg time: 0.257\ttricks_used:0\n",
            "Stopped using trick\n",
            "eps: 200, stats for last 100 eps:\tavg eps reward: -146.004\t\tavg eps step reward: -0.466\t\tavg eps length: 313.330\t avg time: 0.917\ttricks_used:0\n",
            "eps: 300, stats for last 100 eps:\tavg eps reward: -106.762\t\tavg eps step reward: -0.531\t\tavg eps length: 201.160\t avg time: 0.600\ttricks_used:0\n",
            "eps: 400, stats for last 100 eps:\tavg eps reward: -71.681\t\tavg eps step reward: -0.218\t\tavg eps length: 328.170\t avg time: 0.976\ttricks_used:0\n",
            "stepped scheduler, new lr: 0.00375\n",
            "eps: 500, stats for last 100 eps:\tavg eps reward: 9.590\t\tavg eps step reward: 0.046\t\tavg eps length: 210.320\t avg time: 0.429\ttricks_used:0\n",
            "eps: 600, stats for last 100 eps:\tavg eps reward: 151.395\t\tavg eps step reward: 0.517\t\tavg eps length: 292.840\t avg time: 0.600\ttricks_used:0\n",
            "eps: 700, stats for last 100 eps:\tavg eps reward: 137.904\t\tavg eps step reward: 0.521\t\tavg eps length: 264.670\t avg time: 0.487\ttricks_used:0\n",
            "eps: 800, stats for last 100 eps:\tavg eps reward: 183.067\t\tavg eps step reward: 0.560\t\tavg eps length: 326.890\t avg time: 0.671\ttricks_used:0\n",
            "stepped scheduler, new lr: 0.00281\n",
            "========== episode 810, Last 100 episodes averaged 200 points  ==========\n",
            "----- training took 8.393 minutes -----\n",
            "\n",
            "#################### Attempt 1  ####################\n",
            "Using CUDA\n",
            "eps: 100, stats for last 100 eps:\tavg eps reward: -513.801\t\tavg eps step reward: -4.585\t\tavg eps length: 110.960\t avg time: 0.175\ttricks_used:0\n",
            "Stopped using trick\n",
            "eps: 200, stats for last 100 eps:\tavg eps reward: -141.429\t\tavg eps step reward: -0.690\t\tavg eps length: 204.910\t avg time: 0.490\ttricks_used:0\n",
            "eps: 300, stats for last 100 eps:\tavg eps reward: -15.500\t\tavg eps step reward: -0.027\t\tavg eps length: 582.180\t avg time: 2.089\ttricks_used:0\n",
            "eps: 400, stats for last 100 eps:\tavg eps reward: 20.231\t\tavg eps step reward: 0.039\t\tavg eps length: 525.180\t avg time: 1.537\ttricks_used:0\n",
            "stepped scheduler, new lr: 0.00375\n",
            "eps: 500, stats for last 100 eps:\tavg eps reward: 48.688\t\tavg eps step reward: 0.126\t\tavg eps length: 385.260\t avg time: 0.928\ttricks_used:0\n",
            "eps: 600, stats for last 100 eps:\tavg eps reward: 116.130\t\tavg eps step reward: 0.182\t\tavg eps length: 638.910\t avg time: 1.740\ttricks_used:0\n",
            "eps: 700, stats for last 100 eps:\tavg eps reward: 148.648\t\tavg eps step reward: 0.252\t\tavg eps length: 589.540\t avg time: 1.566\ttricks_used:0\n",
            "eps: 800, stats for last 100 eps:\tavg eps reward: 157.056\t\tavg eps step reward: 0.283\t\tavg eps length: 555.920\t avg time: 1.395\ttricks_used:0\n",
            "stepped scheduler, new lr: 0.00281\n",
            "eps: 900, stats for last 100 eps:\tavg eps reward: 147.754\t\tavg eps step reward: 0.179\t\tavg eps length: 825.910\t avg time: 2.382\ttricks_used:0\n",
            "eps: 1000, stats for last 100 eps:\tavg eps reward: 168.480\t\tavg eps step reward: 0.272\t\tavg eps length: 620.100\t avg time: 1.585\ttricks_used:0\n",
            "eps: 1100, stats for last 100 eps:\tavg eps reward: 108.979\t\tavg eps step reward: 0.264\t\tavg eps length: 413.440\t avg time: 0.977\ttricks_used:0\n",
            "eps: 1200, stats for last 100 eps:\tavg eps reward: 37.635\t\tavg eps step reward: 0.191\t\tavg eps length: 197.240\t avg time: 0.357\ttricks_used:0\n",
            "stepped scheduler, new lr: 0.00211\n",
            "eps: 1300, stats for last 100 eps:\tavg eps reward: 106.478\t\tavg eps step reward: 0.344\t\tavg eps length: 309.840\t avg time: 0.666\ttricks_used:0\n",
            "eps: 1400, stats for last 100 eps:\tavg eps reward: 142.108\t\tavg eps step reward: 0.269\t\tavg eps length: 527.580\t avg time: 1.328\ttricks_used:0\n",
            "---------- Finished training ----------\n",
            "Killed env gen process\n",
            "Saved agent to ./model.pkl\n",
            "----- training took 31.278 minutes -----\n",
            "\n"
          ]
        }
      ]
    },
    {
      "cell_type": "code",
      "metadata": {
        "colab": {
          "base_uri": "https://localhost:8080/"
        },
        "id": "MSi8qQ46F_FH",
        "outputId": "704286fe-903b-4c1c-b357-b06111208a11"
      },
      "source": [
        "num_iterations = 2\n",
        "CONE_TRICK = False\n",
        "NUM_DISCRETE = 13\n",
        "LR = 0.005\n",
        "HIDDEN_SIZE = 256\n",
        "CLIP_GRADIENT = False\n",
        "STOP_TRICK_AT = 200\n",
        "pkl_save_path = os.path.join(DRIVE_PATH, 'best_dqn.pkl')\n",
        "dqn_per_agent = find_best(DiscreteConvActorCritic, A2CAgent, num_iterations, pkl_save_path, epochs=1500,\n",
        "                           action_type='DISCRETIZIED', no_per=False)"
      ],
      "execution_count": null,
      "outputs": [
        {
          "name": "stdout",
          "output_type": "stream",
          "text": [
            "#################### Attempt 0  ####################\n",
            "Using CUDA\n",
            "eps: 100, stats for last 100 eps:\tavg eps reward: -446.631\t\tavg eps step reward: -2.962\t\tavg eps length: 149.540\t avg time: 0.299\ttricks_used:0\n",
            "Stopped using trick\n",
            "eps: 200, stats for last 100 eps:\tavg eps reward: -114.849\t\tavg eps step reward: -0.698\t\tavg eps length: 164.610\t avg time: 0.337\ttricks_used:0\n",
            "eps: 300, stats for last 100 eps:\tavg eps reward: -55.616\t\tavg eps step reward: -0.310\t\tavg eps length: 179.210\t avg time: 0.421\ttricks_used:0\n",
            "eps: 400, stats for last 100 eps:\tavg eps reward: -149.696\t\tavg eps step reward: -0.423\t\tavg eps length: 354.300\t avg time: 1.175\ttricks_used:0\n",
            "stepped scheduler, new lr: 0.00375\n",
            "eps: 500, stats for last 100 eps:\tavg eps reward: -123.188\t\tavg eps step reward: -1.021\t\tavg eps length: 120.660\t avg time: 0.245\ttricks_used:0\n",
            "eps: 600, stats for last 100 eps:\tavg eps reward: -5.074\t\tavg eps step reward: -0.013\t\tavg eps length: 394.890\t avg time: 1.107\ttricks_used:0\n",
            "eps: 700, stats for last 100 eps:\tavg eps reward: -6.692\t\tavg eps step reward: -0.020\t\tavg eps length: 332.310\t avg time: 0.945\ttricks_used:0\n",
            "eps: 800, stats for last 100 eps:\tavg eps reward: 3.646\t\tavg eps step reward: 0.031\t\tavg eps length: 118.530\t avg time: 0.223\ttricks_used:0\n",
            "stepped scheduler, new lr: 0.00281\n",
            "eps: 900, stats for last 100 eps:\tavg eps reward: 35.152\t\tavg eps step reward: 0.122\t\tavg eps length: 287.020\t avg time: 0.697\ttricks_used:0\n",
            "eps: 1000, stats for last 100 eps:\tavg eps reward: 97.991\t\tavg eps step reward: 0.199\t\tavg eps length: 491.340\t avg time: 1.556\ttricks_used:0\n",
            "eps: 1100, stats for last 100 eps:\tavg eps reward: 29.262\t\tavg eps step reward: 0.239\t\tavg eps length: 122.670\t avg time: 0.229\ttricks_used:0\n",
            "eps: 1200, stats for last 100 eps:\tavg eps reward: 16.818\t\tavg eps step reward: 0.156\t\tavg eps length: 107.660\t avg time: 0.198\ttricks_used:0\n",
            "stepped scheduler, new lr: 0.00211\n",
            "eps: 1300, stats for last 100 eps:\tavg eps reward: 84.929\t\tavg eps step reward: 0.236\t\tavg eps length: 360.380\t avg time: 1.016\ttricks_used:0\n",
            "eps: 1400, stats for last 100 eps:\tavg eps reward: 13.762\t\tavg eps step reward: 0.094\t\tavg eps length: 146.520\t avg time: 0.293\ttricks_used:0\n",
            "---------- Finished training ----------\n",
            "Killed env gen process\n",
            "Saved agent to ./model.pkl\n",
            "----- training took 15.780 minutes -----\n",
            "\n",
            "#################### Attempt 1  ####################\n",
            "Using CUDA\n",
            "eps: 100, stats for last 100 eps:\tavg eps reward: -466.548\t\tavg eps step reward: -3.602\t\tavg eps length: 128.430\t avg time: 0.243\ttricks_used:0\n",
            "Stopped using trick\n",
            "eps: 200, stats for last 100 eps:\tavg eps reward: -291.600\t\tavg eps step reward: -2.473\t\tavg eps length: 117.930\t avg time: 0.209\ttricks_used:0\n",
            "eps: 300, stats for last 100 eps:\tavg eps reward: -502.947\t\tavg eps step reward: -4.158\t\tavg eps length: 120.970\t avg time: 0.226\ttricks_used:0\n",
            "eps: 400, stats for last 100 eps:\tavg eps reward: -383.947\t\tavg eps step reward: -2.674\t\tavg eps length: 143.570\t avg time: 0.282\ttricks_used:0\n",
            "stepped scheduler, new lr: 0.00375\n",
            "eps: 500, stats for last 100 eps:\tavg eps reward: -384.794\t\tavg eps step reward: -3.247\t\tavg eps length: 118.490\t avg time: 0.223\ttricks_used:0\n",
            "eps: 600, stats for last 100 eps:\tavg eps reward: -426.773\t\tavg eps step reward: -2.961\t\tavg eps length: 144.150\t avg time: 0.280\ttricks_used:0\n",
            "eps: 700, stats for last 100 eps:\tavg eps reward: -240.802\t\tavg eps step reward: -2.220\t\tavg eps length: 108.490\t avg time: 0.191\ttricks_used:0\n",
            "eps: 800, stats for last 100 eps:\tavg eps reward: -150.910\t\tavg eps step reward: -1.444\t\tavg eps length: 104.500\t avg time: 0.222\ttricks_used:0\n",
            "stepped scheduler, new lr: 0.00281\n",
            "eps: 900, stats for last 100 eps:\tavg eps reward: -132.045\t\tavg eps step reward: -1.880\t\tavg eps length: 70.240\t avg time: 0.107\ttricks_used:0\n",
            "eps: 1000, stats for last 100 eps:\tavg eps reward: -125.107\t\tavg eps step reward: -1.657\t\tavg eps length: 75.480\t avg time: 0.118\ttricks_used:0\n",
            "eps: 1100, stats for last 100 eps:\tavg eps reward: -366.173\t\tavg eps step reward: -2.804\t\tavg eps length: 130.570\t avg time: 0.246\ttricks_used:0\n",
            "eps: 1200, stats for last 100 eps:\tavg eps reward: -155.135\t\tavg eps step reward: -2.022\t\tavg eps length: 76.710\t avg time: 0.123\ttricks_used:0\n",
            "stepped scheduler, new lr: 0.00211\n",
            "eps: 1300, stats for last 100 eps:\tavg eps reward: -150.117\t\tavg eps step reward: -2.016\t\tavg eps length: 74.460\t avg time: 0.119\ttricks_used:0\n",
            "eps: 1400, stats for last 100 eps:\tavg eps reward: -145.147\t\tavg eps step reward: -2.029\t\tavg eps length: 71.550\t avg time: 0.113\ttricks_used:0\n",
            "---------- Finished training ----------\n",
            "Killed env gen process\n",
            "Saved agent to ./model.pkl\n",
            "----- training took 4.686 minutes -----\n",
            "\n"
          ]
        }
      ]
    },
    {
      "cell_type": "code",
      "metadata": {
        "colab": {
          "base_uri": "https://localhost:8080/",
          "height": 886
        },
        "id": "2Q8SLaX9GlIu",
        "outputId": "4fda2ece-2c7f-44ec-9ec3-9f5685b4684f"
      },
      "source": [
        "num_iterations = 2\n",
        "CONE_TRICK = False\n",
        "NUM_DISCRETE = 13\n",
        "LR = 0.005\n",
        "HIDDEN_SIZE = 256\n",
        "CLIP_GRADIENT = False\n",
        "STOP_TRICK_AT = 200\n",
        "pkl_save_path = os.path.join(DRIVE_PATH, 'best_dqn.pkl')\n",
        "dqn_per_agent = find_best(GaussianActorCritic, A2CAgent, num_iterations, pkl_save_path, epochs=1500,\n",
        "                           action_type='GAUSSIAN', no_per=False)"
      ],
      "execution_count": null,
      "outputs": [
        {
          "name": "stdout",
          "output_type": "stream",
          "text": [
            "#################### Attempt 0  ####################\n",
            "Using CUDA\n",
            "eps: 100, stats for last 100 eps:\tavg eps reward: -517.867\t\tavg eps step reward: -7.104\t\tavg eps length: 70.500\t avg time: 0.108\ttricks_used:0\n",
            "Stopped using trick\n",
            "eps: 200, stats for last 100 eps:\tavg eps reward: -235.720\t\tavg eps step reward: -3.273\t\tavg eps length: 72.010\t avg time: 0.102\ttricks_used:0\n",
            "eps: 300, stats for last 100 eps:\tavg eps reward: -121.952\t\tavg eps step reward: -1.796\t\tavg eps length: 67.900\t avg time: 0.093\ttricks_used:0\n",
            "eps: 400, stats for last 100 eps:\tavg eps reward: -122.091\t\tavg eps step reward: -1.742\t\tavg eps length: 70.090\t avg time: 0.096\ttricks_used:0\n",
            "stepped scheduler, new lr: 0.00375\n",
            "eps: 500, stats for last 100 eps:\tavg eps reward: -136.753\t\tavg eps step reward: -1.968\t\tavg eps length: 69.490\t avg time: 0.098\ttricks_used:0\n",
            "eps: 600, stats for last 100 eps:\tavg eps reward: -121.068\t\tavg eps step reward: -1.754\t\tavg eps length: 69.020\t avg time: 0.096\ttricks_used:0\n",
            "eps: 700, stats for last 100 eps:\tavg eps reward: -135.157\t\tavg eps step reward: -1.752\t\tavg eps length: 77.150\t avg time: 0.111\ttricks_used:0\n",
            "eps: 800, stats for last 100 eps:\tavg eps reward: -141.471\t\tavg eps step reward: -1.549\t\tavg eps length: 91.360\t avg time: 0.137\ttricks_used:0\n",
            "stepped scheduler, new lr: 0.00281\n",
            "eps: 900, stats for last 100 eps:\tavg eps reward: -152.948\t\tavg eps step reward: -1.665\t\tavg eps length: 91.880\t avg time: 0.140\ttricks_used:0\n",
            "eps: 1000, stats for last 100 eps:\tavg eps reward: -131.627\t\tavg eps step reward: -0.983\t\tavg eps length: 133.940\t avg time: 0.223\ttricks_used:0\n",
            "eps: 1100, stats for last 100 eps:\tavg eps reward: -164.621\t\tavg eps step reward: -1.201\t\tavg eps length: 137.120\t avg time: 0.238\ttricks_used:0\n",
            "eps: 1200, stats for last 100 eps:\tavg eps reward: -164.238\t\tavg eps step reward: -1.137\t\tavg eps length: 144.390\t avg time: 0.254\ttricks_used:0\n",
            "stepped scheduler, new lr: 0.00211\n",
            "eps: 1300, stats for last 100 eps:\tavg eps reward: -171.891\t\tavg eps step reward: -1.178\t\tavg eps length: 145.910\t avg time: 0.256\ttricks_used:0\n",
            "eps: 1400, stats for last 100 eps:\tavg eps reward: -194.783\t\tavg eps step reward: -1.374\t\tavg eps length: 141.720\t avg time: 0.248\ttricks_used:0\n",
            "---------- Finished training ----------\n",
            "Killed env gen process\n",
            "Saved agent to ./model.pkl\n",
            "----- training took 4.094 minutes -----\n",
            "\n",
            "#################### Attempt 1  ####################\n",
            "Using CUDA\n",
            "eps: 100, stats for last 100 eps:\tavg eps reward: -285.222\t\tavg eps step reward: -3.184\t\tavg eps length: 89.050\t avg time: 0.159\ttricks_used:0\n",
            "Stopped using trick\n",
            "eps: 200, stats for last 100 eps:\tavg eps reward: -454.711\t\tavg eps step reward: -4.896\t\tavg eps length: 92.880\t avg time: 0.150\ttricks_used:0\n"
          ]
        },
        {
          "ename": "ValueError",
          "evalue": "ignored",
          "output_type": "error",
          "traceback": [
            "\u001b[0;31m---------------------------------------------------------------------------\u001b[0m",
            "\u001b[0;31mValueError\u001b[0m                                Traceback (most recent call last)",
            "\u001b[0;32m<ipython-input-14-d885c48d27b2>\u001b[0m in \u001b[0;36m<module>\u001b[0;34m()\u001b[0m\n\u001b[1;32m      8\u001b[0m \u001b[0mpkl_save_path\u001b[0m \u001b[0;34m=\u001b[0m \u001b[0mos\u001b[0m\u001b[0;34m.\u001b[0m\u001b[0mpath\u001b[0m\u001b[0;34m.\u001b[0m\u001b[0mjoin\u001b[0m\u001b[0;34m(\u001b[0m\u001b[0mDRIVE_PATH\u001b[0m\u001b[0;34m,\u001b[0m \u001b[0;34m'best_dqn.pkl'\u001b[0m\u001b[0;34m)\u001b[0m\u001b[0;34m\u001b[0m\u001b[0;34m\u001b[0m\u001b[0m\n\u001b[1;32m      9\u001b[0m dqn_per_agent = find_best(GaussianActorCritic, A2CAgent, num_iterations, pkl_save_path, epochs=1500,\n\u001b[0;32m---> 10\u001b[0;31m                            action_type='GAUSSIAN', no_per=False)\n\u001b[0m",
            "\u001b[0;32m<ipython-input-5-aaa97af1dcdd>\u001b[0m in \u001b[0;36mfind_best\u001b[0;34m(model_type, agent_type, num_iterations, pkl_save_path, epochs, action_type, no_per)\u001b[0m\n\u001b[1;32m     32\u001b[0m                         no_per=no_per)\n\u001b[1;32m     33\u001b[0m         \u001b[0;32mexcept\u001b[0m \u001b[0mException\u001b[0m \u001b[0;32mas\u001b[0m \u001b[0me\u001b[0m\u001b[0;34m:\u001b[0m\u001b[0;34m\u001b[0m\u001b[0;34m\u001b[0m\u001b[0m\n\u001b[0;32m---> 34\u001b[0;31m             \u001b[0;32mraise\u001b[0m \u001b[0me\u001b[0m\u001b[0;34m\u001b[0m\u001b[0;34m\u001b[0m\u001b[0m\n\u001b[0m\u001b[1;32m     35\u001b[0m         \u001b[0;32mfinally\u001b[0m\u001b[0;34m:\u001b[0m\u001b[0;34m\u001b[0m\u001b[0;34m\u001b[0m\u001b[0m\n\u001b[1;32m     36\u001b[0m             \u001b[0mend\u001b[0m \u001b[0;34m=\u001b[0m \u001b[0mtime\u001b[0m\u001b[0;34m.\u001b[0m\u001b[0mtime\u001b[0m\u001b[0;34m(\u001b[0m\u001b[0;34m)\u001b[0m\u001b[0;34m\u001b[0m\u001b[0;34m\u001b[0m\u001b[0m\n",
            "\u001b[0;32m<ipython-input-5-aaa97af1dcdd>\u001b[0m in \u001b[0;36mfind_best\u001b[0;34m(model_type, agent_type, num_iterations, pkl_save_path, epochs, action_type, no_per)\u001b[0m\n\u001b[1;32m     30\u001b[0m                         \u001b[0mstop_trick_at\u001b[0m\u001b[0;34m=\u001b[0m\u001b[0mSTOP_TRICK_AT\u001b[0m\u001b[0;34m,\u001b[0m\u001b[0;34m\u001b[0m\u001b[0;34m\u001b[0m\u001b[0m\n\u001b[1;32m     31\u001b[0m                         \u001b[0mno_cuda\u001b[0m\u001b[0;34m=\u001b[0m\u001b[0mNO_CUDA\u001b[0m\u001b[0;34m,\u001b[0m\u001b[0;34m\u001b[0m\u001b[0;34m\u001b[0m\u001b[0m\n\u001b[0;32m---> 32\u001b[0;31m                         no_per=no_per)\n\u001b[0m\u001b[1;32m     33\u001b[0m         \u001b[0;32mexcept\u001b[0m \u001b[0mException\u001b[0m \u001b[0;32mas\u001b[0m \u001b[0me\u001b[0m\u001b[0;34m:\u001b[0m\u001b[0;34m\u001b[0m\u001b[0;34m\u001b[0m\u001b[0m\n\u001b[1;32m     34\u001b[0m             \u001b[0;32mraise\u001b[0m \u001b[0me\u001b[0m\u001b[0;34m\u001b[0m\u001b[0;34m\u001b[0m\u001b[0m\n",
            "\u001b[0;32m/content/sokoban_rl/a2c_agent.py\u001b[0m in \u001b[0;36mtrain\u001b[0;34m(self, epochs, trajectory_len, env_gen, lr, discount_gamma, scheduler_gamma, beta, print_interval, log_interval, save_interval, scheduler_interval, clip_gradient, stop_trick_at, no_cuda, **kwargs)\u001b[0m\n\u001b[1;32m     74\u001b[0m                 \u001b[0mvalue\u001b[0m \u001b[0;34m=\u001b[0m \u001b[0mvalue\u001b[0m\u001b[0;34m.\u001b[0m\u001b[0mdetach\u001b[0m\u001b[0;34m(\u001b[0m\u001b[0;34m)\u001b[0m\u001b[0;34m.\u001b[0m\u001b[0mitem\u001b[0m\u001b[0;34m(\u001b[0m\u001b[0;34m)\u001b[0m\u001b[0;34m\u001b[0m\u001b[0;34m\u001b[0m\u001b[0m\n\u001b[1;32m     75\u001b[0m                 action, log_prob, entropy = self.env.process_action(policy_dist.detach().squeeze(0),\n\u001b[0;32m---> 76\u001b[0;31m                                                                     policy_dist.squeeze(0))\n\u001b[0m\u001b[1;32m     77\u001b[0m                 \u001b[0mnew_state\u001b[0m\u001b[0;34m,\u001b[0m \u001b[0mreward\u001b[0m\u001b[0;34m,\u001b[0m \u001b[0mdone\u001b[0m\u001b[0;34m,\u001b[0m \u001b[0minfo\u001b[0m \u001b[0;34m=\u001b[0m \u001b[0mself\u001b[0m\u001b[0;34m.\u001b[0m\u001b[0menv\u001b[0m\u001b[0;34m.\u001b[0m\u001b[0mstep\u001b[0m\u001b[0;34m(\u001b[0m\u001b[0maction\u001b[0m\u001b[0;34m)\u001b[0m\u001b[0;34m\u001b[0m\u001b[0;34m\u001b[0m\u001b[0m\n\u001b[1;32m     78\u001b[0m                 \u001b[0;32mif\u001b[0m \u001b[0mstep\u001b[0m \u001b[0;34m==\u001b[0m \u001b[0mself\u001b[0m\u001b[0;34m.\u001b[0m\u001b[0menv\u001b[0m\u001b[0;34m.\u001b[0m\u001b[0mmax_steps\u001b[0m \u001b[0;34m-\u001b[0m \u001b[0;36m1\u001b[0m\u001b[0;34m:\u001b[0m\u001b[0;34m\u001b[0m\u001b[0;34m\u001b[0m\u001b[0m\n",
            "\u001b[0;32m/content/sokoban_rl/utils.py\u001b[0m in \u001b[0;36mprocess_action\u001b[0;34m(self, dist, policy_dist)\u001b[0m\n\u001b[1;32m    300\u001b[0m             \u001b[0mattached_sigma\u001b[0m \u001b[0;34m=\u001b[0m \u001b[0mpolicy_dist\u001b[0m\u001b[0;34m[\u001b[0m\u001b[0;36m1\u001b[0m\u001b[0;34m]\u001b[0m\u001b[0;34m\u001b[0m\u001b[0;34m\u001b[0m\u001b[0m\n\u001b[1;32m    301\u001b[0m             \u001b[0maction\u001b[0m \u001b[0;34m=\u001b[0m \u001b[0mreparametrize\u001b[0m\u001b[0;34m(\u001b[0m\u001b[0mattached_mu\u001b[0m\u001b[0;34m,\u001b[0m \u001b[0mattached_sigma\u001b[0m\u001b[0;34m)\u001b[0m\u001b[0;34m.\u001b[0m\u001b[0msqueeze\u001b[0m\u001b[0;34m(\u001b[0m\u001b[0;36m0\u001b[0m\u001b[0;34m)\u001b[0m\u001b[0;34m.\u001b[0m\u001b[0msqueeze\u001b[0m\u001b[0;34m(\u001b[0m\u001b[0;36m0\u001b[0m\u001b[0;34m)\u001b[0m\u001b[0;34m\u001b[0m\u001b[0;34m\u001b[0m\u001b[0m\n\u001b[0;32m--> 302\u001b[0;31m             \u001b[0maction_dist\u001b[0m \u001b[0;34m=\u001b[0m \u001b[0mNormal\u001b[0m\u001b[0;34m(\u001b[0m\u001b[0mdetached_mu\u001b[0m\u001b[0;34m,\u001b[0m \u001b[0mdetached_sigma\u001b[0m\u001b[0;34m)\u001b[0m\u001b[0;34m\u001b[0m\u001b[0;34m\u001b[0m\u001b[0m\n\u001b[0m\u001b[1;32m    303\u001b[0m             \u001b[0mlog_prob\u001b[0m \u001b[0;34m=\u001b[0m \u001b[0mtorch\u001b[0m\u001b[0;34m.\u001b[0m\u001b[0mlog\u001b[0m\u001b[0;34m(\u001b[0m\u001b[0mtorch\u001b[0m\u001b[0;34m.\u001b[0m\u001b[0msigmoid\u001b[0m\u001b[0;34m(\u001b[0m\u001b[0;34m(\u001b[0m\u001b[0mtorch\u001b[0m\u001b[0;34m.\u001b[0m\u001b[0mabs\u001b[0m\u001b[0;34m(\u001b[0m\u001b[0maction\u001b[0m \u001b[0;34m-\u001b[0m \u001b[0mdetached_mu\u001b[0m\u001b[0;34m)\u001b[0m\u001b[0;34m)\u001b[0m \u001b[0;34m/\u001b[0m \u001b[0mdetached_sigma\u001b[0m\u001b[0;34m)\u001b[0m\u001b[0;34m)\u001b[0m\u001b[0;34m\u001b[0m\u001b[0;34m\u001b[0m\u001b[0m\n\u001b[1;32m    304\u001b[0m             \u001b[0mentropy\u001b[0m \u001b[0;34m=\u001b[0m \u001b[0maction_dist\u001b[0m\u001b[0;34m.\u001b[0m\u001b[0mentropy\u001b[0m\u001b[0;34m(\u001b[0m\u001b[0;34m)\u001b[0m\u001b[0;34m.\u001b[0m\u001b[0mdetach\u001b[0m\u001b[0;34m(\u001b[0m\u001b[0;34m)\u001b[0m\u001b[0;34m.\u001b[0m\u001b[0msum\u001b[0m\u001b[0;34m(\u001b[0m\u001b[0;34m)\u001b[0m\u001b[0;34m\u001b[0m\u001b[0;34m\u001b[0m\u001b[0m\n",
            "\u001b[0;32m/usr/local/lib/python3.7/dist-packages/torch/distributions/normal.py\u001b[0m in \u001b[0;36m__init__\u001b[0;34m(self, loc, scale, validate_args)\u001b[0m\n\u001b[1;32m     48\u001b[0m         \u001b[0;32melse\u001b[0m\u001b[0;34m:\u001b[0m\u001b[0;34m\u001b[0m\u001b[0;34m\u001b[0m\u001b[0m\n\u001b[1;32m     49\u001b[0m             \u001b[0mbatch_shape\u001b[0m \u001b[0;34m=\u001b[0m \u001b[0mself\u001b[0m\u001b[0;34m.\u001b[0m\u001b[0mloc\u001b[0m\u001b[0;34m.\u001b[0m\u001b[0msize\u001b[0m\u001b[0;34m(\u001b[0m\u001b[0;34m)\u001b[0m\u001b[0;34m\u001b[0m\u001b[0;34m\u001b[0m\u001b[0m\n\u001b[0;32m---> 50\u001b[0;31m         \u001b[0msuper\u001b[0m\u001b[0;34m(\u001b[0m\u001b[0mNormal\u001b[0m\u001b[0;34m,\u001b[0m \u001b[0mself\u001b[0m\u001b[0;34m)\u001b[0m\u001b[0;34m.\u001b[0m\u001b[0m__init__\u001b[0m\u001b[0;34m(\u001b[0m\u001b[0mbatch_shape\u001b[0m\u001b[0;34m,\u001b[0m \u001b[0mvalidate_args\u001b[0m\u001b[0;34m=\u001b[0m\u001b[0mvalidate_args\u001b[0m\u001b[0;34m)\u001b[0m\u001b[0;34m\u001b[0m\u001b[0;34m\u001b[0m\u001b[0m\n\u001b[0m\u001b[1;32m     51\u001b[0m \u001b[0;34m\u001b[0m\u001b[0m\n\u001b[1;32m     52\u001b[0m     \u001b[0;32mdef\u001b[0m \u001b[0mexpand\u001b[0m\u001b[0;34m(\u001b[0m\u001b[0mself\u001b[0m\u001b[0;34m,\u001b[0m \u001b[0mbatch_shape\u001b[0m\u001b[0;34m,\u001b[0m \u001b[0m_instance\u001b[0m\u001b[0;34m=\u001b[0m\u001b[0;32mNone\u001b[0m\u001b[0;34m)\u001b[0m\u001b[0;34m:\u001b[0m\u001b[0;34m\u001b[0m\u001b[0;34m\u001b[0m\u001b[0m\n",
            "\u001b[0;32m/usr/local/lib/python3.7/dist-packages/torch/distributions/distribution.py\u001b[0m in \u001b[0;36m__init__\u001b[0;34m(self, batch_shape, event_shape, validate_args)\u001b[0m\n\u001b[1;32m     51\u001b[0m                     \u001b[0;32mcontinue\u001b[0m  \u001b[0;31m# skip checking lazily-constructed args\u001b[0m\u001b[0;34m\u001b[0m\u001b[0;34m\u001b[0m\u001b[0m\n\u001b[1;32m     52\u001b[0m                 \u001b[0;32mif\u001b[0m \u001b[0;32mnot\u001b[0m \u001b[0mconstraint\u001b[0m\u001b[0;34m.\u001b[0m\u001b[0mcheck\u001b[0m\u001b[0;34m(\u001b[0m\u001b[0mgetattr\u001b[0m\u001b[0;34m(\u001b[0m\u001b[0mself\u001b[0m\u001b[0;34m,\u001b[0m \u001b[0mparam\u001b[0m\u001b[0;34m)\u001b[0m\u001b[0;34m)\u001b[0m\u001b[0;34m.\u001b[0m\u001b[0mall\u001b[0m\u001b[0;34m(\u001b[0m\u001b[0;34m)\u001b[0m\u001b[0;34m:\u001b[0m\u001b[0;34m\u001b[0m\u001b[0;34m\u001b[0m\u001b[0m\n\u001b[0;32m---> 53\u001b[0;31m                     \u001b[0;32mraise\u001b[0m \u001b[0mValueError\u001b[0m\u001b[0;34m(\u001b[0m\u001b[0;34m\"The parameter {} has invalid values\"\u001b[0m\u001b[0;34m.\u001b[0m\u001b[0mformat\u001b[0m\u001b[0;34m(\u001b[0m\u001b[0mparam\u001b[0m\u001b[0;34m)\u001b[0m\u001b[0;34m)\u001b[0m\u001b[0;34m\u001b[0m\u001b[0;34m\u001b[0m\u001b[0m\n\u001b[0m\u001b[1;32m     54\u001b[0m         \u001b[0msuper\u001b[0m\u001b[0;34m(\u001b[0m\u001b[0mDistribution\u001b[0m\u001b[0;34m,\u001b[0m \u001b[0mself\u001b[0m\u001b[0;34m)\u001b[0m\u001b[0;34m.\u001b[0m\u001b[0m__init__\u001b[0m\u001b[0;34m(\u001b[0m\u001b[0;34m)\u001b[0m\u001b[0;34m\u001b[0m\u001b[0;34m\u001b[0m\u001b[0m\n\u001b[1;32m     55\u001b[0m \u001b[0;34m\u001b[0m\u001b[0m\n",
            "\u001b[0;31mValueError\u001b[0m: The parameter scale has invalid values"
          ]
        }
      ]
    },
    {
      "cell_type": "code",
      "metadata": {
        "id": "JOYrRiVJIj7g"
      },
      "source": [
        ""
      ],
      "execution_count": null,
      "outputs": []
    },
    {
      "cell_type": "code",
      "metadata": {
        "id": "nD-8GyPgIkLV"
      },
      "source": [
        ""
      ],
      "execution_count": null,
      "outputs": []
    },
    {
      "cell_type": "code",
      "metadata": {
        "id": "auDeqq0eGlR5"
      },
      "source": [
        ""
      ],
      "execution_count": null,
      "outputs": []
    },
    {
      "cell_type": "code",
      "metadata": {
        "colab": {
          "base_uri": "https://localhost:8080/"
        },
        "id": "KNGj9x_WBvkC",
        "outputId": "4f8857e7-60c1-4da1-a914-6fce426a0e72"
      },
      "source": [
        "num_iterations = 2\n",
        "CONE_TRICK = False\n",
        "NUM_DISCRETE = 3\n",
        "LR = 0.001\n",
        "HIDDEN_SIZE = 128\n",
        "CLIP_GRADIENT = False\n",
        "STOP_TRICK_AT = 200\n",
        "pkl_save_path = os.path.join(DRIVE_PATH, 'best_dqn.pkl')\n",
        "dqn_per_agent = find_best(DiscretizedDQN, DQNAgent, num_iterations, pkl_save_path, epochs=3000,\n",
        "                           action_type='DISCRETIZIED', no_per=False)"
      ],
      "execution_count": null,
      "outputs": [
        {
          "name": "stdout",
          "output_type": "stream",
          "text": [
            "#################### Attempt 0  ####################\n",
            "Using CPU\n"
          ]
        },
        {
          "name": "stderr",
          "output_type": "stream",
          "text": [
            "/content/sokoban_rl/utils.py:139: RuntimeWarning: divide by zero encountered in double_scalars\n",
            "  np.sum(agent.all_rewards[-print_interval:]) / steps_count,\n"
          ]
        },
        {
          "name": "stdout",
          "output_type": "stream",
          "text": [
            "eps: 100, stats for last 100 eps:\tavg eps reward: -373.009\t\tavg eps step reward: -inf\t\tavg eps length: 100.030\t avg time: 0.194\ttricks_used:0\n",
            "eps: 200, stats for last 100 eps:\tavg eps reward: -209.462\t\tavg eps step reward: -inf\t\tavg eps length: 73.620\t avg time: 0.122\ttricks_used:0\n",
            "eps: 300, stats for last 100 eps:\tavg eps reward: -132.714\t\tavg eps step reward: -inf\t\tavg eps length: 69.570\t avg time: 0.109\ttricks_used:0\n",
            "stepped scheduler, new lr: 0.00097\n",
            "eps: 400, stats for last 100 eps:\tavg eps reward: -153.295\t\tavg eps step reward: -inf\t\tavg eps length: 72.840\t avg time: 0.116\ttricks_used:0\n",
            "eps: 500, stats for last 100 eps:\tavg eps reward: -197.949\t\tavg eps step reward: -inf\t\tavg eps length: 69.390\t avg time: 0.111\ttricks_used:0\n",
            "eps: 600, stats for last 100 eps:\tavg eps reward: -149.781\t\tavg eps step reward: -inf\t\tavg eps length: 71.160\t avg time: 0.111\ttricks_used:0\n",
            "stepped scheduler, new lr: 0.00094\n",
            "eps: 700, stats for last 100 eps:\tavg eps reward: -336.707\t\tavg eps step reward: -inf\t\tavg eps length: 85.590\t avg time: 0.147\ttricks_used:0\n",
            "eps: 800, stats for last 100 eps:\tavg eps reward: -569.301\t\tavg eps step reward: -inf\t\tavg eps length: 74.040\t avg time: 0.132\ttricks_used:0\n",
            "eps: 900, stats for last 100 eps:\tavg eps reward: -284.368\t\tavg eps step reward: -inf\t\tavg eps length: 79.130\t avg time: 0.139\ttricks_used:0\n",
            "stepped scheduler, new lr: 0.00091\n",
            "eps: 1000, stats for last 100 eps:\tavg eps reward: -406.522\t\tavg eps step reward: -inf\t\tavg eps length: 76.020\t avg time: 0.128\ttricks_used:0\n",
            "eps: 1100, stats for last 100 eps:\tavg eps reward: -175.705\t\tavg eps step reward: -inf\t\tavg eps length: 124.680\t avg time: 0.244\ttricks_used:0\n",
            "eps: 1200, stats for last 100 eps:\tavg eps reward: -100.306\t\tavg eps step reward: -inf\t\tavg eps length: 255.860\t avg time: 0.604\ttricks_used:0\n",
            "stepped scheduler, new lr: 0.00089\n",
            "eps: 1300, stats for last 100 eps:\tavg eps reward: -160.271\t\tavg eps step reward: -inf\t\tavg eps length: 299.070\t avg time: 0.727\ttricks_used:0\n",
            "eps: 1400, stats for last 100 eps:\tavg eps reward: -111.015\t\tavg eps step reward: -inf\t\tavg eps length: 486.050\t avg time: 1.327\ttricks_used:0\n",
            "eps: 1500, stats for last 100 eps:\tavg eps reward: -41.395\t\tavg eps step reward: -inf\t\tavg eps length: 606.260\t avg time: 1.762\ttricks_used:0\n",
            "stepped scheduler, new lr: 0.00086\n",
            "eps: 1600, stats for last 100 eps:\tavg eps reward: -54.091\t\tavg eps step reward: -inf\t\tavg eps length: 496.490\t avg time: 1.400\ttricks_used:0\n",
            "eps: 1700, stats for last 100 eps:\tavg eps reward: -41.776\t\tavg eps step reward: -inf\t\tavg eps length: 349.980\t avg time: 0.886\ttricks_used:0\n",
            "eps: 1800, stats for last 100 eps:\tavg eps reward: -17.515\t\tavg eps step reward: -inf\t\tavg eps length: 575.130\t avg time: 1.743\ttricks_used:0\n",
            "stepped scheduler, new lr: 0.00083\n",
            "eps: 1900, stats for last 100 eps:\tavg eps reward: -61.717\t\tavg eps step reward: -inf\t\tavg eps length: 639.220\t avg time: 2.004\ttricks_used:0\n",
            "eps: 2000, stats for last 100 eps:\tavg eps reward: -15.204\t\tavg eps step reward: -inf\t\tavg eps length: 745.480\t avg time: 2.334\ttricks_used:0\n",
            "eps: 2100, stats for last 100 eps:\tavg eps reward: -141.716\t\tavg eps step reward: -inf\t\tavg eps length: 387.400\t avg time: 1.089\ttricks_used:0\n",
            "stepped scheduler, new lr: 0.00081\n",
            "eps: 2200, stats for last 100 eps:\tavg eps reward: -104.581\t\tavg eps step reward: -inf\t\tavg eps length: 641.470\t avg time: 2.032\ttricks_used:0\n",
            "eps: 2300, stats for last 100 eps:\tavg eps reward: -101.357\t\tavg eps step reward: -inf\t\tavg eps length: 600.550\t avg time: 1.789\ttricks_used:0\n",
            "eps: 2400, stats for last 100 eps:\tavg eps reward: -36.931\t\tavg eps step reward: -inf\t\tavg eps length: 534.070\t avg time: 1.551\ttricks_used:0\n",
            "stepped scheduler, new lr: 0.00078\n",
            "eps: 2500, stats for last 100 eps:\tavg eps reward: -1.243\t\tavg eps step reward: -inf\t\tavg eps length: 612.200\t avg time: 1.806\ttricks_used:0\n",
            "eps: 2600, stats for last 100 eps:\tavg eps reward: -126.766\t\tavg eps step reward: -inf\t\tavg eps length: 613.390\t avg time: 1.872\ttricks_used:0\n",
            "eps: 2700, stats for last 100 eps:\tavg eps reward: -11.690\t\tavg eps step reward: -inf\t\tavg eps length: 638.250\t avg time: 1.869\ttricks_used:0\n",
            "stepped scheduler, new lr: 0.00076\n",
            "eps: 2800, stats for last 100 eps:\tavg eps reward: -19.192\t\tavg eps step reward: -inf\t\tavg eps length: 672.400\t avg time: 1.986\ttricks_used:0\n",
            "eps: 2900, stats for last 100 eps:\tavg eps reward: 34.790\t\tavg eps step reward: inf\t\tavg eps length: 675.750\t avg time: 1.879\ttricks_used:0\n",
            "---------- Finished training ----------\n",
            "Killed env gen process\n",
            "Saved agent to ./model.pkl\n",
            "----- training took 53.204 minutes -----\n",
            "\n",
            "#################### Attempt 1  ####################\n",
            "Using CPU\n",
            "eps: 100, stats for last 100 eps:\tavg eps reward: -551.843\t\tavg eps step reward: -inf\t\tavg eps length: 92.430\t avg time: 0.163\ttricks_used:0\n",
            "eps: 200, stats for last 100 eps:\tavg eps reward: -216.877\t\tavg eps step reward: -inf\t\tavg eps length: 75.410\t avg time: 0.127\ttricks_used:0\n",
            "eps: 300, stats for last 100 eps:\tavg eps reward: -329.953\t\tavg eps step reward: -inf\t\tavg eps length: 69.270\t avg time: 0.113\ttricks_used:0\n",
            "stepped scheduler, new lr: 0.00097\n",
            "eps: 400, stats for last 100 eps:\tavg eps reward: -382.862\t\tavg eps step reward: -inf\t\tavg eps length: 71.400\t avg time: 0.119\ttricks_used:0\n",
            "eps: 500, stats for last 100 eps:\tavg eps reward: -140.092\t\tavg eps step reward: -inf\t\tavg eps length: 73.100\t avg time: 0.116\ttricks_used:0\n",
            "eps: 600, stats for last 100 eps:\tavg eps reward: -132.808\t\tavg eps step reward: -inf\t\tavg eps length: 71.350\t avg time: 0.111\ttricks_used:0\n",
            "stepped scheduler, new lr: 0.00094\n",
            "eps: 700, stats for last 100 eps:\tavg eps reward: -126.679\t\tavg eps step reward: -inf\t\tavg eps length: 70.220\t avg time: 0.110\ttricks_used:0\n",
            "eps: 800, stats for last 100 eps:\tavg eps reward: -133.720\t\tavg eps step reward: -inf\t\tavg eps length: 71.410\t avg time: 0.113\ttricks_used:0\n",
            "eps: 900, stats for last 100 eps:\tavg eps reward: -131.904\t\tavg eps step reward: -inf\t\tavg eps length: 68.070\t avg time: 0.104\ttricks_used:0\n",
            "stepped scheduler, new lr: 0.00091\n",
            "eps: 1000, stats for last 100 eps:\tavg eps reward: -128.653\t\tavg eps step reward: -inf\t\tavg eps length: 69.740\t avg time: 0.106\ttricks_used:0\n",
            "eps: 1100, stats for last 100 eps:\tavg eps reward: -123.525\t\tavg eps step reward: -inf\t\tavg eps length: 70.140\t avg time: 0.110\ttricks_used:0\n",
            "eps: 1200, stats for last 100 eps:\tavg eps reward: -132.238\t\tavg eps step reward: -inf\t\tavg eps length: 69.950\t avg time: 0.107\ttricks_used:0\n",
            "stepped scheduler, new lr: 0.00089\n",
            "eps: 1300, stats for last 100 eps:\tavg eps reward: -127.971\t\tavg eps step reward: -inf\t\tavg eps length: 69.840\t avg time: 0.106\ttricks_used:0\n",
            "eps: 1400, stats for last 100 eps:\tavg eps reward: -131.835\t\tavg eps step reward: -inf\t\tavg eps length: 70.350\t avg time: 0.107\ttricks_used:0\n",
            "eps: 1500, stats for last 100 eps:\tavg eps reward: -132.804\t\tavg eps step reward: -inf\t\tavg eps length: 69.800\t avg time: 0.107\ttricks_used:0\n",
            "stepped scheduler, new lr: 0.00086\n",
            "eps: 1600, stats for last 100 eps:\tavg eps reward: -181.017\t\tavg eps step reward: -inf\t\tavg eps length: 67.180\t avg time: 0.104\ttricks_used:0\n",
            "eps: 1700, stats for last 100 eps:\tavg eps reward: -155.687\t\tavg eps step reward: -inf\t\tavg eps length: 69.660\t avg time: 0.110\ttricks_used:0\n",
            "eps: 1800, stats for last 100 eps:\tavg eps reward: -135.915\t\tavg eps step reward: -inf\t\tavg eps length: 70.930\t avg time: 0.109\ttricks_used:0\n",
            "stepped scheduler, new lr: 0.00083\n",
            "eps: 1900, stats for last 100 eps:\tavg eps reward: -142.736\t\tavg eps step reward: -inf\t\tavg eps length: 68.650\t avg time: 0.105\ttricks_used:0\n",
            "eps: 2000, stats for last 100 eps:\tavg eps reward: -132.770\t\tavg eps step reward: -inf\t\tavg eps length: 72.090\t avg time: 0.111\ttricks_used:0\n",
            "eps: 2100, stats for last 100 eps:\tavg eps reward: -132.416\t\tavg eps step reward: -inf\t\tavg eps length: 68.330\t avg time: 0.104\ttricks_used:0\n",
            "stepped scheduler, new lr: 0.00081\n",
            "eps: 2200, stats for last 100 eps:\tavg eps reward: -166.723\t\tavg eps step reward: -inf\t\tavg eps length: 70.410\t avg time: 0.109\ttricks_used:0\n",
            "eps: 2300, stats for last 100 eps:\tavg eps reward: -212.407\t\tavg eps step reward: -inf\t\tavg eps length: 71.200\t avg time: 0.114\ttricks_used:0\n",
            "eps: 2400, stats for last 100 eps:\tavg eps reward: -219.660\t\tavg eps step reward: -inf\t\tavg eps length: 68.140\t avg time: 0.108\ttricks_used:0\n",
            "stepped scheduler, new lr: 0.00078\n",
            "eps: 2500, stats for last 100 eps:\tavg eps reward: -165.916\t\tavg eps step reward: -inf\t\tavg eps length: 69.640\t avg time: 0.109\ttricks_used:0\n",
            "eps: 2600, stats for last 100 eps:\tavg eps reward: -164.629\t\tavg eps step reward: -inf\t\tavg eps length: 68.550\t avg time: 0.107\ttricks_used:0\n",
            "eps: 2700, stats for last 100 eps:\tavg eps reward: -193.735\t\tavg eps step reward: -inf\t\tavg eps length: 70.990\t avg time: 0.110\ttricks_used:0\n",
            "stepped scheduler, new lr: 0.00076\n",
            "eps: 2800, stats for last 100 eps:\tavg eps reward: -182.845\t\tavg eps step reward: -inf\t\tavg eps length: 69.550\t avg time: 0.109\ttricks_used:0\n",
            "eps: 2900, stats for last 100 eps:\tavg eps reward: -131.597\t\tavg eps step reward: -inf\t\tavg eps length: 69.790\t avg time: 0.110\ttricks_used:0\n",
            "---------- Finished training ----------\n",
            "Killed env gen process\n",
            "Saved agent to ./model.pkl\n",
            "----- training took 5.587 minutes -----\n",
            "\n"
          ]
        }
      ]
    },
    {
      "cell_type": "code",
      "metadata": {
        "colab": {
          "base_uri": "https://localhost:8080/"
        },
        "id": "xOnNzVWHGoUO",
        "outputId": "06f2382d-24b2-4b09-d980-71ddad2ea045"
      },
      "source": [
        "num_iterations = 2\n",
        "CONE_TRICK = False\n",
        "NUM_DISCRETE = 7\n",
        "LR = 0.001\n",
        "HIDDEN_SIZE = 128\n",
        "CLIP_GRADIENT = False\n",
        "STOP_TRICK_AT = 200\n",
        "pkl_save_path = os.path.join(DRIVE_PATH, 'best_dqn.pkl')\n",
        "dqn_per_agent = find_best(DiscretizedDQN, DQNAgent, num_iterations, pkl_save_path, epochs=3000,\n",
        "                           action_type='DISCRETIZIED', no_per=False)"
      ],
      "execution_count": null,
      "outputs": [
        {
          "name": "stdout",
          "output_type": "stream",
          "text": [
            "#################### Attempt 0  ####################\n",
            "Using CPU\n"
          ]
        },
        {
          "name": "stderr",
          "output_type": "stream",
          "text": [
            "/content/sokoban_rl/utils.py:139: RuntimeWarning: divide by zero encountered in double_scalars\n",
            "  np.sum(agent.all_rewards[-print_interval:]) / steps_count,\n"
          ]
        },
        {
          "name": "stdout",
          "output_type": "stream",
          "text": [
            "eps: 100, stats for last 100 eps:\tavg eps reward: -442.770\t\tavg eps step reward: -inf\t\tavg eps length: 129.960\t avg time: 0.268\ttricks_used:0\n",
            "eps: 200, stats for last 100 eps:\tavg eps reward: -419.435\t\tavg eps step reward: -inf\t\tavg eps length: 191.650\t avg time: 0.500\ttricks_used:0\n",
            "eps: 300, stats for last 100 eps:\tavg eps reward: -298.971\t\tavg eps step reward: -inf\t\tavg eps length: 130.510\t avg time: 0.266\ttricks_used:0\n",
            "stepped scheduler, new lr: 0.00097\n",
            "eps: 400, stats for last 100 eps:\tavg eps reward: -227.969\t\tavg eps step reward: -inf\t\tavg eps length: 186.440\t avg time: 0.452\ttricks_used:0\n",
            "eps: 500, stats for last 100 eps:\tavg eps reward: -300.290\t\tavg eps step reward: -inf\t\tavg eps length: 181.700\t avg time: 0.424\ttricks_used:0\n",
            "eps: 600, stats for last 100 eps:\tavg eps reward: -255.577\t\tavg eps step reward: -inf\t\tavg eps length: 237.520\t avg time: 0.612\ttricks_used:0\n",
            "stepped scheduler, new lr: 0.00094\n",
            "eps: 700, stats for last 100 eps:\tavg eps reward: -262.306\t\tavg eps step reward: -inf\t\tavg eps length: 403.740\t avg time: 1.293\ttricks_used:0\n",
            "eps: 800, stats for last 100 eps:\tavg eps reward: -142.998\t\tavg eps step reward: -inf\t\tavg eps length: 740.340\t avg time: 2.763\ttricks_used:0\n",
            "eps: 900, stats for last 100 eps:\tavg eps reward: -143.933\t\tavg eps step reward: -inf\t\tavg eps length: 583.880\t avg time: 2.065\ttricks_used:0\n",
            "stepped scheduler, new lr: 0.00091\n",
            "eps: 1000, stats for last 100 eps:\tavg eps reward: -130.093\t\tavg eps step reward: -inf\t\tavg eps length: 530.360\t avg time: 1.892\ttricks_used:0\n",
            "eps: 1100, stats for last 100 eps:\tavg eps reward: -135.920\t\tavg eps step reward: -inf\t\tavg eps length: 601.580\t avg time: 2.274\ttricks_used:0\n",
            "eps: 1200, stats for last 100 eps:\tavg eps reward: -537.353\t\tavg eps step reward: -inf\t\tavg eps length: 233.630\t avg time: 0.602\ttricks_used:0\n",
            "stepped scheduler, new lr: 0.00089\n",
            "eps: 1300, stats for last 100 eps:\tavg eps reward: -267.606\t\tavg eps step reward: -inf\t\tavg eps length: 715.270\t avg time: 2.720\ttricks_used:0\n",
            "eps: 1400, stats for last 100 eps:\tavg eps reward: -170.919\t\tavg eps step reward: -inf\t\tavg eps length: 289.530\t avg time: 0.872\ttricks_used:0\n",
            "eps: 1500, stats for last 100 eps:\tavg eps reward: -234.445\t\tavg eps step reward: -inf\t\tavg eps length: 297.250\t avg time: 0.911\ttricks_used:0\n",
            "stepped scheduler, new lr: 0.00086\n",
            "eps: 1600, stats for last 100 eps:\tavg eps reward: -180.722\t\tavg eps step reward: -inf\t\tavg eps length: 716.980\t avg time: 2.566\ttricks_used:0\n",
            "eps: 1700, stats for last 100 eps:\tavg eps reward: -164.374\t\tavg eps step reward: -inf\t\tavg eps length: 345.160\t avg time: 1.140\ttricks_used:0\n",
            "eps: 1800, stats for last 100 eps:\tavg eps reward: -267.723\t\tavg eps step reward: -inf\t\tavg eps length: 546.770\t avg time: 1.914\ttricks_used:0\n",
            "stepped scheduler, new lr: 0.00083\n",
            "eps: 1900, stats for last 100 eps:\tavg eps reward: -120.614\t\tavg eps step reward: -inf\t\tavg eps length: 672.120\t avg time: 2.538\ttricks_used:0\n",
            "eps: 2000, stats for last 100 eps:\tavg eps reward: -219.144\t\tavg eps step reward: -inf\t\tavg eps length: 376.520\t avg time: 1.134\ttricks_used:0\n",
            "eps: 2100, stats for last 100 eps:\tavg eps reward: -210.983\t\tavg eps step reward: -inf\t\tavg eps length: 602.550\t avg time: 2.157\ttricks_used:0\n",
            "stepped scheduler, new lr: 0.00081\n",
            "eps: 2200, stats for last 100 eps:\tavg eps reward: -296.415\t\tavg eps step reward: -inf\t\tavg eps length: 412.010\t avg time: 1.255\ttricks_used:0\n",
            "eps: 2300, stats for last 100 eps:\tavg eps reward: -195.978\t\tavg eps step reward: -inf\t\tavg eps length: 581.820\t avg time: 2.004\ttricks_used:0\n",
            "eps: 2400, stats for last 100 eps:\tavg eps reward: -162.014\t\tavg eps step reward: -inf\t\tavg eps length: 776.580\t avg time: 2.849\ttricks_used:0\n",
            "stepped scheduler, new lr: 0.00078\n",
            "eps: 2500, stats for last 100 eps:\tavg eps reward: -222.190\t\tavg eps step reward: -inf\t\tavg eps length: 367.820\t avg time: 1.129\ttricks_used:0\n",
            "eps: 2600, stats for last 100 eps:\tavg eps reward: -265.286\t\tavg eps step reward: -inf\t\tavg eps length: 369.180\t avg time: 1.145\ttricks_used:0\n",
            "eps: 2700, stats for last 100 eps:\tavg eps reward: -514.199\t\tavg eps step reward: -inf\t\tavg eps length: 468.020\t avg time: 1.441\ttricks_used:0\n",
            "stepped scheduler, new lr: 0.00076\n",
            "eps: 2800, stats for last 100 eps:\tavg eps reward: -229.321\t\tavg eps step reward: -inf\t\tavg eps length: 805.230\t avg time: 2.849\ttricks_used:0\n",
            "eps: 2900, stats for last 100 eps:\tavg eps reward: -141.164\t\tavg eps step reward: -inf\t\tavg eps length: 702.180\t avg time: 2.648\ttricks_used:0\n",
            "---------- Finished training ----------\n",
            "Killed env gen process\n",
            "Saved agent to ./model.pkl\n",
            "----- training took 77.971 minutes -----\n",
            "\n",
            "#################### Attempt 1  ####################\n",
            "Using CPU\n",
            "eps: 100, stats for last 100 eps:\tavg eps reward: -432.895\t\tavg eps step reward: -inf\t\tavg eps length: 114.920\t avg time: 0.217\ttricks_used:0\n",
            "eps: 200, stats for last 100 eps:\tavg eps reward: -538.890\t\tavg eps step reward: -inf\t\tavg eps length: 104.120\t avg time: 0.187\ttricks_used:0\n",
            "eps: 300, stats for last 100 eps:\tavg eps reward: -241.903\t\tavg eps step reward: -inf\t\tavg eps length: 80.850\t avg time: 0.134\ttricks_used:0\n",
            "stepped scheduler, new lr: 0.00097\n",
            "eps: 400, stats for last 100 eps:\tavg eps reward: -128.716\t\tavg eps step reward: -inf\t\tavg eps length: 69.380\t avg time: 0.106\ttricks_used:0\n",
            "eps: 500, stats for last 100 eps:\tavg eps reward: -134.990\t\tavg eps step reward: -inf\t\tavg eps length: 72.510\t avg time: 0.109\ttricks_used:0\n",
            "eps: 600, stats for last 100 eps:\tavg eps reward: -132.627\t\tavg eps step reward: -inf\t\tavg eps length: 70.240\t avg time: 0.108\ttricks_used:0\n",
            "stepped scheduler, new lr: 0.00094\n",
            "eps: 700, stats for last 100 eps:\tavg eps reward: -172.061\t\tavg eps step reward: -inf\t\tavg eps length: 94.490\t avg time: 0.164\ttricks_used:0\n",
            "eps: 800, stats for last 100 eps:\tavg eps reward: -153.128\t\tavg eps step reward: -inf\t\tavg eps length: 123.610\t avg time: 0.258\ttricks_used:0\n",
            "eps: 900, stats for last 100 eps:\tavg eps reward: -220.609\t\tavg eps step reward: -inf\t\tavg eps length: 122.290\t avg time: 0.216\ttricks_used:0\n",
            "stepped scheduler, new lr: 0.00091\n",
            "eps: 1000, stats for last 100 eps:\tavg eps reward: -199.763\t\tavg eps step reward: -inf\t\tavg eps length: 126.550\t avg time: 0.222\ttricks_used:0\n",
            "eps: 1100, stats for last 100 eps:\tavg eps reward: -239.187\t\tavg eps step reward: -inf\t\tavg eps length: 129.050\t avg time: 0.228\ttricks_used:0\n",
            "eps: 1200, stats for last 100 eps:\tavg eps reward: -230.148\t\tavg eps step reward: -inf\t\tavg eps length: 124.370\t avg time: 0.214\ttricks_used:0\n",
            "stepped scheduler, new lr: 0.00089\n",
            "eps: 1300, stats for last 100 eps:\tavg eps reward: -246.242\t\tavg eps step reward: -inf\t\tavg eps length: 138.710\t avg time: 0.244\ttricks_used:0\n",
            "eps: 1400, stats for last 100 eps:\tavg eps reward: -371.409\t\tavg eps step reward: -inf\t\tavg eps length: 132.360\t avg time: 0.238\ttricks_used:0\n",
            "eps: 1500, stats for last 100 eps:\tavg eps reward: -250.443\t\tavg eps step reward: -inf\t\tavg eps length: 125.250\t avg time: 0.219\ttricks_used:0\n",
            "stepped scheduler, new lr: 0.00086\n",
            "eps: 1600, stats for last 100 eps:\tavg eps reward: -445.387\t\tavg eps step reward: -inf\t\tavg eps length: 103.090\t avg time: 0.185\ttricks_used:0\n",
            "eps: 1700, stats for last 100 eps:\tavg eps reward: -189.860\t\tavg eps step reward: -inf\t\tavg eps length: 71.670\t avg time: 0.115\ttricks_used:0\n",
            "eps: 1800, stats for last 100 eps:\tavg eps reward: -133.857\t\tavg eps step reward: -inf\t\tavg eps length: 69.230\t avg time: 0.106\ttricks_used:0\n",
            "stepped scheduler, new lr: 0.00083\n",
            "eps: 1900, stats for last 100 eps:\tavg eps reward: -136.259\t\tavg eps step reward: -inf\t\tavg eps length: 70.770\t avg time: 0.108\ttricks_used:0\n",
            "eps: 2000, stats for last 100 eps:\tavg eps reward: -127.793\t\tavg eps step reward: -inf\t\tavg eps length: 69.020\t avg time: 0.107\ttricks_used:0\n",
            "eps: 2100, stats for last 100 eps:\tavg eps reward: -131.900\t\tavg eps step reward: -inf\t\tavg eps length: 68.530\t avg time: 0.107\ttricks_used:0\n",
            "stepped scheduler, new lr: 0.00081\n",
            "eps: 2200, stats for last 100 eps:\tavg eps reward: -127.258\t\tavg eps step reward: -inf\t\tavg eps length: 70.560\t avg time: 0.108\ttricks_used:0\n",
            "eps: 2300, stats for last 100 eps:\tavg eps reward: -225.753\t\tavg eps step reward: -inf\t\tavg eps length: 73.730\t avg time: 0.121\ttricks_used:0\n",
            "eps: 2400, stats for last 100 eps:\tavg eps reward: -195.595\t\tavg eps step reward: -inf\t\tavg eps length: 82.060\t avg time: 0.133\ttricks_used:0\n",
            "stepped scheduler, new lr: 0.00078\n",
            "eps: 2500, stats for last 100 eps:\tavg eps reward: -169.761\t\tavg eps step reward: -inf\t\tavg eps length: 74.550\t avg time: 0.117\ttricks_used:0\n",
            "eps: 2600, stats for last 100 eps:\tavg eps reward: -200.076\t\tavg eps step reward: -inf\t\tavg eps length: 94.920\t avg time: 0.160\ttricks_used:0\n",
            "eps: 2700, stats for last 100 eps:\tavg eps reward: -194.680\t\tavg eps step reward: -inf\t\tavg eps length: 115.800\t avg time: 0.194\ttricks_used:0\n",
            "stepped scheduler, new lr: 0.00076\n",
            "eps: 2800, stats for last 100 eps:\tavg eps reward: -216.290\t\tavg eps step reward: -inf\t\tavg eps length: 114.780\t avg time: 0.191\ttricks_used:0\n",
            "eps: 2900, stats for last 100 eps:\tavg eps reward: -195.074\t\tavg eps step reward: -inf\t\tavg eps length: 121.530\t avg time: 0.204\ttricks_used:0\n",
            "---------- Finished training ----------\n",
            "Killed env gen process\n",
            "Saved agent to ./model.pkl\n",
            "----- training took 8.365 minutes -----\n",
            "\n"
          ]
        }
      ]
    },
    {
      "cell_type": "code",
      "metadata": {
        "colab": {
          "base_uri": "https://localhost:8080/"
        },
        "id": "PiZXwSmJGp9b",
        "outputId": "95d36c5d-b5fa-4221-c972-72ec6041fe5d"
      },
      "source": [
        "num_iterations = 2\n",
        "CONE_TRICK = False\n",
        "NUM_DISCRETE = 3\n",
        "LR = 0.0003\n",
        "HIDDEN_SIZE = 128\n",
        "CLIP_GRADIENT = False\n",
        "STOP_TRICK_AT = 200\n",
        "pkl_save_path = os.path.join(DRIVE_PATH, 'best_dqn.pkl')\n",
        "dqn_per_agent = find_best(DiscretizedDQN, DQNAgent, num_iterations, pkl_save_path, epochs=3000,\n",
        "                           action_type='DISCRETIZIED', no_per=False)"
      ],
      "execution_count": null,
      "outputs": [
        {
          "name": "stdout",
          "output_type": "stream",
          "text": [
            "#################### Attempt 0  ####################\n",
            "Using CPU\n"
          ]
        },
        {
          "name": "stderr",
          "output_type": "stream",
          "text": [
            "/content/sokoban_rl/utils.py:139: RuntimeWarning: divide by zero encountered in double_scalars\n",
            "  np.sum(agent.all_rewards[-print_interval:]) / steps_count,\n"
          ]
        },
        {
          "name": "stdout",
          "output_type": "stream",
          "text": [
            "eps: 100, stats for last 100 eps:\tavg eps reward: -313.729\t\tavg eps step reward: -inf\t\tavg eps length: 100.390\t avg time: 0.178\ttricks_used:0\n",
            "eps: 200, stats for last 100 eps:\tavg eps reward: -299.113\t\tavg eps step reward: -inf\t\tavg eps length: 81.640\t avg time: 0.135\ttricks_used:0\n",
            "eps: 300, stats for last 100 eps:\tavg eps reward: -128.652\t\tavg eps step reward: -inf\t\tavg eps length: 71.000\t avg time: 0.107\ttricks_used:0\n",
            "stepped scheduler, new lr: 0.00029\n",
            "eps: 400, stats for last 100 eps:\tavg eps reward: -130.732\t\tavg eps step reward: -inf\t\tavg eps length: 70.550\t avg time: 0.108\ttricks_used:0\n",
            "eps: 500, stats for last 100 eps:\tavg eps reward: -134.611\t\tavg eps step reward: -inf\t\tavg eps length: 69.160\t avg time: 0.103\ttricks_used:0\n",
            "eps: 600, stats for last 100 eps:\tavg eps reward: -135.598\t\tavg eps step reward: -inf\t\tavg eps length: 70.070\t avg time: 0.104\ttricks_used:0\n",
            "stepped scheduler, new lr: 0.00028\n",
            "eps: 700, stats for last 100 eps:\tavg eps reward: -132.322\t\tavg eps step reward: -inf\t\tavg eps length: 70.990\t avg time: 0.107\ttricks_used:0\n",
            "eps: 800, stats for last 100 eps:\tavg eps reward: -208.866\t\tavg eps step reward: -inf\t\tavg eps length: 84.910\t avg time: 0.132\ttricks_used:0\n",
            "eps: 900, stats for last 100 eps:\tavg eps reward: -142.303\t\tavg eps step reward: -inf\t\tavg eps length: 77.620\t avg time: 0.121\ttricks_used:0\n",
            "stepped scheduler, new lr: 0.00027\n",
            "eps: 1000, stats for last 100 eps:\tavg eps reward: -433.738\t\tavg eps step reward: -inf\t\tavg eps length: 80.760\t avg time: 0.135\ttricks_used:0\n",
            "eps: 1100, stats for last 100 eps:\tavg eps reward: -287.309\t\tavg eps step reward: -inf\t\tavg eps length: 69.980\t avg time: 0.118\ttricks_used:0\n",
            "eps: 1200, stats for last 100 eps:\tavg eps reward: -225.831\t\tavg eps step reward: -inf\t\tavg eps length: 70.640\t avg time: 0.125\ttricks_used:0\n",
            "stepped scheduler, new lr: 0.00027\n",
            "eps: 1300, stats for last 100 eps:\tavg eps reward: -198.684\t\tavg eps step reward: -inf\t\tavg eps length: 70.700\t avg time: 0.123\ttricks_used:0\n",
            "eps: 1400, stats for last 100 eps:\tavg eps reward: -166.653\t\tavg eps step reward: -inf\t\tavg eps length: 69.980\t avg time: 0.129\ttricks_used:0\n",
            "eps: 1500, stats for last 100 eps:\tavg eps reward: -146.171\t\tavg eps step reward: -inf\t\tavg eps length: 70.480\t avg time: 0.130\ttricks_used:0\n",
            "stepped scheduler, new lr: 0.00026\n",
            "eps: 1600, stats for last 100 eps:\tavg eps reward: -161.917\t\tavg eps step reward: -inf\t\tavg eps length: 69.490\t avg time: 0.129\ttricks_used:0\n",
            "eps: 1700, stats for last 100 eps:\tavg eps reward: -140.086\t\tavg eps step reward: -inf\t\tavg eps length: 70.500\t avg time: 0.129\ttricks_used:0\n",
            "eps: 1800, stats for last 100 eps:\tavg eps reward: -128.815\t\tavg eps step reward: -inf\t\tavg eps length: 70.260\t avg time: 0.124\ttricks_used:0\n",
            "stepped scheduler, new lr: 0.00025\n",
            "eps: 1900, stats for last 100 eps:\tavg eps reward: -137.913\t\tavg eps step reward: -inf\t\tavg eps length: 68.770\t avg time: 0.119\ttricks_used:0\n",
            "eps: 2000, stats for last 100 eps:\tavg eps reward: -133.143\t\tavg eps step reward: -inf\t\tavg eps length: 69.680\t avg time: 0.120\ttricks_used:0\n",
            "eps: 2100, stats for last 100 eps:\tavg eps reward: -134.536\t\tavg eps step reward: -inf\t\tavg eps length: 69.680\t avg time: 0.121\ttricks_used:0\n",
            "stepped scheduler, new lr: 0.00024\n",
            "eps: 2200, stats for last 100 eps:\tavg eps reward: -125.209\t\tavg eps step reward: -inf\t\tavg eps length: 68.570\t avg time: 0.118\ttricks_used:0\n",
            "eps: 2300, stats for last 100 eps:\tavg eps reward: -122.181\t\tavg eps step reward: -inf\t\tavg eps length: 69.380\t avg time: 0.122\ttricks_used:0\n",
            "eps: 2400, stats for last 100 eps:\tavg eps reward: -127.001\t\tavg eps step reward: -inf\t\tavg eps length: 71.070\t avg time: 0.121\ttricks_used:0\n",
            "stepped scheduler, new lr: 0.00024\n",
            "eps: 2500, stats for last 100 eps:\tavg eps reward: -119.015\t\tavg eps step reward: -inf\t\tavg eps length: 71.160\t avg time: 0.123\ttricks_used:0\n",
            "eps: 2600, stats for last 100 eps:\tavg eps reward: -119.786\t\tavg eps step reward: -inf\t\tavg eps length: 68.000\t avg time: 0.117\ttricks_used:0\n",
            "eps: 2700, stats for last 100 eps:\tavg eps reward: -117.942\t\tavg eps step reward: -inf\t\tavg eps length: 68.980\t avg time: 0.119\ttricks_used:0\n",
            "stepped scheduler, new lr: 0.00023\n",
            "eps: 2800, stats for last 100 eps:\tavg eps reward: -120.382\t\tavg eps step reward: -inf\t\tavg eps length: 72.220\t avg time: 0.127\ttricks_used:0\n",
            "eps: 2900, stats for last 100 eps:\tavg eps reward: -159.320\t\tavg eps step reward: -inf\t\tavg eps length: 270.140\t avg time: 0.658\ttricks_used:0\n",
            "---------- Finished training ----------\n",
            "Killed env gen process\n",
            "Saved agent to ./model.pkl\n",
            "----- training took 9.406 minutes -----\n",
            "\n",
            "#################### Attempt 1  ####################\n",
            "Using CPU\n",
            "eps: 100, stats for last 100 eps:\tavg eps reward: -346.123\t\tavg eps step reward: -inf\t\tavg eps length: 107.600\t avg time: 0.197\ttricks_used:0\n",
            "eps: 200, stats for last 100 eps:\tavg eps reward: -386.193\t\tavg eps step reward: -inf\t\tavg eps length: 112.700\t avg time: 0.216\ttricks_used:0\n",
            "eps: 300, stats for last 100 eps:\tavg eps reward: -129.835\t\tavg eps step reward: -inf\t\tavg eps length: 69.880\t avg time: 0.114\ttricks_used:0\n",
            "stepped scheduler, new lr: 0.00029\n",
            "eps: 400, stats for last 100 eps:\tavg eps reward: -131.029\t\tavg eps step reward: -inf\t\tavg eps length: 69.090\t avg time: 0.107\ttricks_used:0\n",
            "eps: 500, stats for last 100 eps:\tavg eps reward: -127.876\t\tavg eps step reward: -inf\t\tavg eps length: 70.190\t avg time: 0.111\ttricks_used:0\n",
            "eps: 600, stats for last 100 eps:\tavg eps reward: -134.664\t\tavg eps step reward: -inf\t\tavg eps length: 68.820\t avg time: 0.109\ttricks_used:0\n",
            "stepped scheduler, new lr: 0.00028\n",
            "eps: 700, stats for last 100 eps:\tavg eps reward: -121.289\t\tavg eps step reward: -inf\t\tavg eps length: 70.230\t avg time: 0.109\ttricks_used:0\n",
            "eps: 800, stats for last 100 eps:\tavg eps reward: -134.323\t\tavg eps step reward: -inf\t\tavg eps length: 69.150\t avg time: 0.106\ttricks_used:0\n",
            "eps: 900, stats for last 100 eps:\tavg eps reward: -132.331\t\tavg eps step reward: -inf\t\tavg eps length: 69.350\t avg time: 0.106\ttricks_used:0\n",
            "stepped scheduler, new lr: 0.00027\n",
            "eps: 1000, stats for last 100 eps:\tavg eps reward: -136.295\t\tavg eps step reward: -inf\t\tavg eps length: 69.590\t avg time: 0.106\ttricks_used:0\n",
            "eps: 1100, stats for last 100 eps:\tavg eps reward: -133.445\t\tavg eps step reward: -inf\t\tavg eps length: 72.130\t avg time: 0.112\ttricks_used:0\n",
            "eps: 1200, stats for last 100 eps:\tavg eps reward: -134.447\t\tavg eps step reward: -inf\t\tavg eps length: 68.890\t avg time: 0.106\ttricks_used:0\n",
            "stepped scheduler, new lr: 0.00027\n",
            "eps: 1300, stats for last 100 eps:\tavg eps reward: -127.559\t\tavg eps step reward: -inf\t\tavg eps length: 71.170\t avg time: 0.108\ttricks_used:0\n",
            "eps: 1400, stats for last 100 eps:\tavg eps reward: -132.093\t\tavg eps step reward: -inf\t\tavg eps length: 68.640\t avg time: 0.105\ttricks_used:0\n",
            "eps: 1500, stats for last 100 eps:\tavg eps reward: -142.017\t\tavg eps step reward: -inf\t\tavg eps length: 71.310\t avg time: 0.110\ttricks_used:0\n",
            "stepped scheduler, new lr: 0.00026\n",
            "eps: 1600, stats for last 100 eps:\tavg eps reward: -137.207\t\tavg eps step reward: -inf\t\tavg eps length: 71.510\t avg time: 0.114\ttricks_used:0\n",
            "eps: 1700, stats for last 100 eps:\tavg eps reward: -146.798\t\tavg eps step reward: -inf\t\tavg eps length: 69.070\t avg time: 0.108\ttricks_used:0\n",
            "eps: 1800, stats for last 100 eps:\tavg eps reward: -174.670\t\tavg eps step reward: -inf\t\tavg eps length: 69.850\t avg time: 0.108\ttricks_used:0\n",
            "stepped scheduler, new lr: 0.00025\n",
            "eps: 1900, stats for last 100 eps:\tavg eps reward: -190.689\t\tavg eps step reward: -inf\t\tavg eps length: 70.350\t avg time: 0.111\ttricks_used:0\n",
            "eps: 2000, stats for last 100 eps:\tavg eps reward: -166.962\t\tavg eps step reward: -inf\t\tavg eps length: 69.040\t avg time: 0.107\ttricks_used:0\n",
            "eps: 2100, stats for last 100 eps:\tavg eps reward: -183.561\t\tavg eps step reward: -inf\t\tavg eps length: 70.490\t avg time: 0.112\ttricks_used:0\n",
            "stepped scheduler, new lr: 0.00024\n",
            "eps: 2200, stats for last 100 eps:\tavg eps reward: -131.631\t\tavg eps step reward: -inf\t\tavg eps length: 70.050\t avg time: 0.109\ttricks_used:0\n",
            "eps: 2300, stats for last 100 eps:\tavg eps reward: -148.373\t\tavg eps step reward: -inf\t\tavg eps length: 66.990\t avg time: 0.104\ttricks_used:0\n",
            "eps: 2400, stats for last 100 eps:\tavg eps reward: -163.169\t\tavg eps step reward: -inf\t\tavg eps length: 69.690\t avg time: 0.110\ttricks_used:0\n",
            "stepped scheduler, new lr: 0.00024\n",
            "eps: 2500, stats for last 100 eps:\tavg eps reward: -153.605\t\tavg eps step reward: -inf\t\tavg eps length: 68.900\t avg time: 0.107\ttricks_used:0\n",
            "eps: 2600, stats for last 100 eps:\tavg eps reward: -187.865\t\tavg eps step reward: -inf\t\tavg eps length: 68.710\t avg time: 0.109\ttricks_used:0\n",
            "eps: 2700, stats for last 100 eps:\tavg eps reward: -213.242\t\tavg eps step reward: -inf\t\tavg eps length: 69.990\t avg time: 0.114\ttricks_used:0\n",
            "stepped scheduler, new lr: 0.00023\n",
            "eps: 2800, stats for last 100 eps:\tavg eps reward: -236.249\t\tavg eps step reward: -inf\t\tavg eps length: 70.270\t avg time: 0.112\ttricks_used:0\n",
            "eps: 2900, stats for last 100 eps:\tavg eps reward: -162.976\t\tavg eps step reward: -inf\t\tavg eps length: 101.290\t avg time: 0.167\ttricks_used:0\n",
            "---------- Finished training ----------\n",
            "Killed env gen process\n",
            "Saved agent to ./model.pkl\n",
            "----- training took 6.042 minutes -----\n",
            "\n"
          ]
        }
      ]
    },
    {
      "cell_type": "code",
      "metadata": {
        "colab": {
          "base_uri": "https://localhost:8080/"
        },
        "id": "rBf9HiQVGu2G",
        "outputId": "7176f6d6-db63-4876-e2fc-e7472c68ffa1"
      },
      "source": [
        "num_iterations = 2\n",
        "CONE_TRICK = False\n",
        "NUM_DISCRETE = 7\n",
        "LR = 0.001\n",
        "HIDDEN_SIZE = 512\n",
        "CLIP_GRADIENT = False\n",
        "STOP_TRICK_AT = 200\n",
        "pkl_save_path = os.path.join(DRIVE_PATH, 'best_dqn.pkl')\n",
        "dqn_per_agent = find_best(DiscretizedDQN, DQNAgent, num_iterations, pkl_save_path, epochs=3000,\n",
        "                           action_type='DISCRETIZIED', no_per=False)"
      ],
      "execution_count": null,
      "outputs": [
        {
          "name": "stdout",
          "output_type": "stream",
          "text": [
            "#################### Attempt 0  ####################\n",
            "Using CPU\n"
          ]
        },
        {
          "name": "stderr",
          "output_type": "stream",
          "text": [
            "/content/sokoban_rl/utils.py:139: RuntimeWarning: divide by zero encountered in double_scalars\n",
            "  np.sum(agent.all_rewards[-print_interval:]) / steps_count,\n"
          ]
        },
        {
          "name": "stdout",
          "output_type": "stream",
          "text": [
            "eps: 100, stats for last 100 eps:\tavg eps reward: -318.215\t\tavg eps step reward: -inf\t\tavg eps length: 275.030\t avg time: 1.056\ttricks_used:0\n",
            "eps: 200, stats for last 100 eps:\tavg eps reward: -249.912\t\tavg eps step reward: -inf\t\tavg eps length: 360.460\t avg time: 1.474\ttricks_used:0\n",
            "eps: 300, stats for last 100 eps:\tavg eps reward: -190.455\t\tavg eps step reward: -inf\t\tavg eps length: 522.560\t avg time: 2.337\ttricks_used:0\n",
            "stepped scheduler, new lr: 0.00097\n",
            "eps: 400, stats for last 100 eps:\tavg eps reward: -145.993\t\tavg eps step reward: -inf\t\tavg eps length: 447.390\t avg time: 2.067\ttricks_used:0\n",
            "eps: 500, stats for last 100 eps:\tavg eps reward: -178.674\t\tavg eps step reward: -inf\t\tavg eps length: 523.940\t avg time: 2.452\ttricks_used:0\n",
            "eps: 600, stats for last 100 eps:\tavg eps reward: -225.149\t\tavg eps step reward: -inf\t\tavg eps length: 441.980\t avg time: 2.082\ttricks_used:0\n",
            "stepped scheduler, new lr: 0.00094\n",
            "eps: 700, stats for last 100 eps:\tavg eps reward: -373.610\t\tavg eps step reward: -inf\t\tavg eps length: 397.350\t avg time: 1.807\ttricks_used:0\n",
            "eps: 800, stats for last 100 eps:\tavg eps reward: -537.891\t\tavg eps step reward: -inf\t\tavg eps length: 339.270\t avg time: 1.366\ttricks_used:0\n",
            "eps: 900, stats for last 100 eps:\tavg eps reward: -337.949\t\tavg eps step reward: -inf\t\tavg eps length: 666.340\t avg time: 3.326\ttricks_used:0\n",
            "stepped scheduler, new lr: 0.00091\n",
            "eps: 1000, stats for last 100 eps:\tavg eps reward: -227.168\t\tavg eps step reward: -inf\t\tavg eps length: 189.530\t avg time: 0.707\ttricks_used:0\n",
            "eps: 1100, stats for last 100 eps:\tavg eps reward: -267.504\t\tavg eps step reward: -inf\t\tavg eps length: 562.120\t avg time: 2.558\ttricks_used:0\n",
            "eps: 1200, stats for last 100 eps:\tavg eps reward: -169.287\t\tavg eps step reward: -inf\t\tavg eps length: 752.450\t avg time: 3.649\ttricks_used:0\n",
            "stepped scheduler, new lr: 0.00089\n",
            "eps: 1300, stats for last 100 eps:\tavg eps reward: -163.439\t\tavg eps step reward: -inf\t\tavg eps length: 637.040\t avg time: 2.995\ttricks_used:0\n",
            "eps: 1400, stats for last 100 eps:\tavg eps reward: -178.484\t\tavg eps step reward: -inf\t\tavg eps length: 339.440\t avg time: 1.422\ttricks_used:0\n",
            "eps: 1500, stats for last 100 eps:\tavg eps reward: -312.465\t\tavg eps step reward: -inf\t\tavg eps length: 580.830\t avg time: 2.485\ttricks_used:0\n",
            "stepped scheduler, new lr: 0.00086\n",
            "eps: 1600, stats for last 100 eps:\tavg eps reward: -237.711\t\tavg eps step reward: -inf\t\tavg eps length: 463.220\t avg time: 1.917\ttricks_used:0\n",
            "eps: 1700, stats for last 100 eps:\tavg eps reward: -175.349\t\tavg eps step reward: -inf\t\tavg eps length: 787.660\t avg time: 3.683\ttricks_used:0\n",
            "eps: 1800, stats for last 100 eps:\tavg eps reward: -348.355\t\tavg eps step reward: -inf\t\tavg eps length: 267.400\t avg time: 1.063\ttricks_used:0\n",
            "stepped scheduler, new lr: 0.00083\n",
            "eps: 1900, stats for last 100 eps:\tavg eps reward: -177.114\t\tavg eps step reward: -inf\t\tavg eps length: 724.380\t avg time: 3.581\ttricks_used:0\n",
            "eps: 2000, stats for last 100 eps:\tavg eps reward: -218.624\t\tavg eps step reward: -inf\t\tavg eps length: 670.700\t avg time: 3.139\ttricks_used:0\n",
            "eps: 2100, stats for last 100 eps:\tavg eps reward: -121.404\t\tavg eps step reward: -inf\t\tavg eps length: 756.520\t avg time: 3.715\ttricks_used:0\n",
            "stepped scheduler, new lr: 0.00081\n",
            "eps: 2200, stats for last 100 eps:\tavg eps reward: -95.629\t\tavg eps step reward: -inf\t\tavg eps length: 835.610\t avg time: 4.194\ttricks_used:0\n",
            "eps: 2300, stats for last 100 eps:\tavg eps reward: -214.807\t\tavg eps step reward: -inf\t\tavg eps length: 670.840\t avg time: 3.298\ttricks_used:0\n",
            "eps: 2400, stats for last 100 eps:\tavg eps reward: -255.558\t\tavg eps step reward: -inf\t\tavg eps length: 677.740\t avg time: 3.181\ttricks_used:0\n",
            "stepped scheduler, new lr: 0.00078\n",
            "eps: 2500, stats for last 100 eps:\tavg eps reward: -357.880\t\tavg eps step reward: -inf\t\tavg eps length: 758.190\t avg time: 3.547\ttricks_used:0\n",
            "eps: 2600, stats for last 100 eps:\tavg eps reward: -476.226\t\tavg eps step reward: -inf\t\tavg eps length: 634.460\t avg time: 2.911\ttricks_used:0\n",
            "eps: 2700, stats for last 100 eps:\tavg eps reward: -312.244\t\tavg eps step reward: -inf\t\tavg eps length: 498.480\t avg time: 2.315\ttricks_used:0\n",
            "stepped scheduler, new lr: 0.00076\n",
            "eps: 2800, stats for last 100 eps:\tavg eps reward: -418.430\t\tavg eps step reward: -inf\t\tavg eps length: 625.830\t avg time: 2.934\ttricks_used:0\n",
            "eps: 2900, stats for last 100 eps:\tavg eps reward: -323.915\t\tavg eps step reward: -inf\t\tavg eps length: 774.650\t avg time: 3.715\ttricks_used:0\n",
            "---------- Finished training ----------\n",
            "Killed env gen process\n",
            "Saved agent to ./model.pkl\n",
            "----- training took 131.837 minutes -----\n",
            "\n",
            "#################### Attempt 1  ####################\n",
            "Using CPU\n",
            "eps: 100, stats for last 100 eps:\tavg eps reward: -453.261\t\tavg eps step reward: -inf\t\tavg eps length: 119.630\t avg time: 0.379\ttricks_used:0\n",
            "eps: 200, stats for last 100 eps:\tavg eps reward: -449.908\t\tavg eps step reward: -inf\t\tavg eps length: 103.180\t avg time: 0.320\ttricks_used:0\n",
            "eps: 300, stats for last 100 eps:\tavg eps reward: -138.339\t\tavg eps step reward: -inf\t\tavg eps length: 69.900\t avg time: 0.189\ttricks_used:0\n",
            "stepped scheduler, new lr: 0.00097\n",
            "eps: 400, stats for last 100 eps:\tavg eps reward: -138.372\t\tavg eps step reward: -inf\t\tavg eps length: 68.440\t avg time: 0.184\ttricks_used:0\n",
            "eps: 500, stats for last 100 eps:\tavg eps reward: -295.304\t\tavg eps step reward: -inf\t\tavg eps length: 91.460\t avg time: 0.264\ttricks_used:0\n",
            "eps: 600, stats for last 100 eps:\tavg eps reward: -293.801\t\tavg eps step reward: -inf\t\tavg eps length: 80.210\t avg time: 0.226\ttricks_used:0\n",
            "stepped scheduler, new lr: 0.00094\n",
            "eps: 700, stats for last 100 eps:\tavg eps reward: -375.520\t\tavg eps step reward: -inf\t\tavg eps length: 94.730\t avg time: 0.287\ttricks_used:0\n",
            "eps: 800, stats for last 100 eps:\tavg eps reward: -461.349\t\tavg eps step reward: -inf\t\tavg eps length: 107.550\t avg time: 0.325\ttricks_used:0\n",
            "eps: 900, stats for last 100 eps:\tavg eps reward: -340.022\t\tavg eps step reward: -inf\t\tavg eps length: 108.510\t avg time: 0.327\ttricks_used:0\n",
            "stepped scheduler, new lr: 0.00091\n",
            "eps: 1000, stats for last 100 eps:\tavg eps reward: -129.646\t\tavg eps step reward: -inf\t\tavg eps length: 71.730\t avg time: 0.193\ttricks_used:0\n",
            "eps: 1100, stats for last 100 eps:\tavg eps reward: -128.201\t\tavg eps step reward: -inf\t\tavg eps length: 68.750\t avg time: 0.186\ttricks_used:0\n",
            "eps: 1200, stats for last 100 eps:\tavg eps reward: -217.209\t\tavg eps step reward: -inf\t\tavg eps length: 73.570\t avg time: 0.201\ttricks_used:0\n",
            "stepped scheduler, new lr: 0.00089\n",
            "eps: 1300, stats for last 100 eps:\tavg eps reward: -251.807\t\tavg eps step reward: -inf\t\tavg eps length: 88.390\t avg time: 0.246\ttricks_used:0\n",
            "eps: 1400, stats for last 100 eps:\tavg eps reward: -446.175\t\tavg eps step reward: -inf\t\tavg eps length: 99.310\t avg time: 0.297\ttricks_used:0\n",
            "eps: 1500, stats for last 100 eps:\tavg eps reward: -432.397\t\tavg eps step reward: -inf\t\tavg eps length: 92.310\t avg time: 0.283\ttricks_used:0\n",
            "stepped scheduler, new lr: 0.00086\n",
            "eps: 1600, stats for last 100 eps:\tavg eps reward: -130.830\t\tavg eps step reward: -inf\t\tavg eps length: 71.480\t avg time: 0.198\ttricks_used:0\n",
            "eps: 1700, stats for last 100 eps:\tavg eps reward: -132.979\t\tavg eps step reward: -inf\t\tavg eps length: 69.550\t avg time: 0.196\ttricks_used:0\n",
            "eps: 1800, stats for last 100 eps:\tavg eps reward: -133.110\t\tavg eps step reward: -inf\t\tavg eps length: 70.180\t avg time: 0.197\ttricks_used:0\n",
            "stepped scheduler, new lr: 0.00083\n",
            "eps: 1900, stats for last 100 eps:\tavg eps reward: -124.092\t\tavg eps step reward: -inf\t\tavg eps length: 68.020\t avg time: 0.189\ttricks_used:0\n",
            "eps: 2000, stats for last 100 eps:\tavg eps reward: -133.612\t\tavg eps step reward: -inf\t\tavg eps length: 68.700\t avg time: 0.191\ttricks_used:0\n",
            "eps: 2100, stats for last 100 eps:\tavg eps reward: -136.887\t\tavg eps step reward: -inf\t\tavg eps length: 69.190\t avg time: 0.194\ttricks_used:0\n",
            "stepped scheduler, new lr: 0.00081\n",
            "eps: 2200, stats for last 100 eps:\tavg eps reward: -131.995\t\tavg eps step reward: -inf\t\tavg eps length: 73.320\t avg time: 0.206\ttricks_used:0\n",
            "eps: 2300, stats for last 100 eps:\tavg eps reward: -126.050\t\tavg eps step reward: -inf\t\tavg eps length: 68.450\t avg time: 0.189\ttricks_used:0\n",
            "eps: 2400, stats for last 100 eps:\tavg eps reward: -283.132\t\tavg eps step reward: -inf\t\tavg eps length: 114.190\t avg time: 0.348\ttricks_used:0\n",
            "stepped scheduler, new lr: 0.00078\n",
            "eps: 2500, stats for last 100 eps:\tavg eps reward: -268.104\t\tavg eps step reward: -inf\t\tavg eps length: 107.040\t avg time: 0.311\ttricks_used:0\n",
            "eps: 2600, stats for last 100 eps:\tavg eps reward: -376.279\t\tavg eps step reward: -inf\t\tavg eps length: 114.040\t avg time: 0.345\ttricks_used:0\n",
            "eps: 2700, stats for last 100 eps:\tavg eps reward: -327.355\t\tavg eps step reward: -inf\t\tavg eps length: 114.080\t avg time: 0.336\ttricks_used:0\n",
            "stepped scheduler, new lr: 0.00076\n",
            "eps: 2800, stats for last 100 eps:\tavg eps reward: -250.405\t\tavg eps step reward: -inf\t\tavg eps length: 98.400\t avg time: 0.277\ttricks_used:0\n",
            "eps: 2900, stats for last 100 eps:\tavg eps reward: -231.875\t\tavg eps step reward: -inf\t\tavg eps length: 109.530\t avg time: 0.309\ttricks_used:0\n",
            "---------- Finished training ----------\n",
            "Killed env gen process\n",
            "Saved agent to ./model.pkl\n",
            "----- training took 12.976 minutes -----\n",
            "\n"
          ]
        }
      ]
    },
    {
      "cell_type": "code",
      "metadata": {
        "colab": {
          "base_uri": "https://localhost:8080/"
        },
        "id": "dPEwgZaqGxX6",
        "outputId": "2577a20d-9ffc-4a1d-a131-eee4bbaa35f2"
      },
      "source": [
        "num_iterations = 2\n",
        "CONE_TRICK = True\n",
        "NUM_DISCRETE = 7\n",
        "LR = 0.001\n",
        "HIDDEN_SIZE = 512\n",
        "CLIP_GRADIENT = False\n",
        "STOP_TRICK_AT = 400\n",
        "pkl_save_path = os.path.join(DRIVE_PATH, 'best_dqn.pkl')\n",
        "dqn_per_agent = find_best(DiscretizedDQN, DQNAgent, num_iterations, pkl_save_path, epochs=3000,\n",
        "                           action_type='DISCRETIZIED', no_per=False)"
      ],
      "execution_count": null,
      "outputs": [
        {
          "name": "stdout",
          "output_type": "stream",
          "text": [
            "#################### Attempt 0  ####################\n",
            "Using CPU\n"
          ]
        },
        {
          "name": "stderr",
          "output_type": "stream",
          "text": [
            "/content/sokoban_rl/utils.py:139: RuntimeWarning: divide by zero encountered in double_scalars\n",
            "  np.sum(agent.all_rewards[-print_interval:]) / steps_count,\n"
          ]
        },
        {
          "name": "stdout",
          "output_type": "stream",
          "text": [
            "eps: 100, stats for last 100 eps:\tavg eps reward: -383.676\t\tavg eps step reward: -inf\t\tavg eps length: 121.400\t avg time: 0.375\ttricks_used:0\n",
            "eps: 200, stats for last 100 eps:\tavg eps reward: -241.942\t\tavg eps step reward: -inf\t\tavg eps length: 175.700\t avg time: 0.625\ttricks_used:0\n",
            "eps: 300, stats for last 100 eps:\tavg eps reward: -394.952\t\tavg eps step reward: -inf\t\tavg eps length: 123.180\t avg time: 0.397\ttricks_used:0\n",
            "stepped scheduler, new lr: 0.00097\n",
            "eps: 400, stats for last 100 eps:\tavg eps reward: -412.239\t\tavg eps step reward: -inf\t\tavg eps length: 96.220\t avg time: 0.293\ttricks_used:0\n",
            "eps: 500, stats for last 100 eps:\tavg eps reward: -356.092\t\tavg eps step reward: -inf\t\tavg eps length: 77.900\t avg time: 0.224\ttricks_used:0\n",
            "eps: 600, stats for last 100 eps:\tavg eps reward: -137.742\t\tavg eps step reward: -inf\t\tavg eps length: 63.910\t avg time: 0.176\ttricks_used:0\n",
            "stepped scheduler, new lr: 0.00094\n",
            "eps: 700, stats for last 100 eps:\tavg eps reward: -152.216\t\tavg eps step reward: -inf\t\tavg eps length: 95.550\t avg time: 0.274\ttricks_used:0\n",
            "eps: 800, stats for last 100 eps:\tavg eps reward: -371.427\t\tavg eps step reward: -inf\t\tavg eps length: 116.450\t avg time: 0.347\ttricks_used:0\n",
            "eps: 900, stats for last 100 eps:\tavg eps reward: -166.952\t\tavg eps step reward: -inf\t\tavg eps length: 87.030\t avg time: 0.246\ttricks_used:0\n",
            "stepped scheduler, new lr: 0.00091\n",
            "eps: 1000, stats for last 100 eps:\tavg eps reward: -253.205\t\tavg eps step reward: -inf\t\tavg eps length: 101.440\t avg time: 0.295\ttricks_used:0\n",
            "eps: 1100, stats for last 100 eps:\tavg eps reward: -229.850\t\tavg eps step reward: -inf\t\tavg eps length: 106.850\t avg time: 0.317\ttricks_used:0\n",
            "eps: 1200, stats for last 100 eps:\tavg eps reward: -171.940\t\tavg eps step reward: -inf\t\tavg eps length: 100.070\t avg time: 0.291\ttricks_used:0\n",
            "stepped scheduler, new lr: 0.00089\n",
            "eps: 1300, stats for last 100 eps:\tavg eps reward: -245.913\t\tavg eps step reward: -inf\t\tavg eps length: 124.770\t avg time: 0.368\ttricks_used:0\n",
            "eps: 1400, stats for last 100 eps:\tavg eps reward: -263.932\t\tavg eps step reward: -inf\t\tavg eps length: 109.830\t avg time: 0.332\ttricks_used:0\n",
            "eps: 1500, stats for last 100 eps:\tavg eps reward: -371.452\t\tavg eps step reward: -inf\t\tavg eps length: 100.410\t avg time: 0.307\ttricks_used:0\n",
            "stepped scheduler, new lr: 0.00086\n",
            "eps: 1600, stats for last 100 eps:\tavg eps reward: -259.762\t\tavg eps step reward: -inf\t\tavg eps length: 84.060\t avg time: 0.236\ttricks_used:0\n",
            "eps: 1700, stats for last 100 eps:\tavg eps reward: -154.442\t\tavg eps step reward: -inf\t\tavg eps length: 104.020\t avg time: 0.293\ttricks_used:0\n",
            "eps: 1800, stats for last 100 eps:\tavg eps reward: -202.058\t\tavg eps step reward: -inf\t\tavg eps length: 118.090\t avg time: 0.342\ttricks_used:0\n",
            "stepped scheduler, new lr: 0.00083\n",
            "eps: 1900, stats for last 100 eps:\tavg eps reward: -347.865\t\tavg eps step reward: -inf\t\tavg eps length: 114.780\t avg time: 0.337\ttricks_used:0\n",
            "eps: 2000, stats for last 100 eps:\tavg eps reward: -219.052\t\tavg eps step reward: -inf\t\tavg eps length: 125.260\t avg time: 0.357\ttricks_used:0\n",
            "eps: 2100, stats for last 100 eps:\tavg eps reward: -236.434\t\tavg eps step reward: -inf\t\tavg eps length: 104.830\t avg time: 0.298\ttricks_used:0\n",
            "stepped scheduler, new lr: 0.00081\n",
            "eps: 2200, stats for last 100 eps:\tavg eps reward: -179.403\t\tavg eps step reward: -inf\t\tavg eps length: 124.180\t avg time: 0.360\ttricks_used:0\n",
            "eps: 2300, stats for last 100 eps:\tavg eps reward: -190.169\t\tavg eps step reward: -inf\t\tavg eps length: 108.190\t avg time: 0.310\ttricks_used:0\n",
            "eps: 2400, stats for last 100 eps:\tavg eps reward: -156.208\t\tavg eps step reward: -inf\t\tavg eps length: 123.390\t avg time: 0.379\ttricks_used:0\n",
            "stepped scheduler, new lr: 0.00078\n",
            "eps: 2500, stats for last 100 eps:\tavg eps reward: -170.647\t\tavg eps step reward: -inf\t\tavg eps length: 116.170\t avg time: 0.353\ttricks_used:0\n",
            "eps: 2600, stats for last 100 eps:\tavg eps reward: -191.606\t\tavg eps step reward: -inf\t\tavg eps length: 114.390\t avg time: 0.361\ttricks_used:0\n",
            "eps: 2700, stats for last 100 eps:\tavg eps reward: -176.935\t\tavg eps step reward: -inf\t\tavg eps length: 118.360\t avg time: 0.358\ttricks_used:0\n",
            "stepped scheduler, new lr: 0.00076\n",
            "eps: 2800, stats for last 100 eps:\tavg eps reward: -186.514\t\tavg eps step reward: -inf\t\tavg eps length: 120.350\t avg time: 0.363\ttricks_used:0\n",
            "eps: 2900, stats for last 100 eps:\tavg eps reward: -178.432\t\tavg eps step reward: -inf\t\tavg eps length: 111.570\t avg time: 0.329\ttricks_used:0\n",
            "---------- Finished training ----------\n",
            "Killed env gen process\n",
            "Saved agent to ./model.pkl\n",
            "----- training took 16.415 minutes -----\n",
            "\n",
            "#################### Attempt 1  ####################\n",
            "Using CPU\n",
            "eps: 100, stats for last 100 eps:\tavg eps reward: -513.798\t\tavg eps step reward: -inf\t\tavg eps length: 109.780\t avg time: 0.353\ttricks_used:0\n",
            "eps: 200, stats for last 100 eps:\tavg eps reward: -379.722\t\tavg eps step reward: -inf\t\tavg eps length: 98.630\t avg time: 0.298\ttricks_used:0\n",
            "eps: 300, stats for last 100 eps:\tavg eps reward: -473.254\t\tavg eps step reward: -inf\t\tavg eps length: 101.510\t avg time: 0.322\ttricks_used:0\n",
            "stepped scheduler, new lr: 0.00097\n",
            "eps: 400, stats for last 100 eps:\tavg eps reward: -596.853\t\tavg eps step reward: -inf\t\tavg eps length: 109.550\t avg time: 0.348\ttricks_used:0\n",
            "eps: 500, stats for last 100 eps:\tavg eps reward: -494.624\t\tavg eps step reward: -inf\t\tavg eps length: 105.780\t avg time: 0.333\ttricks_used:0\n",
            "eps: 600, stats for last 100 eps:\tavg eps reward: -641.462\t\tavg eps step reward: -inf\t\tavg eps length: 96.750\t avg time: 0.304\ttricks_used:0\n",
            "stepped scheduler, new lr: 0.00094\n",
            "eps: 700, stats for last 100 eps:\tavg eps reward: -360.290\t\tavg eps step reward: -inf\t\tavg eps length: 66.780\t avg time: 0.201\ttricks_used:0\n",
            "eps: 800, stats for last 100 eps:\tavg eps reward: -212.825\t\tavg eps step reward: -inf\t\tavg eps length: 66.380\t avg time: 0.197\ttricks_used:0\n",
            "eps: 900, stats for last 100 eps:\tavg eps reward: -275.974\t\tavg eps step reward: -inf\t\tavg eps length: 67.810\t avg time: 0.203\ttricks_used:0\n",
            "stepped scheduler, new lr: 0.00091\n",
            "eps: 1000, stats for last 100 eps:\tavg eps reward: -287.592\t\tavg eps step reward: -inf\t\tavg eps length: 72.090\t avg time: 0.219\ttricks_used:0\n",
            "eps: 1100, stats for last 100 eps:\tavg eps reward: -150.754\t\tavg eps step reward: -inf\t\tavg eps length: 66.730\t avg time: 0.201\ttricks_used:0\n",
            "eps: 1200, stats for last 100 eps:\tavg eps reward: -268.025\t\tavg eps step reward: -inf\t\tavg eps length: 67.310\t avg time: 0.202\ttricks_used:0\n",
            "stepped scheduler, new lr: 0.00089\n",
            "eps: 1300, stats for last 100 eps:\tavg eps reward: -414.274\t\tavg eps step reward: -inf\t\tavg eps length: 67.290\t avg time: 0.196\ttricks_used:0\n",
            "eps: 1400, stats for last 100 eps:\tavg eps reward: -135.949\t\tavg eps step reward: -inf\t\tavg eps length: 68.950\t avg time: 0.190\ttricks_used:0\n",
            "eps: 1500, stats for last 100 eps:\tavg eps reward: -134.536\t\tavg eps step reward: -inf\t\tavg eps length: 63.880\t avg time: 0.178\ttricks_used:0\n",
            "stepped scheduler, new lr: 0.00086\n",
            "eps: 1600, stats for last 100 eps:\tavg eps reward: -132.414\t\tavg eps step reward: -inf\t\tavg eps length: 67.170\t avg time: 0.185\ttricks_used:0\n",
            "eps: 1700, stats for last 100 eps:\tavg eps reward: -147.664\t\tavg eps step reward: -inf\t\tavg eps length: 65.100\t avg time: 0.186\ttricks_used:0\n",
            "eps: 1800, stats for last 100 eps:\tavg eps reward: -136.594\t\tavg eps step reward: -inf\t\tavg eps length: 65.170\t avg time: 0.183\ttricks_used:0\n",
            "stepped scheduler, new lr: 0.00083\n",
            "eps: 1900, stats for last 100 eps:\tavg eps reward: -199.828\t\tavg eps step reward: -inf\t\tavg eps length: 65.350\t avg time: 0.184\ttricks_used:0\n",
            "eps: 2000, stats for last 100 eps:\tavg eps reward: -132.062\t\tavg eps step reward: -inf\t\tavg eps length: 65.960\t avg time: 0.185\ttricks_used:0\n",
            "eps: 2100, stats for last 100 eps:\tavg eps reward: -129.147\t\tavg eps step reward: -inf\t\tavg eps length: 65.500\t avg time: 0.183\ttricks_used:0\n",
            "stepped scheduler, new lr: 0.00081\n",
            "eps: 2200, stats for last 100 eps:\tavg eps reward: -157.770\t\tavg eps step reward: -inf\t\tavg eps length: 65.690\t avg time: 0.184\ttricks_used:0\n",
            "eps: 2300, stats for last 100 eps:\tavg eps reward: -170.694\t\tavg eps step reward: -inf\t\tavg eps length: 66.560\t avg time: 0.190\ttricks_used:0\n",
            "eps: 2400, stats for last 100 eps:\tavg eps reward: -224.712\t\tavg eps step reward: -inf\t\tavg eps length: 66.770\t avg time: 0.195\ttricks_used:0\n",
            "stepped scheduler, new lr: 0.00078\n",
            "eps: 2500, stats for last 100 eps:\tavg eps reward: -137.188\t\tavg eps step reward: -inf\t\tavg eps length: 66.490\t avg time: 0.192\ttricks_used:0\n",
            "eps: 2600, stats for last 100 eps:\tavg eps reward: -134.969\t\tavg eps step reward: -inf\t\tavg eps length: 68.380\t avg time: 0.203\ttricks_used:0\n",
            "eps: 2700, stats for last 100 eps:\tavg eps reward: -131.789\t\tavg eps step reward: -inf\t\tavg eps length: 65.490\t avg time: 0.197\ttricks_used:0\n",
            "stepped scheduler, new lr: 0.00076\n",
            "eps: 2800, stats for last 100 eps:\tavg eps reward: -205.922\t\tavg eps step reward: -inf\t\tavg eps length: 67.170\t avg time: 0.203\ttricks_used:0\n",
            "eps: 2900, stats for last 100 eps:\tavg eps reward: -134.188\t\tavg eps step reward: -inf\t\tavg eps length: 66.840\t avg time: 0.200\ttricks_used:0\n",
            "---------- Finished training ----------\n",
            "Killed env gen process\n",
            "Saved agent to ./model.pkl\n",
            "----- training took 11.035 minutes -----\n",
            "\n"
          ]
        }
      ]
    },
    {
      "cell_type": "code",
      "metadata": {
        "colab": {
          "base_uri": "https://localhost:8080/"
        },
        "id": "jRS4aMcoCGCc",
        "outputId": "ae3d2ed9-07e8-4528-e8e0-8c2575c2d277"
      },
      "source": [
        "num_iterations = 2\n",
        "CONE_TRICK = False\n",
        "NUM_DISCRETE = 7\n",
        "LR = 0.025\n",
        "HIDDEN_SIZE = 512\n",
        "CLIP_GRADIENT = False\n",
        "STOP_TRICK_AT = 200\n",
        "pkl_save_path = os.path.join(DRIVE_PATH, 'best_dqn.pkl')\n",
        "dqn_per_agent = find_best(DiscretizedDQN, DQNAgent, num_iterations, pkl_save_path, epochs=3000,\n",
        "                           action_type='DISCRETIZIED', no_per=False)"
      ],
      "execution_count": null,
      "outputs": [
        {
          "name": "stdout",
          "output_type": "stream",
          "text": [
            "#################### Attempt 0  ####################\n",
            "Using CPU\n"
          ]
        },
        {
          "name": "stderr",
          "output_type": "stream",
          "text": [
            "/content/sokoban_rl/utils.py:139: RuntimeWarning: divide by zero encountered in double_scalars\n",
            "  np.sum(agent.all_rewards[-print_interval:]) / steps_count,\n"
          ]
        },
        {
          "name": "stdout",
          "output_type": "stream",
          "text": [
            "eps: 100, stats for last 100 eps:\tavg eps reward: -337.304\t\tavg eps step reward: -inf\t\tavg eps length: 86.780\t avg time: 0.236\ttricks_used:0\n",
            "eps: 200, stats for last 100 eps:\tavg eps reward: -361.950\t\tavg eps step reward: -inf\t\tavg eps length: 71.410\t avg time: 0.196\ttricks_used:0\n",
            "eps: 300, stats for last 100 eps:\tavg eps reward: -523.641\t\tavg eps step reward: -inf\t\tavg eps length: 76.110\t avg time: 0.220\ttricks_used:0\n",
            "stepped scheduler, new lr: 0.02425\n",
            "eps: 400, stats for last 100 eps:\tavg eps reward: -558.361\t\tavg eps step reward: -inf\t\tavg eps length: 96.770\t avg time: 0.283\ttricks_used:0\n",
            "eps: 500, stats for last 100 eps:\tavg eps reward: -598.467\t\tavg eps step reward: -inf\t\tavg eps length: 116.010\t avg time: 0.349\ttricks_used:0\n",
            "eps: 600, stats for last 100 eps:\tavg eps reward: -751.398\t\tavg eps step reward: -inf\t\tavg eps length: 101.860\t avg time: 0.321\ttricks_used:0\n",
            "stepped scheduler, new lr: 0.02352\n",
            "eps: 700, stats for last 100 eps:\tavg eps reward: -676.932\t\tavg eps step reward: -inf\t\tavg eps length: 83.720\t avg time: 0.248\ttricks_used:0\n",
            "eps: 800, stats for last 100 eps:\tavg eps reward: -521.437\t\tavg eps step reward: -inf\t\tavg eps length: 90.690\t avg time: 0.267\ttricks_used:0\n",
            "eps: 900, stats for last 100 eps:\tavg eps reward: -905.564\t\tavg eps step reward: -inf\t\tavg eps length: 89.920\t avg time: 0.278\ttricks_used:0\n",
            "stepped scheduler, new lr: 0.02282\n",
            "eps: 1000, stats for last 100 eps:\tavg eps reward: -655.278\t\tavg eps step reward: -inf\t\tavg eps length: 119.000\t avg time: 0.364\ttricks_used:0\n",
            "eps: 1100, stats for last 100 eps:\tavg eps reward: -347.939\t\tavg eps step reward: -inf\t\tavg eps length: 78.420\t avg time: 0.220\ttricks_used:0\n",
            "eps: 1200, stats for last 100 eps:\tavg eps reward: -471.892\t\tavg eps step reward: -inf\t\tavg eps length: 118.600\t avg time: 0.366\ttricks_used:0\n",
            "stepped scheduler, new lr: 0.02213\n",
            "eps: 1300, stats for last 100 eps:\tavg eps reward: -583.253\t\tavg eps step reward: -inf\t\tavg eps length: 109.400\t avg time: 0.338\ttricks_used:0\n",
            "eps: 1400, stats for last 100 eps:\tavg eps reward: -550.800\t\tavg eps step reward: -inf\t\tavg eps length: 69.900\t avg time: 0.203\ttricks_used:0\n",
            "eps: 1500, stats for last 100 eps:\tavg eps reward: -671.214\t\tavg eps step reward: -inf\t\tavg eps length: 102.090\t avg time: 0.317\ttricks_used:0\n",
            "stepped scheduler, new lr: 0.02147\n",
            "eps: 1600, stats for last 100 eps:\tavg eps reward: -619.601\t\tavg eps step reward: -inf\t\tavg eps length: 163.540\t avg time: 0.584\ttricks_used:0\n",
            "eps: 1700, stats for last 100 eps:\tavg eps reward: -494.543\t\tavg eps step reward: -inf\t\tavg eps length: 91.670\t avg time: 0.274\ttricks_used:0\n",
            "eps: 1800, stats for last 100 eps:\tavg eps reward: -218.802\t\tavg eps step reward: -inf\t\tavg eps length: 122.680\t avg time: 0.374\ttricks_used:0\n",
            "stepped scheduler, new lr: 0.02082\n",
            "eps: 1900, stats for last 100 eps:\tavg eps reward: -284.337\t\tavg eps step reward: -inf\t\tavg eps length: 143.200\t avg time: 0.466\ttricks_used:0\n",
            "eps: 2000, stats for last 100 eps:\tavg eps reward: -349.682\t\tavg eps step reward: -inf\t\tavg eps length: 134.060\t avg time: 0.423\ttricks_used:0\n",
            "eps: 2100, stats for last 100 eps:\tavg eps reward: -502.773\t\tavg eps step reward: -inf\t\tavg eps length: 120.240\t avg time: 0.383\ttricks_used:0\n",
            "stepped scheduler, new lr: 0.02020\n",
            "eps: 2200, stats for last 100 eps:\tavg eps reward: -681.003\t\tavg eps step reward: -inf\t\tavg eps length: 76.220\t avg time: 0.235\ttricks_used:0\n",
            "eps: 2300, stats for last 100 eps:\tavg eps reward: -584.743\t\tavg eps step reward: -inf\t\tavg eps length: 107.360\t avg time: 0.336\ttricks_used:0\n",
            "eps: 2400, stats for last 100 eps:\tavg eps reward: -555.943\t\tavg eps step reward: -inf\t\tavg eps length: 83.870\t avg time: 0.266\ttricks_used:0\n",
            "stepped scheduler, new lr: 0.01959\n",
            "eps: 2500, stats for last 100 eps:\tavg eps reward: -380.689\t\tavg eps step reward: -inf\t\tavg eps length: 97.470\t avg time: 0.324\ttricks_used:0\n",
            "eps: 2600, stats for last 100 eps:\tavg eps reward: -498.785\t\tavg eps step reward: -inf\t\tavg eps length: 97.360\t avg time: 0.305\ttricks_used:0\n",
            "eps: 2700, stats for last 100 eps:\tavg eps reward: -377.921\t\tavg eps step reward: -inf\t\tavg eps length: 87.360\t avg time: 0.266\ttricks_used:0\n",
            "stepped scheduler, new lr: 0.01901\n",
            "eps: 2800, stats for last 100 eps:\tavg eps reward: -523.653\t\tavg eps step reward: -inf\t\tavg eps length: 74.020\t avg time: 0.221\ttricks_used:0\n",
            "eps: 2900, stats for last 100 eps:\tavg eps reward: -259.833\t\tavg eps step reward: -inf\t\tavg eps length: 71.390\t avg time: 0.204\ttricks_used:0\n",
            "---------- Finished training ----------\n",
            "Killed env gen process\n",
            "Saved agent to ./model.pkl\n",
            "----- training took 15.122 minutes -----\n",
            "\n",
            "#################### Attempt 1  ####################\n",
            "Using CPU\n",
            "eps: 100, stats for last 100 eps:\tavg eps reward: -706.739\t\tavg eps step reward: -inf\t\tavg eps length: 98.880\t avg time: 0.306\ttricks_used:0\n",
            "eps: 200, stats for last 100 eps:\tavg eps reward: -375.385\t\tavg eps step reward: -inf\t\tavg eps length: 80.390\t avg time: 0.235\ttricks_used:0\n",
            "eps: 300, stats for last 100 eps:\tavg eps reward: -303.522\t\tavg eps step reward: -inf\t\tavg eps length: 83.990\t avg time: 0.257\ttricks_used:0\n",
            "stepped scheduler, new lr: 0.02425\n",
            "eps: 400, stats for last 100 eps:\tavg eps reward: -514.108\t\tavg eps step reward: -inf\t\tavg eps length: 99.840\t avg time: 0.305\ttricks_used:0\n",
            "eps: 500, stats for last 100 eps:\tavg eps reward: -998.445\t\tavg eps step reward: -inf\t\tavg eps length: 135.030\t avg time: 0.429\ttricks_used:0\n",
            "eps: 600, stats for last 100 eps:\tavg eps reward: -737.377\t\tavg eps step reward: -inf\t\tavg eps length: 107.390\t avg time: 0.336\ttricks_used:0\n",
            "stepped scheduler, new lr: 0.02352\n",
            "eps: 700, stats for last 100 eps:\tavg eps reward: -916.364\t\tavg eps step reward: -inf\t\tavg eps length: 130.420\t avg time: 0.410\ttricks_used:0\n",
            "eps: 800, stats for last 100 eps:\tavg eps reward: -755.629\t\tavg eps step reward: -inf\t\tavg eps length: 146.010\t avg time: 0.474\ttricks_used:0\n",
            "eps: 900, stats for last 100 eps:\tavg eps reward: -577.933\t\tavg eps step reward: -inf\t\tavg eps length: 137.930\t avg time: 0.440\ttricks_used:0\n",
            "stepped scheduler, new lr: 0.02282\n",
            "eps: 1000, stats for last 100 eps:\tavg eps reward: -536.505\t\tavg eps step reward: -inf\t\tavg eps length: 128.320\t avg time: 0.399\ttricks_used:0\n",
            "eps: 1100, stats for last 100 eps:\tavg eps reward: -818.536\t\tavg eps step reward: -inf\t\tavg eps length: 98.160\t avg time: 0.307\ttricks_used:0\n",
            "eps: 1200, stats for last 100 eps:\tavg eps reward: -983.907\t\tavg eps step reward: -inf\t\tavg eps length: 89.460\t avg time: 0.282\ttricks_used:0\n",
            "stepped scheduler, new lr: 0.02213\n",
            "eps: 1300, stats for last 100 eps:\tavg eps reward: -989.315\t\tavg eps step reward: -inf\t\tavg eps length: 95.980\t avg time: 0.302\ttricks_used:0\n",
            "eps: 1400, stats for last 100 eps:\tavg eps reward: -627.555\t\tavg eps step reward: -inf\t\tavg eps length: 91.340\t avg time: 0.275\ttricks_used:0\n",
            "eps: 1500, stats for last 100 eps:\tavg eps reward: -528.237\t\tavg eps step reward: -inf\t\tavg eps length: 94.160\t avg time: 0.278\ttricks_used:0\n",
            "stepped scheduler, new lr: 0.02147\n",
            "eps: 1600, stats for last 100 eps:\tavg eps reward: -571.167\t\tavg eps step reward: -inf\t\tavg eps length: 120.770\t avg time: 0.370\ttricks_used:0\n",
            "eps: 1700, stats for last 100 eps:\tavg eps reward: -485.050\t\tavg eps step reward: -inf\t\tavg eps length: 131.220\t avg time: 0.401\ttricks_used:0\n",
            "eps: 1800, stats for last 100 eps:\tavg eps reward: -534.919\t\tavg eps step reward: -inf\t\tavg eps length: 140.760\t avg time: 0.447\ttricks_used:0\n",
            "stepped scheduler, new lr: 0.02082\n",
            "eps: 1900, stats for last 100 eps:\tavg eps reward: -294.186\t\tavg eps step reward: -inf\t\tavg eps length: 93.820\t avg time: 0.276\ttricks_used:0\n",
            "eps: 2000, stats for last 100 eps:\tavg eps reward: -502.053\t\tavg eps step reward: -inf\t\tavg eps length: 68.450\t avg time: 0.199\ttricks_used:0\n",
            "eps: 2100, stats for last 100 eps:\tavg eps reward: -478.147\t\tavg eps step reward: -inf\t\tavg eps length: 90.870\t avg time: 0.296\ttricks_used:0\n",
            "stepped scheduler, new lr: 0.02020\n",
            "eps: 2200, stats for last 100 eps:\tavg eps reward: -295.670\t\tavg eps step reward: -inf\t\tavg eps length: 104.560\t avg time: 0.324\ttricks_used:0\n",
            "eps: 2300, stats for last 100 eps:\tavg eps reward: -351.555\t\tavg eps step reward: -inf\t\tavg eps length: 142.890\t avg time: 0.468\ttricks_used:0\n",
            "eps: 2400, stats for last 100 eps:\tavg eps reward: -252.519\t\tavg eps step reward: -inf\t\tavg eps length: 104.520\t avg time: 0.323\ttricks_used:0\n",
            "stepped scheduler, new lr: 0.01959\n",
            "eps: 2500, stats for last 100 eps:\tavg eps reward: -443.807\t\tavg eps step reward: -inf\t\tavg eps length: 126.390\t avg time: 0.420\ttricks_used:0\n",
            "eps: 2600, stats for last 100 eps:\tavg eps reward: -605.172\t\tavg eps step reward: -inf\t\tavg eps length: 115.280\t avg time: 0.391\ttricks_used:0\n",
            "eps: 2700, stats for last 100 eps:\tavg eps reward: -591.262\t\tavg eps step reward: -inf\t\tavg eps length: 82.620\t avg time: 0.250\ttricks_used:0\n",
            "stepped scheduler, new lr: 0.01901\n",
            "eps: 2800, stats for last 100 eps:\tavg eps reward: -496.551\t\tavg eps step reward: -inf\t\tavg eps length: 149.970\t avg time: 0.502\ttricks_used:0\n",
            "eps: 2900, stats for last 100 eps:\tavg eps reward: -382.808\t\tavg eps step reward: -inf\t\tavg eps length: 144.890\t avg time: 0.486\ttricks_used:0\n",
            "---------- Finished training ----------\n",
            "Killed env gen process\n",
            "Saved agent to ./model.pkl\n",
            "----- training took 17.551 minutes -----\n",
            "\n"
          ]
        }
      ]
    },
    {
      "cell_type": "markdown",
      "metadata": {
        "id": "ZN1VOUs-M8KX"
      },
      "source": [
        "#### Train the best discrete agent\n"
      ]
    },
    {
      "cell_type": "code",
      "metadata": {
        "colab": {
          "base_uri": "https://localhost:8080/"
        },
        "id": "DoWRE5jPMy9F",
        "outputId": "afd8afb3-6930-492e-e2ab-9d09651e7d3d"
      },
      "source": [
        "# LR = 0.0035\n",
        "LR = 0.005\n",
        "HIDDEN_SIZE = 512\n",
        "NUM_DISCRETE = 9\n",
        "num_iterations = 2\n",
        "CLIP_GRADIENT = True\n",
        "STOP_TRICK_AT = 300\n",
        "CONE_TRICK = True\n",
        "pkl_save_path = os.path.join(DRIVE_PATH, 'best_discrete.pkl')\n",
        "discrete_agents = find_best(SplitDiscreteActorCritic, A2CAgent, num_iterations, pkl_save_path, epochs=1000,\n",
        "                            action_type='DISCRETIZIED')"
      ],
      "execution_count": null,
      "outputs": [
        {
          "name": "stdout",
          "output_type": "stream",
          "text": [
            "#################### Attempt 0  ####################\n",
            "Using CUDA\n",
            "eps: 100, stats for last 100 eps:\tavg eps reward: -705.631\t\tavg eps step reward: -5.946\t\tavg eps length: 117.830\t avg time: 0.213\ttricks_used:61\n",
            "eps: 200, stats for last 100 eps:\tavg eps reward: -869.217\t\tavg eps step reward: -4.614\t\tavg eps length: 188.400\t avg time: 0.432\ttricks_used:22\n",
            "Stopped using trick\n",
            "eps: 300, stats for last 100 eps:\tavg eps reward: -524.987\t\tavg eps step reward: -4.156\t\tavg eps length: 126.310\t avg time: 0.247\ttricks_used:22\n",
            "stepped scheduler, new lr: 0.00450\n",
            "eps: 400, stats for last 100 eps:\tavg eps reward: -179.820\t\tavg eps step reward: -2.354\t\tavg eps length: 76.400\t avg time: 0.128\ttricks_used:0\n",
            "eps: 500, stats for last 100 eps:\tavg eps reward: -140.850\t\tavg eps step reward: -2.004\t\tavg eps length: 70.300\t avg time: 0.122\ttricks_used:0\n"
          ]
        }
      ]
    },
    {
      "cell_type": "code",
      "metadata": {
        "id": "O8GmbC-FlFoh"
      },
      "source": [
        "# LR = 0.0035\n",
        "LR = 0.005\n",
        "HIDDEN_SIZE = 512\n",
        "NUM_DISCRETE = 7\n",
        "num_iterations = 2\n",
        "pkl_save_path = os.path.join(DRIVE_PATH, 'best_discrete.pkl')\n",
        "discrete_agents = find_best(SplitDiscreteActorCritic, A2CAgent, num_iterations, pkl_save_path, epochs=1000,\n",
        "                            action_type='DISCRETIZIED')"
      ],
      "execution_count": null,
      "outputs": []
    },
    {
      "cell_type": "markdown",
      "metadata": {
        "id": "ZozZDLa60v9s"
      },
      "source": [
        "#### Train a conv1d agent for 10K epochs"
      ]
    },
    {
      "cell_type": "code",
      "metadata": {
        "colab": {
          "base_uri": "https://localhost:8080/",
          "height": 1000
        },
        "id": "XX7U5a0iNPbL",
        "outputId": "4b24789c-8390-4ff6-c012-112a129191bb"
      },
      "source": [
        "num_iterations = 1\n",
        "NO_CUDA = False\n",
        "CLIP_GRADIENT = False\n",
        "CONE_TRICK = True\n",
        "STOP_TRICK_AT = 400\n",
        "LR = 0.0035\n",
        "HIDDEN_SIZE = 512\n",
        "NUM_DISCRETE = 3\n",
        "pkl_save_path = os.path.join(DRIVE_PATH, 'best_conv.pkl')\n",
        "conv_agent = find_best(SplitDiscreteConvActorCritic, A2CAgent, num_iterations, pkl_save_path, epochs=10000,\n",
        "                       action_type='DISCRETIZIED')"
      ],
      "execution_count": null,
      "outputs": [
        {
          "name": "stdout",
          "output_type": "stream",
          "text": [
            "#################### Attempt 0  ####################\n",
            "Using CUDA\n",
            "eps: 100, stats for last 100 eps:\tavg eps reward: -221.758\t\tavg eps step reward: -2.277\t\tavg eps length: 96.550\t avg time: 0.183\ttricks_used:61\n",
            "eps: 200, stats for last 100 eps:\tavg eps reward: -176.667\t\tavg eps step reward: -2.030\t\tavg eps length: 87.040\t avg time: 0.165\ttricks_used:49\n",
            "eps: 300, stats for last 100 eps:\tavg eps reward: -185.137\t\tavg eps step reward: -2.096\t\tavg eps length: 88.310\t avg time: 0.162\ttricks_used:55\n",
            "stepped scheduler, new lr: 0.00340\n",
            "Stopped using trick\n",
            "eps: 400, stats for last 100 eps:\tavg eps reward: -194.738\t\tavg eps step reward: -2.088\t\tavg eps length: 93.270\t avg time: 0.169\ttricks_used:61\n",
            "eps: 500, stats for last 100 eps:\tavg eps reward: -215.004\t\tavg eps step reward: -2.196\t\tavg eps length: 97.890\t avg time: 0.186\ttricks_used:0\n",
            "eps: 600, stats for last 100 eps:\tavg eps reward: -160.295\t\tavg eps step reward: -1.520\t\tavg eps length: 105.470\t avg time: 0.204\ttricks_used:0\n",
            "stepped scheduler, new lr: 0.00329\n",
            "eps: 700, stats for last 100 eps:\tavg eps reward: -182.840\t\tavg eps step reward: -1.898\t\tavg eps length: 96.320\t avg time: 0.176\ttricks_used:0\n",
            "eps: 800, stats for last 100 eps:\tavg eps reward: -524.553\t\tavg eps step reward: -4.728\t\tavg eps length: 110.950\t avg time: 0.210\ttricks_used:0\n",
            "eps: 900, stats for last 100 eps:\tavg eps reward: -798.023\t\tavg eps step reward: -6.764\t\tavg eps length: 117.980\t avg time: 0.234\ttricks_used:0\n",
            "stepped scheduler, new lr: 0.00319\n",
            "eps: 1000, stats for last 100 eps:\tavg eps reward: -897.218\t\tavg eps step reward: -7.109\t\tavg eps length: 126.210\t avg time: 0.258\ttricks_used:0\n",
            "eps: 1100, stats for last 100 eps:\tavg eps reward: -732.036\t\tavg eps step reward: -6.663\t\tavg eps length: 109.860\t avg time: 0.209\ttricks_used:0\n",
            "eps: 1200, stats for last 100 eps:\tavg eps reward: -812.397\t\tavg eps step reward: -6.624\t\tavg eps length: 122.640\t avg time: 0.235\ttricks_used:0\n",
            "stepped scheduler, new lr: 0.00310\n",
            "eps: 1300, stats for last 100 eps:\tavg eps reward: -771.412\t\tavg eps step reward: -6.769\t\tavg eps length: 113.960\t avg time: 0.229\ttricks_used:0\n",
            "eps: 1400, stats for last 100 eps:\tavg eps reward: -915.900\t\tavg eps step reward: -6.978\t\tavg eps length: 131.260\t avg time: 0.258\ttricks_used:0\n",
            "eps: 1500, stats for last 100 eps:\tavg eps reward: -828.427\t\tavg eps step reward: -6.886\t\tavg eps length: 120.310\t avg time: 0.234\ttricks_used:0\n",
            "stepped scheduler, new lr: 0.00301\n",
            "eps: 1600, stats for last 100 eps:\tavg eps reward: -899.656\t\tavg eps step reward: -7.063\t\tavg eps length: 127.370\t avg time: 0.253\ttricks_used:0\n",
            "eps: 1700, stats for last 100 eps:\tavg eps reward: -823.386\t\tavg eps step reward: -6.899\t\tavg eps length: 119.340\t avg time: 0.228\ttricks_used:0\n",
            "eps: 1800, stats for last 100 eps:\tavg eps reward: -882.049\t\tavg eps step reward: -6.893\t\tavg eps length: 127.960\t avg time: 0.255\ttricks_used:0\n",
            "stepped scheduler, new lr: 0.00292\n",
            "eps: 1900, stats for last 100 eps:\tavg eps reward: -832.041\t\tavg eps step reward: -6.836\t\tavg eps length: 121.710\t avg time: 0.238\ttricks_used:0\n",
            "eps: 2000, stats for last 100 eps:\tavg eps reward: -924.084\t\tavg eps step reward: -7.107\t\tavg eps length: 130.030\t avg time: 0.253\ttricks_used:0\n",
            "eps: 2100, stats for last 100 eps:\tavg eps reward: -893.442\t\tavg eps step reward: -6.938\t\tavg eps length: 128.780\t avg time: 0.262\ttricks_used:0\n",
            "stepped scheduler, new lr: 0.00283\n",
            "eps: 2200, stats for last 100 eps:\tavg eps reward: -856.337\t\tavg eps step reward: -6.739\t\tavg eps length: 127.070\t avg time: 0.254\ttricks_used:0\n",
            "eps: 2300, stats for last 100 eps:\tavg eps reward: -891.825\t\tavg eps step reward: -6.948\t\tavg eps length: 128.360\t avg time: 0.250\ttricks_used:0\n",
            "eps: 2400, stats for last 100 eps:\tavg eps reward: -894.798\t\tavg eps step reward: -7.101\t\tavg eps length: 126.010\t avg time: 0.243\ttricks_used:0\n",
            "stepped scheduler, new lr: 0.00274\n",
            "eps: 2500, stats for last 100 eps:\tavg eps reward: -836.768\t\tavg eps step reward: -6.826\t\tavg eps length: 122.590\t avg time: 0.249\ttricks_used:0\n",
            "eps: 2600, stats for last 100 eps:\tavg eps reward: -835.526\t\tavg eps step reward: -6.852\t\tavg eps length: 121.940\t avg time: 0.232\ttricks_used:0\n",
            "eps: 2700, stats for last 100 eps:\tavg eps reward: -847.001\t\tavg eps step reward: -6.919\t\tavg eps length: 122.420\t avg time: 0.239\ttricks_used:0\n",
            "stepped scheduler, new lr: 0.00266\n",
            "eps: 2800, stats for last 100 eps:\tavg eps reward: -853.099\t\tavg eps step reward: -7.138\t\tavg eps length: 119.520\t avg time: 0.239\ttricks_used:0\n",
            "eps: 2900, stats for last 100 eps:\tavg eps reward: -759.852\t\tavg eps step reward: -6.767\t\tavg eps length: 112.280\t avg time: 0.212\ttricks_used:0\n",
            "eps: 3000, stats for last 100 eps:\tavg eps reward: -817.606\t\tavg eps step reward: -6.798\t\tavg eps length: 120.280\t avg time: 0.236\ttricks_used:0\n",
            "stepped scheduler, new lr: 0.00258\n",
            "eps: 3100, stats for last 100 eps:\tavg eps reward: -973.781\t\tavg eps step reward: -7.289\t\tavg eps length: 133.590\t avg time: 0.267\ttricks_used:0\n",
            "eps: 3200, stats for last 100 eps:\tavg eps reward: -857.274\t\tavg eps step reward: -6.888\t\tavg eps length: 124.460\t avg time: 0.237\ttricks_used:0\n",
            "eps: 3300, stats for last 100 eps:\tavg eps reward: -892.503\t\tavg eps step reward: -7.044\t\tavg eps length: 126.710\t avg time: 0.255\ttricks_used:0\n",
            "stepped scheduler, new lr: 0.00250\n",
            "eps: 3400, stats for last 100 eps:\tavg eps reward: -893.333\t\tavg eps step reward: -6.900\t\tavg eps length: 129.470\t avg time: 0.258\ttricks_used:0\n",
            "eps: 3500, stats for last 100 eps:\tavg eps reward: -894.358\t\tavg eps step reward: -7.163\t\tavg eps length: 124.850\t avg time: 0.249\ttricks_used:0\n",
            "eps: 3600, stats for last 100 eps:\tavg eps reward: -1008.771\t\tavg eps step reward: -7.347\t\tavg eps length: 137.300\t avg time: 0.267\ttricks_used:0\n",
            "stepped scheduler, new lr: 0.00243\n",
            "eps: 3700, stats for last 100 eps:\tavg eps reward: -886.649\t\tavg eps step reward: -6.907\t\tavg eps length: 128.370\t avg time: 0.264\ttricks_used:0\n"
          ]
        },
        {
          "ename": "KeyboardInterrupt",
          "evalue": "ignored",
          "output_type": "error",
          "traceback": [
            "\u001b[0;31m---------------------------------------------------------------------------\u001b[0m",
            "\u001b[0;31mKeyboardInterrupt\u001b[0m                         Traceback (most recent call last)",
            "\u001b[0;32m<ipython-input-13-607a8f3c5bdd>\u001b[0m in \u001b[0;36m<module>\u001b[0;34m()\u001b[0m\n\u001b[1;32m      9\u001b[0m \u001b[0mpkl_save_path\u001b[0m \u001b[0;34m=\u001b[0m \u001b[0mos\u001b[0m\u001b[0;34m.\u001b[0m\u001b[0mpath\u001b[0m\u001b[0;34m.\u001b[0m\u001b[0mjoin\u001b[0m\u001b[0;34m(\u001b[0m\u001b[0mDRIVE_PATH\u001b[0m\u001b[0;34m,\u001b[0m \u001b[0;34m'best_conv.pkl'\u001b[0m\u001b[0;34m)\u001b[0m\u001b[0;34m\u001b[0m\u001b[0;34m\u001b[0m\u001b[0m\n\u001b[1;32m     10\u001b[0m conv_agent = find_best(SplitDiscreteConvActorCritic, A2CAgent, num_iterations, pkl_save_path, epochs=10000,\n\u001b[0;32m---> 11\u001b[0;31m                        action_type='DISCRETIZIED')\n\u001b[0m",
            "\u001b[0;32m<ipython-input-8-aaa97af1dcdd>\u001b[0m in \u001b[0;36mfind_best\u001b[0;34m(model_type, agent_type, num_iterations, pkl_save_path, epochs, action_type, no_per)\u001b[0m\n\u001b[1;32m     30\u001b[0m                         \u001b[0mstop_trick_at\u001b[0m\u001b[0;34m=\u001b[0m\u001b[0mSTOP_TRICK_AT\u001b[0m\u001b[0;34m,\u001b[0m\u001b[0;34m\u001b[0m\u001b[0;34m\u001b[0m\u001b[0m\n\u001b[1;32m     31\u001b[0m                         \u001b[0mno_cuda\u001b[0m\u001b[0;34m=\u001b[0m\u001b[0mNO_CUDA\u001b[0m\u001b[0;34m,\u001b[0m\u001b[0;34m\u001b[0m\u001b[0;34m\u001b[0m\u001b[0m\n\u001b[0;32m---> 32\u001b[0;31m                         no_per=no_per)\n\u001b[0m\u001b[1;32m     33\u001b[0m         \u001b[0;32mexcept\u001b[0m \u001b[0mException\u001b[0m \u001b[0;32mas\u001b[0m \u001b[0me\u001b[0m\u001b[0;34m:\u001b[0m\u001b[0;34m\u001b[0m\u001b[0;34m\u001b[0m\u001b[0m\n\u001b[1;32m     34\u001b[0m             \u001b[0;32mraise\u001b[0m \u001b[0me\u001b[0m\u001b[0;34m\u001b[0m\u001b[0;34m\u001b[0m\u001b[0m\n",
            "\u001b[0;32m/content/sokoban_rl/a2c_agent.py\u001b[0m in \u001b[0;36mtrain\u001b[0;34m(self, epochs, trajectory_len, env_gen, lr, discount_gamma, scheduler_gamma, beta, print_interval, log_interval, save_interval, scheduler_interval, clip_gradient, stop_trick_at, no_cuda, **kwargs)\u001b[0m\n\u001b[1;32m     70\u001b[0m             \u001b[0;32mfor\u001b[0m \u001b[0mstep\u001b[0m \u001b[0;32min\u001b[0m \u001b[0mrange\u001b[0m\u001b[0;34m(\u001b[0m\u001b[0mself\u001b[0m\u001b[0;34m.\u001b[0m\u001b[0menv\u001b[0m\u001b[0;34m.\u001b[0m\u001b[0mmax_steps\u001b[0m\u001b[0;34m)\u001b[0m\u001b[0;34m:\u001b[0m\u001b[0;34m\u001b[0m\u001b[0;34m\u001b[0m\u001b[0m\n\u001b[1;32m     71\u001b[0m                 \u001b[0msteps_count\u001b[0m \u001b[0;34m+=\u001b[0m \u001b[0;36m1\u001b[0m\u001b[0;34m\u001b[0m\u001b[0;34m\u001b[0m\u001b[0m\n\u001b[0;32m---> 72\u001b[0;31m                 \u001b[0mvalue\u001b[0m\u001b[0;34m,\u001b[0m \u001b[0mpolicy_dist\u001b[0m \u001b[0;34m=\u001b[0m \u001b[0mself\u001b[0m\u001b[0;34m.\u001b[0m\u001b[0mmodel\u001b[0m\u001b[0;34m.\u001b[0m\u001b[0mforward\u001b[0m\u001b[0;34m(\u001b[0m\u001b[0mstate\u001b[0m\u001b[0;34m)\u001b[0m\u001b[0;34m\u001b[0m\u001b[0;34m\u001b[0m\u001b[0m\n\u001b[0m\u001b[1;32m     73\u001b[0m                 \u001b[0mvalue\u001b[0m \u001b[0;34m=\u001b[0m \u001b[0mvalue\u001b[0m\u001b[0;34m.\u001b[0m\u001b[0mdetach\u001b[0m\u001b[0;34m(\u001b[0m\u001b[0;34m)\u001b[0m\u001b[0;34m.\u001b[0m\u001b[0mitem\u001b[0m\u001b[0;34m(\u001b[0m\u001b[0;34m)\u001b[0m\u001b[0;34m\u001b[0m\u001b[0;34m\u001b[0m\u001b[0m\n\u001b[1;32m     74\u001b[0m                 action, log_prob, entropy = self.env.process_action(policy_dist.detach().squeeze(0),\n",
            "\u001b[0;32m/content/sokoban_rl/models.py\u001b[0m in \u001b[0;36mforward\u001b[0;34m(self, state)\u001b[0m\n\u001b[1;32m    285\u001b[0m     \u001b[0;32mdef\u001b[0m \u001b[0mforward\u001b[0m\u001b[0;34m(\u001b[0m\u001b[0mself\u001b[0m\u001b[0;34m,\u001b[0m \u001b[0mstate\u001b[0m\u001b[0;34m)\u001b[0m\u001b[0;34m:\u001b[0m\u001b[0;34m\u001b[0m\u001b[0;34m\u001b[0m\u001b[0m\n\u001b[1;32m    286\u001b[0m         \u001b[0mstate\u001b[0m \u001b[0;34m=\u001b[0m \u001b[0mtorch\u001b[0m\u001b[0;34m.\u001b[0m\u001b[0mfrom_numpy\u001b[0m\u001b[0;34m(\u001b[0m\u001b[0mstate\u001b[0m\u001b[0;34m)\u001b[0m\u001b[0;34m.\u001b[0m\u001b[0mfloat\u001b[0m\u001b[0;34m(\u001b[0m\u001b[0;34m)\u001b[0m\u001b[0;34m.\u001b[0m\u001b[0munsqueeze\u001b[0m\u001b[0;34m(\u001b[0m\u001b[0;36m0\u001b[0m\u001b[0;34m)\u001b[0m\u001b[0;34m.\u001b[0m\u001b[0mto\u001b[0m\u001b[0;34m(\u001b[0m\u001b[0mself\u001b[0m\u001b[0;34m.\u001b[0m\u001b[0mdevice\u001b[0m\u001b[0;34m)\u001b[0m\u001b[0;34m\u001b[0m\u001b[0;34m\u001b[0m\u001b[0m\n\u001b[0;32m--> 287\u001b[0;31m         \u001b[0mcommon\u001b[0m \u001b[0;34m=\u001b[0m \u001b[0mself\u001b[0m\u001b[0;34m.\u001b[0m\u001b[0mcommon\u001b[0m\u001b[0;34m(\u001b[0m\u001b[0mstate\u001b[0m\u001b[0;34m.\u001b[0m\u001b[0munsqueeze\u001b[0m\u001b[0;34m(\u001b[0m\u001b[0;36m0\u001b[0m\u001b[0;34m)\u001b[0m\u001b[0;34m)\u001b[0m\u001b[0;34m\u001b[0m\u001b[0;34m\u001b[0m\u001b[0m\n\u001b[0m\u001b[1;32m    288\u001b[0m         \u001b[0mpolicy_dist\u001b[0m \u001b[0;34m=\u001b[0m \u001b[0mF\u001b[0m\u001b[0;34m.\u001b[0m\u001b[0msoftmax\u001b[0m\u001b[0;34m(\u001b[0m\u001b[0mself\u001b[0m\u001b[0;34m.\u001b[0m\u001b[0mactor\u001b[0m\u001b[0;34m(\u001b[0m\u001b[0mcommon\u001b[0m\u001b[0;34m)\u001b[0m\u001b[0;34m.\u001b[0m\u001b[0mview\u001b[0m\u001b[0;34m(\u001b[0m\u001b[0mself\u001b[0m\u001b[0;34m.\u001b[0m\u001b[0mnum_actions\u001b[0m\u001b[0;34m,\u001b[0m \u001b[0mself\u001b[0m\u001b[0;34m.\u001b[0m\u001b[0mnum_discrete\u001b[0m\u001b[0;34m)\u001b[0m\u001b[0;34m,\u001b[0m \u001b[0mdim\u001b[0m\u001b[0;34m=\u001b[0m\u001b[0;36m1\u001b[0m\u001b[0;34m)\u001b[0m\u001b[0;34m\u001b[0m\u001b[0;34m\u001b[0m\u001b[0m\n\u001b[1;32m    289\u001b[0m         \u001b[0mcritic1\u001b[0m \u001b[0;34m=\u001b[0m \u001b[0mself\u001b[0m\u001b[0;34m.\u001b[0m\u001b[0mcritic1\u001b[0m\u001b[0;34m(\u001b[0m\u001b[0mcommon\u001b[0m\u001b[0;34m)\u001b[0m\u001b[0;34m\u001b[0m\u001b[0;34m\u001b[0m\u001b[0m\n",
            "\u001b[0;32m/usr/local/lib/python3.7/dist-packages/torch/nn/modules/module.py\u001b[0m in \u001b[0;36m_call_impl\u001b[0;34m(self, *input, **kwargs)\u001b[0m\n\u001b[1;32m   1049\u001b[0m         if not (self._backward_hooks or self._forward_hooks or self._forward_pre_hooks or _global_backward_hooks\n\u001b[1;32m   1050\u001b[0m                 or _global_forward_hooks or _global_forward_pre_hooks):\n\u001b[0;32m-> 1051\u001b[0;31m             \u001b[0;32mreturn\u001b[0m \u001b[0mforward_call\u001b[0m\u001b[0;34m(\u001b[0m\u001b[0;34m*\u001b[0m\u001b[0minput\u001b[0m\u001b[0;34m,\u001b[0m \u001b[0;34m**\u001b[0m\u001b[0mkwargs\u001b[0m\u001b[0;34m)\u001b[0m\u001b[0;34m\u001b[0m\u001b[0;34m\u001b[0m\u001b[0m\n\u001b[0m\u001b[1;32m   1052\u001b[0m         \u001b[0;31m# Do not call functions when jit is used\u001b[0m\u001b[0;34m\u001b[0m\u001b[0;34m\u001b[0m\u001b[0;34m\u001b[0m\u001b[0m\n\u001b[1;32m   1053\u001b[0m         \u001b[0mfull_backward_hooks\u001b[0m\u001b[0;34m,\u001b[0m \u001b[0mnon_full_backward_hooks\u001b[0m \u001b[0;34m=\u001b[0m \u001b[0;34m[\u001b[0m\u001b[0;34m]\u001b[0m\u001b[0;34m,\u001b[0m \u001b[0;34m[\u001b[0m\u001b[0;34m]\u001b[0m\u001b[0;34m\u001b[0m\u001b[0;34m\u001b[0m\u001b[0m\n",
            "\u001b[0;32m/usr/local/lib/python3.7/dist-packages/torch/nn/modules/container.py\u001b[0m in \u001b[0;36mforward\u001b[0;34m(self, input)\u001b[0m\n\u001b[1;32m    137\u001b[0m     \u001b[0;32mdef\u001b[0m \u001b[0mforward\u001b[0m\u001b[0;34m(\u001b[0m\u001b[0mself\u001b[0m\u001b[0;34m,\u001b[0m \u001b[0minput\u001b[0m\u001b[0;34m)\u001b[0m\u001b[0;34m:\u001b[0m\u001b[0;34m\u001b[0m\u001b[0;34m\u001b[0m\u001b[0m\n\u001b[1;32m    138\u001b[0m         \u001b[0;32mfor\u001b[0m \u001b[0mmodule\u001b[0m \u001b[0;32min\u001b[0m \u001b[0mself\u001b[0m\u001b[0;34m:\u001b[0m\u001b[0;34m\u001b[0m\u001b[0;34m\u001b[0m\u001b[0m\n\u001b[0;32m--> 139\u001b[0;31m             \u001b[0minput\u001b[0m \u001b[0;34m=\u001b[0m \u001b[0mmodule\u001b[0m\u001b[0;34m(\u001b[0m\u001b[0minput\u001b[0m\u001b[0;34m)\u001b[0m\u001b[0;34m\u001b[0m\u001b[0;34m\u001b[0m\u001b[0m\n\u001b[0m\u001b[1;32m    140\u001b[0m         \u001b[0;32mreturn\u001b[0m \u001b[0minput\u001b[0m\u001b[0;34m\u001b[0m\u001b[0;34m\u001b[0m\u001b[0m\n\u001b[1;32m    141\u001b[0m \u001b[0;34m\u001b[0m\u001b[0m\n",
            "\u001b[0;32m/usr/local/lib/python3.7/dist-packages/torch/nn/modules/module.py\u001b[0m in \u001b[0;36m_call_impl\u001b[0;34m(self, *input, **kwargs)\u001b[0m\n\u001b[1;32m   1049\u001b[0m         if not (self._backward_hooks or self._forward_hooks or self._forward_pre_hooks or _global_backward_hooks\n\u001b[1;32m   1050\u001b[0m                 or _global_forward_hooks or _global_forward_pre_hooks):\n\u001b[0;32m-> 1051\u001b[0;31m             \u001b[0;32mreturn\u001b[0m \u001b[0mforward_call\u001b[0m\u001b[0;34m(\u001b[0m\u001b[0;34m*\u001b[0m\u001b[0minput\u001b[0m\u001b[0;34m,\u001b[0m \u001b[0;34m**\u001b[0m\u001b[0mkwargs\u001b[0m\u001b[0;34m)\u001b[0m\u001b[0;34m\u001b[0m\u001b[0;34m\u001b[0m\u001b[0m\n\u001b[0m\u001b[1;32m   1052\u001b[0m         \u001b[0;31m# Do not call functions when jit is used\u001b[0m\u001b[0;34m\u001b[0m\u001b[0;34m\u001b[0m\u001b[0;34m\u001b[0m\u001b[0m\n\u001b[1;32m   1053\u001b[0m         \u001b[0mfull_backward_hooks\u001b[0m\u001b[0;34m,\u001b[0m \u001b[0mnon_full_backward_hooks\u001b[0m \u001b[0;34m=\u001b[0m \u001b[0;34m[\u001b[0m\u001b[0;34m]\u001b[0m\u001b[0;34m,\u001b[0m \u001b[0;34m[\u001b[0m\u001b[0;34m]\u001b[0m\u001b[0;34m\u001b[0m\u001b[0;34m\u001b[0m\u001b[0m\n",
            "\u001b[0;32m/usr/local/lib/python3.7/dist-packages/torch/nn/modules/conv.py\u001b[0m in \u001b[0;36mforward\u001b[0;34m(self, input)\u001b[0m\n\u001b[1;32m    296\u001b[0m \u001b[0;34m\u001b[0m\u001b[0m\n\u001b[1;32m    297\u001b[0m     \u001b[0;32mdef\u001b[0m \u001b[0mforward\u001b[0m\u001b[0;34m(\u001b[0m\u001b[0mself\u001b[0m\u001b[0;34m,\u001b[0m \u001b[0minput\u001b[0m\u001b[0;34m:\u001b[0m \u001b[0mTensor\u001b[0m\u001b[0;34m)\u001b[0m \u001b[0;34m->\u001b[0m \u001b[0mTensor\u001b[0m\u001b[0;34m:\u001b[0m\u001b[0;34m\u001b[0m\u001b[0;34m\u001b[0m\u001b[0m\n\u001b[0;32m--> 298\u001b[0;31m         \u001b[0;32mreturn\u001b[0m \u001b[0mself\u001b[0m\u001b[0;34m.\u001b[0m\u001b[0m_conv_forward\u001b[0m\u001b[0;34m(\u001b[0m\u001b[0minput\u001b[0m\u001b[0;34m,\u001b[0m \u001b[0mself\u001b[0m\u001b[0;34m.\u001b[0m\u001b[0mweight\u001b[0m\u001b[0;34m,\u001b[0m \u001b[0mself\u001b[0m\u001b[0;34m.\u001b[0m\u001b[0mbias\u001b[0m\u001b[0;34m)\u001b[0m\u001b[0;34m\u001b[0m\u001b[0;34m\u001b[0m\u001b[0m\n\u001b[0m\u001b[1;32m    299\u001b[0m \u001b[0;34m\u001b[0m\u001b[0m\n\u001b[1;32m    300\u001b[0m \u001b[0;34m\u001b[0m\u001b[0m\n",
            "\u001b[0;32m/usr/local/lib/python3.7/dist-packages/torch/nn/modules/conv.py\u001b[0m in \u001b[0;36m_conv_forward\u001b[0;34m(self, input, weight, bias)\u001b[0m\n\u001b[1;32m    293\u001b[0m                             _single(0), self.dilation, self.groups)\n\u001b[1;32m    294\u001b[0m         return F.conv1d(input, weight, bias, self.stride,\n\u001b[0;32m--> 295\u001b[0;31m                         self.padding, self.dilation, self.groups)\n\u001b[0m\u001b[1;32m    296\u001b[0m \u001b[0;34m\u001b[0m\u001b[0m\n\u001b[1;32m    297\u001b[0m     \u001b[0;32mdef\u001b[0m \u001b[0mforward\u001b[0m\u001b[0;34m(\u001b[0m\u001b[0mself\u001b[0m\u001b[0;34m,\u001b[0m \u001b[0minput\u001b[0m\u001b[0;34m:\u001b[0m \u001b[0mTensor\u001b[0m\u001b[0;34m)\u001b[0m \u001b[0;34m->\u001b[0m \u001b[0mTensor\u001b[0m\u001b[0;34m:\u001b[0m\u001b[0;34m\u001b[0m\u001b[0;34m\u001b[0m\u001b[0m\n",
            "\u001b[0;31mKeyboardInterrupt\u001b[0m: "
          ]
        }
      ]
    },
    {
      "cell_type": "markdown",
      "metadata": {
        "id": "7QX4eSSv00HX"
      },
      "source": [
        "#### Train a gaussian agent for 10K epochs"
      ]
    },
    {
      "cell_type": "code",
      "metadata": {
        "colab": {
          "base_uri": "https://localhost:8080/",
          "height": 406
        },
        "id": "IPYqy_GROAff",
        "outputId": "83d21f53-9d93-4143-d54f-ae583dbe0f74"
      },
      "source": [
        "num_iterations = 1\n",
        "pkl_save_path = os.path.join(DRIVE_PATH, 'best_gaussian.pkl')\n",
        "gaussian_agent = find_best(SplitGaussianActorCritic, A2CAgent, num_iterations, pkl_save_path, epochs=10000,\n",
        "                           action_type='GAUSSIAN')"
      ],
      "execution_count": null,
      "outputs": [
        {
          "name": "stdout",
          "output_type": "stream",
          "text": [
            "#################### Attempt 0  ####################\n",
            "Using CUDA\n",
            "episode: 100, stats for last 100 episodes:\tavg reward: -1099.581\tavg traj reward: -13.028\tavg length: 84.400\t avg time: 0.170\ttricks_used:56\n"
          ]
        },
        {
          "ename": "RuntimeError",
          "evalue": "ignored",
          "output_type": "error",
          "traceback": [
            "\u001b[0;31m---------------------------------------------------------------------------\u001b[0m",
            "\u001b[0;31mRuntimeError\u001b[0m                              Traceback (most recent call last)",
            "\u001b[0;32m<ipython-input-8-08e3096b99d7>\u001b[0m in \u001b[0;36m<module>\u001b[0;34m()\u001b[0m\n\u001b[1;32m      2\u001b[0m \u001b[0mpkl_save_path\u001b[0m \u001b[0;34m=\u001b[0m \u001b[0mos\u001b[0m\u001b[0;34m.\u001b[0m\u001b[0mpath\u001b[0m\u001b[0;34m.\u001b[0m\u001b[0mjoin\u001b[0m\u001b[0;34m(\u001b[0m\u001b[0mDRIVE_PATH\u001b[0m\u001b[0;34m,\u001b[0m \u001b[0;34m'best_gaussian.pkl'\u001b[0m\u001b[0;34m)\u001b[0m\u001b[0;34m\u001b[0m\u001b[0;34m\u001b[0m\u001b[0m\n\u001b[1;32m      3\u001b[0m gaussian_agent = find_best(SplitGaussianActorCritic, A2CAgent, num_iterations, pkl_save_path, epochs=10000,\n\u001b[0;32m----> 4\u001b[0;31m                            action_type='GAUSSIAN')\n\u001b[0m",
            "\u001b[0;32m<ipython-input-4-c3f09b443fcb>\u001b[0m in \u001b[0;36mfind_best\u001b[0;34m(model_type, agent_type, num_iterations, pkl_save_path, epochs, action_type)\u001b[0m\n\u001b[1;32m     49\u001b[0m                         stop_trick_at=STOP_TRICK_AT)\n\u001b[1;32m     50\u001b[0m         \u001b[0;32mexcept\u001b[0m \u001b[0mException\u001b[0m \u001b[0;32mas\u001b[0m \u001b[0me\u001b[0m\u001b[0;34m:\u001b[0m\u001b[0;34m\u001b[0m\u001b[0;34m\u001b[0m\u001b[0m\n\u001b[0;32m---> 51\u001b[0;31m             \u001b[0;32mraise\u001b[0m \u001b[0me\u001b[0m\u001b[0;34m\u001b[0m\u001b[0;34m\u001b[0m\u001b[0m\n\u001b[0m\u001b[1;32m     52\u001b[0m         \u001b[0;32mfinally\u001b[0m\u001b[0;34m:\u001b[0m\u001b[0;34m\u001b[0m\u001b[0;34m\u001b[0m\u001b[0m\n\u001b[1;32m     53\u001b[0m             \u001b[0mend\u001b[0m \u001b[0;34m=\u001b[0m \u001b[0mtime\u001b[0m\u001b[0;34m.\u001b[0m\u001b[0mtime\u001b[0m\u001b[0;34m(\u001b[0m\u001b[0;34m)\u001b[0m\u001b[0;34m\u001b[0m\u001b[0;34m\u001b[0m\u001b[0m\n",
            "\u001b[0;32m<ipython-input-4-c3f09b443fcb>\u001b[0m in \u001b[0;36mfind_best\u001b[0;34m(model_type, agent_type, num_iterations, pkl_save_path, epochs, action_type)\u001b[0m\n\u001b[1;32m     47\u001b[0m                         \u001b[0mlog_interval\u001b[0m\u001b[0;34m=\u001b[0m\u001b[0mLOG_INTERVAL\u001b[0m\u001b[0;34m,\u001b[0m\u001b[0;34m\u001b[0m\u001b[0;34m\u001b[0m\u001b[0m\n\u001b[1;32m     48\u001b[0m                         \u001b[0mscheduler_interval\u001b[0m\u001b[0;34m=\u001b[0m\u001b[0mSCHED_INTERVAL\u001b[0m\u001b[0;34m,\u001b[0m\u001b[0;34m\u001b[0m\u001b[0;34m\u001b[0m\u001b[0m\n\u001b[0;32m---> 49\u001b[0;31m                         stop_trick_at=STOP_TRICK_AT)\n\u001b[0m\u001b[1;32m     50\u001b[0m         \u001b[0;32mexcept\u001b[0m \u001b[0mException\u001b[0m \u001b[0;32mas\u001b[0m \u001b[0me\u001b[0m\u001b[0;34m:\u001b[0m\u001b[0;34m\u001b[0m\u001b[0;34m\u001b[0m\u001b[0m\n\u001b[1;32m     51\u001b[0m             \u001b[0;32mraise\u001b[0m \u001b[0me\u001b[0m\u001b[0;34m\u001b[0m\u001b[0;34m\u001b[0m\u001b[0m\n",
            "\u001b[0;32m/content/sokoban_rl/a2c_agent.py\u001b[0m in \u001b[0;36mtrain\u001b[0;34m(self, epochs, trajectory_len, env_gen, lr, discount_gamma, scheduler_gamma, beta, print_interval, log_interval, save_interval, scheduler_interval, clip_gradient, stop_trick_at, **kwargs)\u001b[0m\n\u001b[1;32m     66\u001b[0m \u001b[0;34m\u001b[0m\u001b[0m\n\u001b[1;32m     67\u001b[0m             \u001b[0;32mfor\u001b[0m \u001b[0mstep\u001b[0m \u001b[0;32min\u001b[0m \u001b[0mrange\u001b[0m\u001b[0;34m(\u001b[0m\u001b[0mself\u001b[0m\u001b[0;34m.\u001b[0m\u001b[0menv\u001b[0m\u001b[0;34m.\u001b[0m\u001b[0mmax_steps\u001b[0m\u001b[0;34m)\u001b[0m\u001b[0;34m:\u001b[0m\u001b[0;34m\u001b[0m\u001b[0;34m\u001b[0m\u001b[0m\n\u001b[0;32m---> 68\u001b[0;31m                 \u001b[0mvalue\u001b[0m\u001b[0;34m,\u001b[0m \u001b[0mpolicy_dist\u001b[0m \u001b[0;34m=\u001b[0m \u001b[0mself\u001b[0m\u001b[0;34m.\u001b[0m\u001b[0mmodel\u001b[0m\u001b[0;34m.\u001b[0m\u001b[0mforward\u001b[0m\u001b[0;34m(\u001b[0m\u001b[0mstate\u001b[0m\u001b[0;34m)\u001b[0m\u001b[0;34m\u001b[0m\u001b[0;34m\u001b[0m\u001b[0m\n\u001b[0m\u001b[1;32m     69\u001b[0m                 \u001b[0mvalue\u001b[0m \u001b[0;34m=\u001b[0m \u001b[0mvalue\u001b[0m\u001b[0;34m.\u001b[0m\u001b[0mdetach\u001b[0m\u001b[0;34m(\u001b[0m\u001b[0;34m)\u001b[0m\u001b[0;34m.\u001b[0m\u001b[0mitem\u001b[0m\u001b[0;34m(\u001b[0m\u001b[0;34m)\u001b[0m\u001b[0;34m\u001b[0m\u001b[0;34m\u001b[0m\u001b[0m\n\u001b[1;32m     70\u001b[0m                 action, log_prob, entropy = self.env.process_action(policy_dist.detach().squeeze(0),\n",
            "\u001b[0;32m/content/sokoban_rl/models.py\u001b[0m in \u001b[0;36mforward\u001b[0;34m(self, state)\u001b[0m\n\u001b[1;32m    323\u001b[0m         \u001b[0msigma\u001b[0m \u001b[0;34m=\u001b[0m \u001b[0mF\u001b[0m\u001b[0;34m.\u001b[0m\u001b[0msoftplus\u001b[0m\u001b[0;34m(\u001b[0m\u001b[0msigma\u001b[0m \u001b[0;34m-\u001b[0m \u001b[0mself\u001b[0m\u001b[0;34m.\u001b[0m\u001b[0mstd_bias\u001b[0m\u001b[0;34m,\u001b[0m \u001b[0mbeta\u001b[0m\u001b[0;34m=\u001b[0m\u001b[0;36m1\u001b[0m\u001b[0;34m)\u001b[0m\u001b[0;34m\u001b[0m\u001b[0;34m\u001b[0m\u001b[0m\n\u001b[1;32m    324\u001b[0m         \u001b[0;32mif\u001b[0m \u001b[0mtorch\u001b[0m\u001b[0;34m.\u001b[0m\u001b[0misnan\u001b[0m\u001b[0;34m(\u001b[0m\u001b[0mmu\u001b[0m\u001b[0;34m)\u001b[0m\u001b[0;34m.\u001b[0m\u001b[0many\u001b[0m\u001b[0;34m(\u001b[0m\u001b[0;34m)\u001b[0m \u001b[0;32mor\u001b[0m \u001b[0mtorch\u001b[0m\u001b[0;34m.\u001b[0m\u001b[0misnan\u001b[0m\u001b[0;34m(\u001b[0m\u001b[0msigma\u001b[0m\u001b[0;34m)\u001b[0m\u001b[0;34m.\u001b[0m\u001b[0many\u001b[0m\u001b[0;34m(\u001b[0m\u001b[0;34m)\u001b[0m\u001b[0;34m:\u001b[0m\u001b[0;34m\u001b[0m\u001b[0;34m\u001b[0m\u001b[0m\n\u001b[0;32m--> 325\u001b[0;31m             \u001b[0;32mraise\u001b[0m\u001b[0;34m\u001b[0m\u001b[0;34m\u001b[0m\u001b[0m\n\u001b[0m\u001b[1;32m    326\u001b[0m         \u001b[0;32mreturn\u001b[0m \u001b[0mvalue\u001b[0m\u001b[0;34m,\u001b[0m \u001b[0mtorch\u001b[0m\u001b[0;34m.\u001b[0m\u001b[0mstack\u001b[0m\u001b[0;34m(\u001b[0m\u001b[0;34m(\u001b[0m\u001b[0mmu\u001b[0m\u001b[0;34m,\u001b[0m \u001b[0msigma\u001b[0m\u001b[0;34m)\u001b[0m\u001b[0;34m)\u001b[0m\u001b[0;34m\u001b[0m\u001b[0;34m\u001b[0m\u001b[0m\n\u001b[1;32m    327\u001b[0m \u001b[0;34m\u001b[0m\u001b[0m\n",
            "\u001b[0;31mRuntimeError\u001b[0m: No active exception to reraise"
          ]
        }
      ]
    },
    {
      "cell_type": "markdown",
      "metadata": {
        "id": "jKTe7Ul803Y4"
      },
      "source": [
        "#### Train a DQN agent with PER for 10K epochs"
      ]
    },
    {
      "cell_type": "code",
      "metadata": {
        "id": "6-J1wiI396L3"
      },
      "source": [
        "SCHED_GAMMA = 0.9\n",
        "SCHED_INTERVAL = 1000"
      ],
      "execution_count": null,
      "outputs": []
    },
    {
      "cell_type": "code",
      "metadata": {
        "id": "17sEssrV4SWf"
      },
      "source": [
        "num_iterations = 1\n",
        "pkl_save_path = os.path.join(DRIVE_PATH, 'best_dqn.pkl')\n",
        "dqn_per_agent = find_best(DiscretizedDQN, DQNAgent, num_iterations, pkl_save_path, epochs=10000,\n",
        "                           action_type='DISCRETIZIED')"
      ],
      "execution_count": null,
      "outputs": []
    },
    {
      "cell_type": "markdown",
      "metadata": {
        "id": "s0t-FwHA4XOn"
      },
      "source": [
        "#### Train a DQN agent with out PER for 10K epochs"
      ]
    },
    {
      "cell_type": "code",
      "metadata": {
        "id": "hsqWALtk4Xm3"
      },
      "source": [
        "num_iterations = 1\n",
        "pkl_save_path = os.path.join(DRIVE_PATH, 'best_dqn_no_per.pkl')\n",
        "dqn_per_agent = find_best(DiscretizedDQN, DQNAgent, num_iterations, pkl_save_path, epochs=10000,\n",
        "                           action_type='DISCRETIZIED', no_per=True)"
      ],
      "execution_count": null,
      "outputs": []
    },
    {
      "cell_type": "code",
      "metadata": {
        "id": "i2H5JNp1oQOU"
      },
      "source": [
        ""
      ],
      "execution_count": null,
      "outputs": []
    },
    {
      "cell_type": "code",
      "metadata": {
        "id": "jLfX6jbQvw4a"
      },
      "source": [
        ""
      ],
      "execution_count": null,
      "outputs": []
    }
  ]
}